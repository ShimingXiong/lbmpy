{
 "cells": [
  {
   "cell_type": "code",
   "execution_count": 2,
   "metadata": {},
   "outputs": [],
   "source": [
    "from lbmpy.session import *\n",
    "from lbmpy.phasefield.analytical import *\n",
    "from pystencils.fd import evaluate_diffs"
   ]
  },
  {
   "cell_type": "markdown",
   "metadata": {},
   "source": [
    "# Analytical checks for 3-Phase model\n",
    "\n",
    "Here you can inspect the components of the free energy. View only bulk or interface contributions, before and after transformation from $U \\rightarrow (\\rho, \\phi,\\psi)$:"
   ]
  },
  {
   "cell_type": "code",
   "execution_count": 3,
   "metadata": {},
   "outputs": [
    {
     "data": {
      "text/latex": [
       "$$\\frac{\\alpha^{2} \\kappa_{0}}{2} {\\partial (\\frac{\\phi}{2} - \\frac{\\psi}{2} + \\frac{\\rho}{2}) }^{2} + \\frac{\\alpha^{2} \\kappa_{1}}{2} {\\partial (- \\frac{\\phi}{2} - \\frac{\\psi}{2} + \\frac{\\rho}{2}) }^{2} + \\frac{\\alpha^{2} \\kappa_{2}}{2} {\\partial \\psi}^{2} + \\frac{\\kappa_{0}}{2} \\left(\\frac{\\phi}{2} - \\frac{\\psi}{2} + \\frac{\\rho}{2}\\right)^{2} \\left(- \\frac{\\phi}{2} + \\frac{\\psi}{2} - \\frac{\\rho}{2} + 1\\right)^{2} + \\frac{\\kappa_{1}}{2} \\left(- \\frac{\\phi}{2} - \\frac{\\psi}{2} + \\frac{\\rho}{2}\\right)^{2} \\left(\\frac{\\phi}{2} + \\frac{\\psi}{2} - \\frac{\\rho}{2} + 1\\right)^{2} + \\frac{\\kappa_{2} \\psi^{2}}{2} \\left(- \\psi + 1\\right)^{2}$$"
      ],
      "text/plain": [
       "                                                                              \n",
       "                                                                              \n",
       " 2                            2    2                             2    2       \n",
       "α ⋅κ₀⋅D(phi/2 - psi/2 + rho/2)    α ⋅κ₁⋅D(-phi/2 - psi/2 + rho/2)    α ⋅κ₂⋅D(p\n",
       "─────────────────────────────── + ──────────────────────────────── + ─────────\n",
       "               2                                 2                         2  \n",
       "\n",
       "                     2                  2                   2                2\n",
       "          ⎛φ   ψ   ρ⎞  ⎛  φ   ψ   ρ    ⎞       ⎛  φ   ψ   ρ⎞  ⎛φ   ψ   ρ    ⎞ \n",
       "   2   κ₀⋅⎜─ - ─ + ─⎟ ⋅⎜- ─ + ─ - ─ + 1⎟    κ₁⋅⎜- ─ - ─ + ─⎟ ⋅⎜─ + ─ - ─ + 1⎟ \n",
       "si)       ⎝2   2   2⎠  ⎝  2   2   2    ⎠       ⎝  2   2   2⎠  ⎝2   2   2    ⎠ \n",
       "──── + ────────────────────────────────── + ──────────────────────────────────\n",
       "                       2                                    2                 \n",
       "\n",
       "                  \n",
       "                  \n",
       "       2         2\n",
       "   κ₂⋅ψ ⋅(-ψ + 1) \n",
       " + ───────────────\n",
       "          2       "
      ]
     },
     "execution_count": 3,
     "metadata": {},
     "output_type": "execute_result"
    }
   ],
   "source": [
    "order_parameters = sp.symbols(\"rho phi psi\")\n",
    "rho, phi, psi = order_parameters\n",
    "F, _ = free_energy_functional_3_phases(include_bulk=True,\n",
    "                                       include_interface=True,\n",
    "                                       transformed=True,\n",
    "                                       expand_derivatives=False)\n",
    "F"
   ]
  },
  {
   "cell_type": "markdown",
   "metadata": {},
   "source": [
    "### Analytically checking the phase transition profile\n"
   ]
  },
  {
   "cell_type": "markdown",
   "metadata": {},
   "source": [
    "Automatically deriving chemical potential as functional derivative of free energy"
   ]
  },
  {
   "cell_type": "code",
   "execution_count": 4,
   "metadata": {},
   "outputs": [
    {
     "data": {
      "text/latex": [
       "$$- \\frac{\\alpha^{2} \\kappa_{0}}{4} {\\partial {\\partial \\phi}} + \\frac{\\alpha^{2} \\kappa_{0}}{4} {\\partial {\\partial \\psi}} - \\frac{\\alpha^{2} \\kappa_{0}}{4} {\\partial {\\partial \\rho}} + \\frac{\\alpha^{2} \\kappa_{1}}{4} {\\partial {\\partial \\phi}} + \\frac{\\alpha^{2} \\kappa_{1}}{4} {\\partial {\\partial \\psi}} - \\frac{\\alpha^{2} \\kappa_{1}}{4} {\\partial {\\partial \\rho}} + \\frac{\\kappa_{0} \\phi^{3}}{8} - \\frac{3 \\kappa_{0}}{8} \\phi^{2} \\psi + \\frac{3 \\kappa_{0}}{8} \\phi^{2} \\rho - \\frac{3 \\kappa_{0}}{8} \\phi^{2} + \\frac{3 \\kappa_{0}}{8} \\phi \\psi^{2} - \\frac{3 \\kappa_{0}}{4} \\phi \\psi \\rho + \\frac{3 \\kappa_{0}}{4} \\phi \\psi + \\frac{3 \\kappa_{0}}{8} \\phi \\rho^{2} - \\frac{3 \\kappa_{0}}{4} \\phi \\rho + \\frac{\\kappa_{0} \\phi}{4} - \\frac{\\kappa_{0} \\psi^{3}}{8} + \\frac{3 \\kappa_{0}}{8} \\psi^{2} \\rho - \\frac{3 \\kappa_{0}}{8} \\psi^{2} - \\frac{3 \\kappa_{0}}{8} \\psi \\rho^{2} + \\frac{3 \\kappa_{0}}{4} \\psi \\rho - \\frac{\\kappa_{0} \\psi}{4} + \\frac{\\kappa_{0} \\rho^{3}}{8} - \\frac{3 \\kappa_{0}}{8} \\rho^{2} + \\frac{\\kappa_{0} \\rho}{4} - \\frac{\\kappa_{1} \\phi^{3}}{8} - \\frac{3 \\kappa_{1}}{8} \\phi^{2} \\psi + \\frac{3 \\kappa_{1}}{8} \\phi^{2} \\rho - \\frac{3 \\kappa_{1}}{8} \\phi^{2} - \\frac{3 \\kappa_{1}}{8} \\phi \\psi^{2} + \\frac{3 \\kappa_{1}}{4} \\phi \\psi \\rho - \\frac{3 \\kappa_{1}}{4} \\phi \\psi - \\frac{3 \\kappa_{1}}{8} \\phi \\rho^{2} + \\frac{3 \\kappa_{1}}{4} \\phi \\rho - \\frac{\\kappa_{1} \\phi}{4} - \\frac{\\kappa_{1} \\psi^{3}}{8} + \\frac{3 \\kappa_{1}}{8} \\psi^{2} \\rho - \\frac{3 \\kappa_{1}}{8} \\psi^{2} - \\frac{3 \\kappa_{1}}{8} \\psi \\rho^{2} + \\frac{3 \\kappa_{1}}{4} \\psi \\rho - \\frac{\\kappa_{1} \\psi}{4} + \\frac{\\kappa_{1} \\rho^{3}}{8} - \\frac{3 \\kappa_{1}}{8} \\rho^{2} + \\frac{\\kappa_{1} \\rho}{4}$$"
      ],
      "text/plain": [
       "   2                 2                 2                 2                 2  \n",
       "  α ⋅κ₀⋅D(D(phi))   α ⋅κ₀⋅D(D(psi))   α ⋅κ₀⋅D(D(rho))   α ⋅κ₁⋅D(D(phi))   α ⋅κ\n",
       "- ─────────────── + ─────────────── - ─────────────── + ─────────────── + ────\n",
       "         4                 4                 4                 4              \n",
       "\n",
       "               2                    3         2           2           2       \n",
       "₁⋅D(D(psi))   α ⋅κ₁⋅D(D(rho))   κ₀⋅φ    3⋅κ₀⋅φ ⋅ψ   3⋅κ₀⋅φ ⋅ρ   3⋅κ₀⋅φ    3⋅κ₀\n",
       "─────────── - ─────────────── + ───── - ───────── + ───────── - ─────── + ────\n",
       "   4                 4            8         8           8          8          \n",
       "\n",
       "    2                                   2                         3         2 \n",
       "⋅φ⋅ψ    3⋅κ₀⋅φ⋅ψ⋅ρ   3⋅κ₀⋅φ⋅ψ   3⋅κ₀⋅φ⋅ρ    3⋅κ₀⋅φ⋅ρ   κ₀⋅φ   κ₀⋅ψ    3⋅κ₀⋅ψ ⋅\n",
       "───── - ────────── + ──────── + ───────── - ──────── + ──── - ───── + ────────\n",
       "8           4           4           8          4        4       8         8   \n",
       "\n",
       "          2           2                         3         2              3    \n",
       "ρ   3⋅κ₀⋅ψ    3⋅κ₀⋅ψ⋅ρ    3⋅κ₀⋅ψ⋅ρ   κ₀⋅ψ   κ₀⋅ρ    3⋅κ₀⋅ρ    κ₀⋅ρ   κ₁⋅φ    3\n",
       "─ - ─────── - ───────── + ──────── - ──── + ───── - ─────── + ──── - ───── - ─\n",
       "       8          8          4        4       8        8       4       8      \n",
       "\n",
       "     2           2           2           2                                   2\n",
       "⋅κ₁⋅φ ⋅ψ   3⋅κ₁⋅φ ⋅ρ   3⋅κ₁⋅φ    3⋅κ₁⋅φ⋅ψ    3⋅κ₁⋅φ⋅ψ⋅ρ   3⋅κ₁⋅φ⋅ψ   3⋅κ₁⋅φ⋅ρ \n",
       "──────── + ───────── - ─────── - ───────── + ────────── - ──────── - ─────────\n",
       "   8           8          8          8           4           4           8    \n",
       "\n",
       "                         3         2           2           2                  \n",
       "   3⋅κ₁⋅φ⋅ρ   κ₁⋅φ   κ₁⋅ψ    3⋅κ₁⋅ψ ⋅ρ   3⋅κ₁⋅ψ    3⋅κ₁⋅ψ⋅ρ    3⋅κ₁⋅ψ⋅ρ   κ₁⋅ψ\n",
       " + ──────── - ──── - ───── + ───────── - ─────── - ───────── + ──────── - ────\n",
       "      4        4       8         8          8          8          4        4  \n",
       "\n",
       "       3         2       \n",
       "   κ₁⋅ρ    3⋅κ₁⋅ρ    κ₁⋅ρ\n",
       " + ───── - ─────── + ────\n",
       "     8        8       4  "
      ]
     },
     "execution_count": 4,
     "metadata": {},
     "output_type": "execute_result"
    }
   ],
   "source": [
    "F, _ = free_energy_functional_3_phases(order_parameters)\n",
    "\n",
    "mu_diff_eq = chemical_potentials_from_free_energy(F, order_parameters)\n",
    "mu_diff_eq[0]"
   ]
  },
  {
   "cell_type": "markdown",
   "metadata": {},
   "source": [
    "Checking if expected profile is a solution of the differential equation:"
   ]
  },
  {
   "cell_type": "code",
   "execution_count": 5,
   "metadata": {},
   "outputs": [
    {
     "data": {
      "image/png": "[encoded data removed]",
      "text/latex": [
       "$$\\frac{1}{2} \\tanh{\\left (\\frac{x}{2 \\alpha} \\right )} + \\frac{1}{2}$$"
      ],
      "text/plain": [
       "    ⎛ x ⎞    \n",
       "tanh⎜───⎟    \n",
       "    ⎝2⋅α⎠   1\n",
       "───────── + ─\n",
       "    2       2"
      ]
     },
     "execution_count": 5,
     "metadata": {},
     "output_type": "execute_result"
    }
   ],
   "source": [
    "x = sp.symbols(\"x\")\n",
    "expectedProfile = analytic_interface_profile(x)\n",
    "expectedProfile\n"
   ]
  },
  {
   "cell_type": "markdown",
   "metadata": {},
   "source": [
    "Checking a phase transition from $C_0$ to $C_2$. This means that $\\rho=1$ while $phi$ and $psi$ are the analytical profile or 1-analytical profile"
   ]
  },
  {
   "cell_type": "code",
   "execution_count": 6,
   "metadata": {},
   "outputs": [],
   "source": [
    "for eq in mu_diff_eq:\n",
    "    eq = eq.subs({rho: 1,\n",
    "                  phi: 1 - expectedProfile,\n",
    "                  psi: expectedProfile})\n",
    "    eq = evaluate_diffs(eq, x).expand()\n",
    "    assert eq == 0"
   ]
  },
  {
   "cell_type": "markdown",
   "metadata": {},
   "source": [
    "### Checking the surface tensions parameters\n"
   ]
  },
  {
   "cell_type": "code",
   "execution_count": 9,
   "metadata": {},
   "outputs": [
    {
     "data": {
      "image/png": "[encoded data removed]",
      "text/latex": [
       "$$\\frac{\\kappa_{0} + \\kappa_{2}}{16 \\cosh^{4}{\\left (\\frac{x}{2 \\alpha} \\right )}}$$"
      ],
      "text/plain": [
       "   κ₀ + κ₂   \n",
       "─────────────\n",
       "       4⎛ x ⎞\n",
       "16⋅cosh ⎜───⎟\n",
       "        ⎝2⋅α⎠"
      ]
     },
     "execution_count": 9,
     "metadata": {},
     "output_type": "execute_result"
    }
   ],
   "source": [
    "F, _ = free_energy_functional_3_phases(order_parameters)\n",
    "F = expand_diff_linear(F, functions=order_parameters)  # expand derivatives using product rule\n",
    "two_phase_free_energy = F.subs({rho: 1,\n",
    "                                phi: 1 - expectedProfile,\n",
    "                                psi: expectedProfile})\n",
    "\n",
    "two_phase_free_energy = sp.simplify(evaluate_diffs(two_phase_free_energy, x))\n",
    "two_phase_free_energy"
   ]
  },
  {
   "cell_type": "code",
   "execution_count": 10,
   "metadata": {},
   "outputs": [
    {
     "data": {
      "image/png": "[encoded data removed]",
      "text/latex": [
       "$$\\frac{\\alpha}{6} \\left(\\kappa_{0} + \\kappa_{2}\\right)$$"
      ],
      "text/plain": [
       "α⋅(κ₀ + κ₂)\n",
       "───────────\n",
       "     6     "
      ]
     },
     "execution_count": 10,
     "metadata": {},
     "output_type": "execute_result"
    }
   ],
   "source": [
    "gamma = cosh_integral(two_phase_free_energy, x)\n",
    "gamma"
   ]
  },
  {
   "cell_type": "code",
   "execution_count": 11,
   "metadata": {},
   "outputs": [],
   "source": [
    "alpha, k0, k2 = sp.symbols(\"alpha, kappa_0, kappa_2\")\n",
    "assert gamma == alpha/6 * (k0 + k2)"
   ]
  }
 ],
 "metadata": {
  "kernelspec": {
   "display_name": "Python 3",
   "language": "python",
   "name": "python3"
  },
  "language_info": {
   "codemirror_mode": {
    "name": "ipython",
    "version": 3
   },
   "file_extension": ".py",
   "mimetype": "text/x-python",
   "name": "python",
   "nbconvert_exporter": "python",
   "pygments_lexer": "ipython3",
   "version": "3.6.5"
  }
 },
 "nbformat": 4,
 "nbformat_minor": 2
}
