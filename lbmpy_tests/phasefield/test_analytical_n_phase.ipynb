{
 "cells": [
  {
   "cell_type": "code",
   "execution_count": 1,
   "metadata": {},
   "outputs": [],
   "source": [
    "from lbmpy.session import *\n",
    "from lbmpy.phasefield.analytical import *\n",
    "from functools import partial"
   ]
  },
  {
   "cell_type": "markdown",
   "metadata": {},
   "source": [
    "# Analytical checks for N-Phase model"
   ]
  },
  {
   "cell_type": "markdown",
   "metadata": {},
   "source": [
    "### Formulation of free energy"
   ]
  },
  {
   "cell_type": "markdown",
   "metadata": {},
   "source": [
    "In the next cell you can inspect the formulation of the free energy functional. \n",
    "Bulk and interface terms can be viewed separately."
   ]
  },
  {
   "cell_type": "code",
   "execution_count": 2,
   "metadata": {},
   "outputs": [
    {
     "data": {
      "image/png": "[encoded data removed]",
      "text/latex": [
       "$$\\frac{3}{2 \\alpha} \\left(\\tau_{0 1} \\left(\\phi_{0}^{2} \\left(- \\phi_{0} + 1\\right)^{2} + \\phi_{1}^{2} \\left(- \\phi_{1} + 1\\right)^{2} - \\begin{cases} - \\left(\\phi_{0} + \\phi_{1}\\right)^{2} & \\text{for}\\: \\phi_{0} + \\phi_{1} < 0 \\\\- \\left(- \\phi_{0} - \\phi_{1} + 1\\right)^{2} & \\text{for}\\: \\phi_{0} + \\phi_{1} > 1 \\\\\\left(\\phi_{0} + \\phi_{1}\\right)^{2} \\left(- \\phi_{0} - \\phi_{1} + 1\\right)^{2} & \\text{otherwise} \\end{cases}\\right) + \\tau_{0 2} \\left(\\phi_{0}^{2} \\left(- \\phi_{0} + 1\\right)^{2} + \\left(\\phi_{0} + \\phi_{1}\\right)^{2} \\left(- \\phi_{0} - \\phi_{1} + 1\\right)^{2} - \\begin{cases} - \\left(- \\phi_{1} + 1\\right)^{2} & \\text{for}\\: - \\phi_{1} + 1 < 0 \\\\- \\phi_{1}^{2} & \\text{for}\\: - \\phi_{1} + 1 > 1 \\\\\\phi_{1}^{2} \\left(- \\phi_{1} + 1\\right)^{2} & \\text{otherwise} \\end{cases}\\right) + \\tau_{1 2} \\left(\\phi_{1}^{2} \\left(- \\phi_{1} + 1\\right)^{2} + \\left(\\phi_{0} + \\phi_{1}\\right)^{2} \\left(- \\phi_{0} - \\phi_{1} + 1\\right)^{2} - \\begin{cases} - \\left(- \\phi_{0} + 1\\right)^{2} & \\text{for}\\: - \\phi_{0} + 1 < 0 \\\\- \\phi_{0}^{2} & \\text{for}\\: - \\phi_{0} + 1 > 1 \\\\\\phi_{0}^{2} \\left(- \\phi_{0} + 1\\right)^{2} & \\text{otherwise} \\end{cases}\\right)\\right)$$"
      ],
      "text/plain": [
       "  ⎛     ⎛                                  ⎛⎧                 2               \n",
       "  ⎜     ⎜                                  ⎜⎪       -(φ₀ + φ₁)           for φ\n",
       "  ⎜     ⎜                                  ⎜⎪                                 \n",
       "  ⎜     ⎜  2          2     2          2   ⎜⎪                    2            \n",
       "3⋅⎜τ₀ ₁⋅⎜φ₀ ⋅(-φ₀ + 1)  + φ₁ ⋅(-φ₁ + 1)  - ⎜⎨     -(-φ₀ - φ₁ + 1)        for φ\n",
       "  ⎜     ⎜                                  ⎜⎪                                 \n",
       "  ⎜     ⎜                                  ⎜⎪         2               2       \n",
       "  ⎜     ⎜                                  ⎜⎪(φ₀ + φ₁) ⋅(-φ₀ - φ₁ + 1)      ot\n",
       "  ⎝     ⎝                                  ⎝⎩                                 \n",
       "──────────────────────────────────────────────────────────────────────────────\n",
       "                                                                              \n",
       "\n",
       "          ⎞⎞        ⎛                                              ⎛⎧         \n",
       "₀ + φ₁ < 0⎟⎟        ⎜                                              ⎜⎪ -(-φ₁ + \n",
       "          ⎟⎟        ⎜                                              ⎜⎪         \n",
       "          ⎟⎟        ⎜  2          2            2               2   ⎜⎪        2\n",
       "₀ + φ₁ > 1⎟⎟ + τ₀ ₂⋅⎜φ₀ ⋅(-φ₀ + 1)  + (φ₀ + φ₁) ⋅(-φ₀ - φ₁ + 1)  - ⎜⎨     -φ₁ \n",
       "          ⎟⎟        ⎜                                              ⎜⎪         \n",
       "          ⎟⎟        ⎜                                              ⎜⎪  2      \n",
       "herwise   ⎟⎟        ⎜                                              ⎜⎪φ₁ ⋅(-φ₁ \n",
       "          ⎠⎠        ⎝                                              ⎝⎩         \n",
       "──────────────────────────────────────────────────────────────────────────────\n",
       "                                                        2⋅α                   \n",
       "\n",
       "  2                   ⎞⎞        ⎛                                             \n",
       "1)     for -φ₁ + 1 < 0⎟⎟        ⎜                                             \n",
       "                      ⎟⎟        ⎜                                             \n",
       "                      ⎟⎟        ⎜  2          2            2               2  \n",
       "       for -φ₁ + 1 > 1⎟⎟ + τ₁ ₂⋅⎜φ₁ ⋅(-φ₁ + 1)  + (φ₀ + φ₁) ⋅(-φ₀ - φ₁ + 1)  -\n",
       "                      ⎟⎟        ⎜                                             \n",
       "    2                 ⎟⎟        ⎜                                             \n",
       "+ 1)      otherwise   ⎟⎟        ⎜                                             \n",
       "                      ⎠⎠        ⎝                                             \n",
       "──────────────────────────────────────────────────────────────────────────────\n",
       "                                                                              \n",
       "\n",
       " ⎛⎧           2                   ⎞⎞⎞\n",
       " ⎜⎪ -(-φ₀ + 1)     for -φ₀ + 1 < 0⎟⎟⎟\n",
       " ⎜⎪                               ⎟⎟⎟\n",
       " ⎜⎪        2                      ⎟⎟⎟\n",
       " ⎜⎨     -φ₀        for -φ₀ + 1 > 1⎟⎟⎟\n",
       " ⎜⎪                               ⎟⎟⎟\n",
       " ⎜⎪  2          2                 ⎟⎟⎟\n",
       " ⎜⎪φ₀ ⋅(-φ₀ + 1)      otherwise   ⎟⎟⎟\n",
       " ⎝⎩                               ⎠⎠⎠\n",
       "─────────────────────────────────────\n",
       "                                     "
      ]
     },
     "execution_count": 2,
     "metadata": {},
     "output_type": "execute_result"
    }
   ],
   "source": [
    "num_phases = 3\n",
    "order_params = symbolic_order_parameters(num_symbols=num_phases-1)\n",
    "f2 = partial(n_phases_correction_function, beta=1)\n",
    "F = free_energy_functional_n_phases(order_parameters=order_params, \n",
    "                                    include_interface=False, f2=f2,\n",
    "                                    include_bulk=True )\n",
    "F"
   ]
  },
  {
   "cell_type": "markdown",
   "metadata": {},
   "source": [
    "### Analytically checking the phase transition profile\n",
    "\n",
    "First we define the order parameters and free energy, including bulk and interface terms:"
   ]
  },
  {
   "cell_type": "code",
   "execution_count": 3,
   "metadata": {},
   "outputs": [],
   "source": [
    "F = free_energy_functional_n_phases(order_parameters=symbolic_order_parameters(num_symbols=num_phases-1))"
   ]
  },
  {
   "cell_type": "markdown",
   "metadata": {},
   "source": [
    "Then we automatically derive the differential equations for the chemial potential $\\mu$"
   ]
  },
  {
   "cell_type": "code",
   "execution_count": 4,
   "metadata": {},
   "outputs": [
    {
     "data": {
      "text/latex": [
       "$$3 \\alpha \\tau_{0 1} {\\partial {\\partial \\phi_{1}}} - 6 \\alpha \\tau_{0 2} {\\partial {\\partial \\phi_{0}}} - 3 \\alpha \\tau_{0 2} {\\partial {\\partial \\phi_{1}}} - 3 \\alpha \\tau_{1 2} {\\partial {\\partial \\phi_{1}}} + \\frac{12 \\phi_{0}^{3}}{\\alpha} \\tau_{0 2} - \\frac{18 \\phi_{1}}{\\alpha} \\phi_{0}^{2} \\tau_{0 1} + \\frac{18 \\phi_{1}}{\\alpha} \\phi_{0}^{2} \\tau_{0 2} + \\frac{18 \\phi_{1}}{\\alpha} \\phi_{0}^{2} \\tau_{1 2} - \\frac{18 \\phi_{0}^{2}}{\\alpha} \\tau_{0 2} - \\frac{18 \\phi_{0}}{\\alpha} \\phi_{1}^{2} \\tau_{0 1} + \\frac{18 \\phi_{0}}{\\alpha} \\phi_{1}^{2} \\tau_{0 2} + \\frac{18 \\phi_{0}}{\\alpha} \\phi_{1}^{2} \\tau_{1 2} + \\frac{18 \\phi_{0}}{\\alpha} \\phi_{1} \\tau_{0 1} - \\frac{18 \\phi_{0}}{\\alpha} \\phi_{1} \\tau_{0 2} - \\frac{18 \\phi_{0}}{\\alpha} \\phi_{1} \\tau_{1 2} + \\frac{6 \\phi_{0}}{\\alpha} \\tau_{0 2} - \\frac{6 \\phi_{1}^{3}}{\\alpha} \\tau_{0 1} + \\frac{6 \\phi_{1}^{3}}{\\alpha} \\tau_{0 2} + \\frac{6 \\phi_{1}^{3}}{\\alpha} \\tau_{1 2} + \\frac{9 \\phi_{1}^{2}}{\\alpha} \\tau_{0 1} - \\frac{9 \\phi_{1}^{2}}{\\alpha} \\tau_{0 2} - \\frac{9 \\phi_{1}^{2}}{\\alpha} \\tau_{1 2} - \\frac{3 \\phi_{1}}{\\alpha} \\tau_{0 1} + \\frac{3 \\phi_{1}}{\\alpha} \\tau_{0 2} + \\frac{3 \\phi_{1}}{\\alpha} \\tau_{1 2}$$"
      ],
      "text/plain": [
       "                                                                              \n",
       "                                                                              \n",
       "3⋅α⋅τ₀ ₁⋅D(D(phi_1)) - 6⋅α⋅τ₀ ₂⋅D(D(phi_0)) - 3⋅α⋅τ₀ ₂⋅D(D(phi_1)) - 3⋅α⋅τ₁ ₂⋅\n",
       "                                                                              \n",
       "\n",
       "                   3             2                2                2          \n",
       "              12⋅φ₀ ⋅τ₀ ₂   18⋅φ₀ ⋅φ₁⋅τ₀ ₁   18⋅φ₀ ⋅φ₁⋅τ₀ ₂   18⋅φ₀ ⋅φ₁⋅τ₁ ₂  \n",
       "D(D(phi_1)) + ─────────── - ────────────── + ────────────── + ────────────── -\n",
       "                   α              α                α                α         \n",
       "\n",
       "      2                2                2                2                    \n",
       " 18⋅φ₀ ⋅τ₀ ₂   18⋅φ₀⋅φ₁ ⋅τ₀ ₁   18⋅φ₀⋅φ₁ ⋅τ₀ ₂   18⋅φ₀⋅φ₁ ⋅τ₁ ₂   18⋅φ₀⋅φ₁⋅τ₀ \n",
       " ─────────── - ────────────── + ────────────── + ────────────── + ────────────\n",
       "      α              α                α                α                α     \n",
       "\n",
       "                                                    3            3            \n",
       "₁   18⋅φ₀⋅φ₁⋅τ₀ ₂   18⋅φ₀⋅φ₁⋅τ₁ ₂   6⋅φ₀⋅τ₀ ₂   6⋅φ₁ ⋅τ₀ ₁   6⋅φ₁ ⋅τ₀ ₂   6⋅φ₁\n",
       "─ - ───────────── - ───────────── + ───────── - ────────── + ────────── + ────\n",
       "          α               α             α           α            α            \n",
       "\n",
       "3            2            2            2                                      \n",
       " ⋅τ₁ ₂   9⋅φ₁ ⋅τ₀ ₁   9⋅φ₁ ⋅τ₀ ₂   9⋅φ₁ ⋅τ₁ ₂   3⋅φ₁⋅τ₀ ₁   3⋅φ₁⋅τ₀ ₂   3⋅φ₁⋅τ\n",
       "────── + ────────── - ────────── - ────────── - ───────── + ───────── + ──────\n",
       "α            α            α            α            α           α           α \n",
       "\n",
       "   \n",
       "₁ ₂\n",
       "───\n",
       "   "
      ]
     },
     "execution_count": 4,
     "metadata": {},
     "output_type": "execute_result"
    }
   ],
   "source": [
    "mu_diff_eq = chemical_potentials_from_free_energy(F, order_params)\n",
    "\n",
    "# there is one equation less than phases\n",
    "assert len(mu_diff_eq) == num_phases - 1\n",
    "\n",
    "# show the first one\n",
    "mu_diff_eq[0]"
   ]
  },
  {
   "cell_type": "markdown",
   "metadata": {},
   "source": [
    "Next we check, that the $tanh$ is indeed a solution of this equation..."
   ]
  },
  {
   "cell_type": "code",
   "execution_count": 5,
   "metadata": {},
   "outputs": [
    {
     "data": {
      "image/png": "[encoded data removed]",
      "text/latex": [
       "$$\\frac{1}{2} \\tanh{\\left (\\frac{x}{2 \\alpha} \\right )} + \\frac{1}{2}$$"
      ],
      "text/plain": [
       "    ⎛ x ⎞    \n",
       "tanh⎜───⎟    \n",
       "    ⎝2⋅α⎠   1\n",
       "───────── + ─\n",
       "    2       2"
      ]
     },
     "execution_count": 5,
     "metadata": {},
     "output_type": "execute_result"
    }
   ],
   "source": [
    "x = sp.symbols(\"x\")\n",
    "expected_profile = analytic_interface_profile(x)\n",
    "expected_profile"
   ]
  },
  {
   "cell_type": "markdown",
   "metadata": {},
   "source": [
    "... by inserting it for $\\phi_0$, and setting all other order parameters to zero"
   ]
  },
  {
   "cell_type": "code",
   "execution_count": 6,
   "metadata": {},
   "outputs": [
    {
     "data": {
      "text/latex": [
       "$$- \\frac{3 \\tau_{0 2}}{2 \\alpha} \\left(4 \\alpha^{2} {\\partial {\\partial (\\frac{1}{2} \\tanh{\\left (\\frac{x}{2 \\alpha} \\right )} + \\frac{1}{2}) }} - \\tanh^{3}{\\left (\\frac{x}{2 \\alpha} \\right )} + \\tanh{\\left (\\frac{x}{2 \\alpha} \\right )}\\right)$$"
      ],
      "text/plain": [
       "        ⎛   2                                       3⎛ x ⎞       ⎛ x ⎞⎞ \n",
       "-3⋅τ₀ ₂⋅⎜4⋅α ⋅D(D(tanh(x/(2*alpha))/2 + 1/2)) - tanh ⎜───⎟ + tanh⎜───⎟⎟ \n",
       "        ⎝                                            ⎝2⋅α⎠       ⎝2⋅α⎠⎠ \n",
       "────────────────────────────────────────────────────────────────────────\n",
       "                                  2⋅α                                   "
      ]
     },
     "execution_count": 6,
     "metadata": {},
     "output_type": "execute_result"
    }
   ],
   "source": [
    "# zero other parameters\n",
    "diff_eq = mu_diff_eq[0].subs({p: 0 for p in order_params[1:]})\n",
    "\n",
    "# insert analytical solution\n",
    "diff_eq = diff_eq.subs(order_params[0], expected_profile)\n",
    "diff_eq.factor()"
   ]
  },
  {
   "cell_type": "markdown",
   "metadata": {},
   "source": [
    "finally the differentials have to be evaluated..."
   ]
  },
  {
   "cell_type": "code",
   "execution_count": 7,
   "metadata": {},
   "outputs": [
    {
     "data": {
      "image/png": "[encoded data removed]",
      "text/latex": [
       "$$\\frac{12}{\\alpha} \\tau_{0 2} \\left(\\frac{1}{2} \\tanh{\\left (\\frac{x}{2 \\alpha} \\right )} + \\frac{1}{2}\\right)^{3} - \\frac{18}{\\alpha} \\tau_{0 2} \\left(\\frac{1}{2} \\tanh{\\left (\\frac{x}{2 \\alpha} \\right )} + \\frac{1}{2}\\right)^{2} + \\frac{6}{\\alpha} \\tau_{0 2} \\left(\\frac{1}{2} \\tanh{\\left (\\frac{x}{2 \\alpha} \\right )} + \\frac{1}{2}\\right) + \\frac{3 \\tau_{0 2}}{2 \\alpha} \\left(- \\tanh^{2}{\\left (\\frac{x}{2 \\alpha} \\right )} + 1\\right) \\tanh{\\left (\\frac{x}{2 \\alpha} \\right )}$$"
      ],
      "text/plain": [
       "                       3                          2                           \n",
       "        ⎛    ⎛ x ⎞    ⎞            ⎛    ⎛ x ⎞    ⎞           ⎛    ⎛ x ⎞    ⎞  \n",
       "        ⎜tanh⎜───⎟    ⎟            ⎜tanh⎜───⎟    ⎟           ⎜tanh⎜───⎟    ⎟  \n",
       "        ⎜    ⎝2⋅α⎠   1⎟            ⎜    ⎝2⋅α⎠   1⎟           ⎜    ⎝2⋅α⎠   1⎟  \n",
       "12⋅τ₀ ₂⋅⎜───────── + ─⎟    18⋅τ₀ ₂⋅⎜───────── + ─⎟    6⋅τ₀ ₂⋅⎜───────── + ─⎟  \n",
       "        ⎝    2       2⎠            ⎝    2       2⎠           ⎝    2       2⎠  \n",
       "──────────────────────── - ──────────────────────── + ────────────────────── +\n",
       "           α                          α                         α             \n",
       "\n",
       "                                    \n",
       "                                    \n",
       "                                    \n",
       "        ⎛      2⎛ x ⎞    ⎞     ⎛ x ⎞\n",
       " 3⋅τ₀ ₂⋅⎜- tanh ⎜───⎟ + 1⎟⋅tanh⎜───⎟\n",
       "        ⎝       ⎝2⋅α⎠    ⎠     ⎝2⋅α⎠\n",
       " ───────────────────────────────────\n",
       "                 2⋅α                "
      ]
     },
     "execution_count": 7,
     "metadata": {},
     "output_type": "execute_result"
    }
   ],
   "source": [
    "from pystencils.fd import evaluate_diffs\n",
    "diff_eq = evaluate_diffs(diff_eq, x)\n",
    "diff_eq"
   ]
  },
  {
   "cell_type": "markdown",
   "metadata": {},
   "source": [
    ".. and the result simplified..."
   ]
  },
  {
   "cell_type": "code",
   "execution_count": 8,
   "metadata": {},
   "outputs": [
    {
     "data": {
      "image/png": "[encoded data removed]",
      "text/latex": [
       "$$0$$"
      ],
      "text/plain": [
       "0"
      ]
     },
     "execution_count": 8,
     "metadata": {},
     "output_type": "execute_result"
    }
   ],
   "source": [
    "assert diff_eq.expand() == 0\n",
    "diff_eq.expand()"
   ]
  },
  {
   "cell_type": "markdown",
   "metadata": {},
   "source": [
    "...and indeed the expected tanh profile satisfies this differential equation.\n",
    "\n",
    "Next lets check for the interface between phase 0 and phase 1:"
   ]
  },
  {
   "cell_type": "code",
   "execution_count": 9,
   "metadata": {},
   "outputs": [],
   "source": [
    "for diff_eq in mu_diff_eq:\n",
    "    eq = diff_eq.subs({order_params[0]: expected_profile,\n",
    "                       order_params[1]: 1 - expected_profile})\n",
    "    assert evaluate_diffs(eq, x).expand() == 0"
   ]
  },
  {
   "cell_type": "markdown",
   "metadata": {},
   "source": [
    "### Checking the surface tensions parameters\n",
    "\n",
    "Computing the excess free energy per unit area of an interface between two phases.\n",
    "This should be exactly the surface tension parameter."
   ]
  },
  {
   "cell_type": "code",
   "execution_count": 10,
   "metadata": {},
   "outputs": [],
   "source": [
    "order_params = symbolic_order_parameters(num_symbols=num_phases-1)\n",
    "F = free_energy_functional_n_phases(order_parameters=order_params)"
   ]
  },
  {
   "cell_type": "code",
   "execution_count": 11,
   "metadata": {},
   "outputs": [],
   "source": [
    "two_phase_free_energy = F.subs({order_params[0]: expected_profile,\n",
    "                                order_params[1]: 1 - expected_profile})\n",
    "\n",
    "# Evaluate differentials and simplification\n",
    "two_phase_free_energy = sp.simplify(evaluate_diffs(two_phase_free_energy, x))"
   ]
  },
  {
   "cell_type": "code",
   "execution_count": 12,
   "metadata": {},
   "outputs": [
    {
     "data": {
      "image/png": "[encoded data removed]",
      "text/latex": [
       "$$\\int \\frac{3 \\tau_{0 1}}{8 \\alpha \\cosh^{4}{\\left (\\frac{x}{2 \\alpha} \\right )}}\\, dx$$"
      ],
      "text/plain": [
       "⌠                  \n",
       "⎮     3⋅τ₀ ₁       \n",
       "⎮ ────────────── dx\n",
       "⎮         4⎛ x ⎞   \n",
       "⎮ 8⋅α⋅cosh ⎜───⎟   \n",
       "⎮          ⎝2⋅α⎠   \n",
       "⌡                  "
      ]
     },
     "execution_count": 12,
     "metadata": {},
     "output_type": "execute_result"
    }
   ],
   "source": [
    "excess_free_energy = sp.Integral(two_phase_free_energy, x)\n",
    "excess_free_energy"
   ]
  },
  {
   "cell_type": "markdown",
   "metadata": {},
   "source": [
    "Sympy cannot integrate this automatically - help with a manual substitution $\\frac{x}{2\\alpha} \\rightarrow u$"
   ]
  },
  {
   "cell_type": "code",
   "execution_count": 13,
   "metadata": {},
   "outputs": [
    {
     "data": {
      "image/png": "[encoded data removed]",
      "text/latex": [
       "$$\\int \\frac{3 \\tau_{0 1}}{4 \\cosh^{4}{\\left (u \\right )}}\\, du$$"
      ],
      "text/plain": [
       "⌠              \n",
       "⎮   3⋅τ₀ ₁     \n",
       "⎮ ────────── du\n",
       "⎮       4      \n",
       "⎮ 4⋅cosh (u)   \n",
       "⌡              "
      ]
     },
     "execution_count": 13,
     "metadata": {},
     "output_type": "execute_result"
    }
   ],
   "source": [
    "coshTerm = list(excess_free_energy.atoms(sp.cosh))[0]\n",
    "transformed_int = excess_free_energy.transform(coshTerm.args[0], sp.Symbol(\"u\", real=True))\n",
    "transformed_int"
   ]
  },
  {
   "cell_type": "markdown",
   "metadata": {},
   "source": [
    "Now the integral can be done:"
   ]
  },
  {
   "cell_type": "code",
   "execution_count": 14,
   "metadata": {},
   "outputs": [
    {
     "data": {
      "image/png": "[encoded data removed]",
      "text/latex": [
       "$$\\tau_{0 1}$$"
      ],
      "text/plain": [
       "τ₀ ₁"
      ]
     },
     "execution_count": 14,
     "metadata": {},
     "output_type": "execute_result"
    }
   ],
   "source": [
    "result = sp.integrate(transformed_int.args[0], (transformed_int.args[1][0], -sp.oo, sp.oo))\n",
    "assert result == symmetric_symbolic_surface_tension(0,1)\n",
    "result"
   ]
  }
 ],
 "metadata": {
  "kernelspec": {
   "display_name": "Python 3",
   "language": "python",
   "name": "python3"
  },
  "language_info": {
   "codemirror_mode": {
    "name": "ipython",
    "version": 3
   },
   "file_extension": ".py",
   "mimetype": "text/x-python",
   "name": "python",
   "nbconvert_exporter": "python",
   "pygments_lexer": "ipython3",
   "version": "3.6.6"
  }
 },
 "nbformat": 4,
 "nbformat_minor": 2
}
