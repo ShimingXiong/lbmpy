{
 "cells": [
  {
   "cell_type": "code",
   "execution_count": 1,
   "metadata": {},
   "outputs": [],
   "source": [
    "from lbmpy.session import *\n",
    "from lbmpy.phasefield.analytical import *\n",
    "from lbmpy.phasefield.eos import *\n",
    "from lbmpy.phasefield.high_density_ratio_model import *\n",
    "from pystencils.fd.derivative import replace_generic_laplacian\n",
    "from pystencils.fd.spatial import discretize_spatial, \\\n",
    "        fd_stencils_standard, fd_stencils_isotropic, fd_stencils_isotropic_high_density_code\n",
    "from lbmpy.phasefield.cahn_hilliard_lbm import cahn_hilliard_lb_method\n",
    "from lbmpy.forcemodels import EDM\n",
    "from lbmpy.macroscopic_value_kernels import pdf_initialization_assignments\n",
    "from scipy.ndimage.filters import gaussian_filter"
   ]
  },
  {
   "cell_type": "markdown",
   "metadata": {},
   "source": [
    "# Implementation of high density difference model\n",
    "\n",
    "According to *\"Ternary free-energy entropic lattice Boltzmann model with high density ratio\" by Wöhrwag, Semprebon, Mazloomi, Karlin and Kusumaatmaja*\n",
    "\n",
    "Up front we define all necessary parameters in one place:"
   ]
  },
  {
   "cell_type": "code",
   "execution_count": 2,
   "metadata": {},
   "outputs": [],
   "source": [
    "a = 0.037\n",
    "b = 0.2\n",
    "reduced_temperature = 0.61\n",
    "gas_constant = 1\n",
    "κ = (0.01, 1, 1)\n",
    "λ = (0.6, 1, 1)\n",
    "χ = 5\n",
    "φ_relaxation_rate = 1\n",
    "ρ_relaxation_rate = 1\n",
    "external_force = (0, 0)\n",
    "clipping = False\n",
    "\n",
    "domain_size = (100, 100)\n",
    "stencil = get_stencil('D2Q9', ordering='uk')\n",
    "\n",
    "fd_discretization = fd_stencils_isotropic_high_density_code\n",
    "target = 'cpu'\n",
    "threads = 4"
   ]
  },
  {
   "cell_type": "markdown",
   "metadata": {},
   "source": [
    "## Part 1: Free Energy\n",
    "\n",
    "The free energy of this model contains a term that is derived from an equation of state. The equation of state and its parametrization determines the density of the liquid and gas phase. \n",
    "\n",
    "Here we use the Carnahan-Starling EOS, with the parametrization from the paper"
   ]
  },
  {
   "cell_type": "code",
   "execution_count": 3,
   "metadata": {},
   "outputs": [
    {
     "data": {
      "image/png": "[encoded data removed]",
      "text/latex": [
       "$$- 0.037 \\rho^{2} + \\frac{0.042578305 \\rho \\left(- 0.000125 \\rho^{3} + 0.0025 \\rho^{2} + 0.05 \\rho + 1\\right)}{\\left(- 0.05 \\rho + 1\\right)^{3}}$$"
      ],
      "text/plain": [
       "                           ⎛            3           2             ⎞\n",
       "         2   0.042578305⋅ρ⋅⎝- 0.000125⋅ρ  + 0.0025⋅ρ  + 0.05⋅ρ + 1⎠\n",
       "- 0.037⋅ρ  + ──────────────────────────────────────────────────────\n",
       "                                              3                    \n",
       "                                 (-0.05⋅ρ + 1)                     "
      ]
     },
     "execution_count": 3,
     "metadata": {},
     "output_type": "execute_result"
    }
   ],
   "source": [
    "ρ, φ, c_l1, c_l2 = sp.symbols(\"rho, phi, c_l1, c_l2\")\n",
    "\n",
    "critical_temperature = carnahan_starling_critical_temperature(a, b, gas_constant)\n",
    "temperature = reduced_temperature * critical_temperature\n",
    "\n",
    "eos = carnahan_starling_eos(ρ, gas_constant, temperature, a, b)\n",
    "eos"
   ]
  },
  {
   "cell_type": "markdown",
   "metadata": {},
   "source": [
    "Next, we use a function that determines the gas and liquid density, using the Maxwell construction rule. This function uses an iterative procedure, that terminates when the equal-area condition is fulfilled with a certain tolerance. "
   ]
  },
  {
   "cell_type": "code",
   "execution_count": 4,
   "metadata": {},
   "outputs": [
    {
     "data": {
      "image/png": "[encoded data removed]",
      "text/latex": [
       "$$\\left ( 0.0695273860315274, \\quad 8.02904149705209, \\quad 115.480272671423\\right )$$"
      ],
      "text/plain": [
       "(0.0695273860315274, 8.02904149705209, 115.480272671423)"
      ]
     },
     "execution_count": 4,
     "metadata": {},
     "output_type": "execute_result"
    }
   ],
   "source": [
    "ρ_g, ρ_l = maxwell_construction(eos, tolerance=1e-3)\n",
    "(ρ_g, ρ_l, ρ_l / ρ_g)"
   ]
  },
  {
   "cell_type": "markdown",
   "metadata": {},
   "source": [
    "With this information we call a function that assembles the full free energy density:"
   ]
  },
  {
   "cell_type": "code",
   "execution_count": 5,
   "metadata": {},
   "outputs": [
    {
     "data": {
      "text/latex": [
       "$$0.5 c_{l1}^{2} \\left(- c_{l1} + 1\\right)^{2} + 0.5 c_{l2}^{2} \\left(- c_{l2} + 1\\right)^{2} + 0.3 \\rho \\left(- 0.037 \\rho - \\frac{1.0 \\left(1.7031322 \\rho - 51.0939660000001\\right)}{1.0 \\rho^{2} - 40.0 \\rho + 400.0} + 0.042578305 \\log{\\left (1.0 \\rho \\right )} - 0.0530922164415325\\right) + 0.5 {\\partial c_{l1}}^{2} + 0.5 {\\partial c_{l2}}^{2} + 0.005 {\\partial \\rho}^{2} + 0.00085206629489322$$"
      ],
      "text/plain": [
       "       2           2          2           2         ⎛           1.0⋅(1.7031322\n",
       "0.5⋅cₗ₁ ⋅(-cₗ₁ + 1)  + 0.5⋅cₗ₂ ⋅(-cₗ₂ + 1)  + 0.3⋅ρ⋅⎜-0.037⋅ρ - ──────────────\n",
       "                                                    ⎜                      2  \n",
       "                                                    ⎝                 1.0⋅ρ  -\n",
       "\n",
       "⋅ρ - 51.0939660000001)                                              ⎞         \n",
       "────────────────────── + 0.042578305⋅log(1.0⋅ρ) - 0.0530922164415325⎟ + 0.5⋅D(\n",
       "                                                                    ⎟         \n",
       " 40.0⋅ρ + 400.0                                                     ⎠         \n",
       "\n",
       "     2              2               2                      \n",
       "c_l1)  + 0.5⋅D(c_l2)  + 0.005⋅D(rho)  + 0.00085206629489322\n",
       "                                                           \n",
       "                                                           "
      ]
     },
     "execution_count": 5,
     "metadata": {},
     "output_type": "execute_result"
    }
   ],
   "source": [
    "free_energy = free_energy_high_density_ratio(eos, ρ, ρ_g, ρ_l, c_l1, c_l2, λ, κ)\n",
    "free_energy"
   ]
  },
  {
   "cell_type": "markdown",
   "metadata": {},
   "source": [
    "This is the free energy expressed in the order parameters $\\rho, c_{l1}, c_{l2}$. Next we have to transform it into coordinates $\\rho, \\phi$. "
   ]
  },
  {
   "cell_type": "code",
   "execution_count": 6,
   "metadata": {},
   "outputs": [],
   "source": [
    "transformation_eqs = [ c_l1 - (1 + φ/χ - (ρ - ρ_l)/(ρ_g - ρ_l)) / 2,\n",
    "                       c_l2 - (1 - φ/χ - (ρ - ρ_l)/(ρ_g - ρ_l)) / 2]\n",
    "transform_forward_substitutions = sp.solve(transformation_eqs, [c_l1, c_l2])\n",
    "transform_backward_substitutions = sp.solve(transformation_eqs, [ρ, φ])"
   ]
  },
  {
   "cell_type": "markdown",
   "metadata": {},
   "source": [
    "To do the transformation, we use the substitutions dict.\n",
    "After the substitutions the differentials have to be expanded again."
   ]
  },
  {
   "cell_type": "code",
   "execution_count": 7,
   "metadata": {},
   "outputs": [
    {
     "data": {
      "image/png": "[encoded data removed]",
      "text/latex": [
       "$$\\left\\{\\phi, \\rho\\right\\}$$"
      ],
      "text/plain": [
       "{φ, ρ}"
      ]
     },
     "execution_count": 7,
     "metadata": {},
     "output_type": "execute_result"
    }
   ],
   "source": [
    "free_energy_transformed = free_energy.subs(transform_forward_substitutions)\n",
    "free_energy_transformed = expand_diff_full(free_energy_transformed, functions=(ρ, φ))\n",
    "free_energy_transformed.atoms(sp.Symbol)"
   ]
  },
  {
   "cell_type": "markdown",
   "metadata": {},
   "source": [
    "Now the free energy depends only on ρ and φ. This transformed form is later used to derive expressions for the chemical potential, pressure tensor and force computations."
   ]
  },
  {
   "cell_type": "markdown",
   "metadata": {},
   "source": [
    "## Part 2: Data setup"
   ]
  },
  {
   "cell_type": "code",
   "execution_count": 8,
   "metadata": {},
   "outputs": [],
   "source": [
    "dh = create_data_handling(domain_size, periodicity=True, default_target=target)\n",
    "\n",
    "# Fields for order parameters\n",
    "ρ_field = dh.add_array(\"rho\")\n",
    "φ_field = dh.add_array(\"phi\")\n",
    "c_field = dh.add_array(\"c\", values_per_cell=2)\n",
    "\n",
    "# Chemical potential, pressure tensor, forces and velocities\n",
    "μ_phi_field = dh.add_array(\"mu_phi\", latex_name=r\"\\mu_{\\phi}\")\n",
    "pbs_field = dh.add_array(\"pbs\")\n",
    "pressure_tensor_field = dh.add_array(\"p\", len(symmetric_tensor_linearization(dh.dim)))\n",
    "force_field = dh.add_array(\"force\", values_per_cell=dh.dim, latex_name=\"F\")\n",
    "vel_field = dh.add_array(\"velocity\", values_per_cell=dh.dim)\n",
    "\n",
    "# PDF fields for lattice Boltzmann schemes\n",
    "pdf_src_rho = dh.add_array(\"pdf_src_rho\", values_per_cell=len(stencil))\n",
    "pdf_dst_rho = dh.add_array_like(\"pdf_dst_rho\", \"pdf_src_rho\")\n",
    "\n",
    "pdf_src_phi = dh.add_array(\"pdf_src_phi\", values_per_cell=len(stencil))\n",
    "pdf_dst_phi = dh.add_array_like(\"pdf_dst_phi\", \"pdf_src_phi\")"
   ]
  },
  {
   "cell_type": "markdown",
   "metadata": {},
   "source": [
    "## Part 3a: Compute kernels and time loop\n",
    "\n",
    "We define one function that takes an expression with derivative objects in it, substitutes the spatial derivatives with finite differences using the strategy defined in the `fd_discretization` function and compiles a kernel from it."
   ]
  },
  {
   "cell_type": "code",
   "execution_count": 9,
   "metadata": {},
   "outputs": [],
   "source": [
    "def make_kernel(assignments):\n",
    "    # assignments may be using the symbols ρ and φ\n",
    "    # these is substituted with the access to the corresponding fields here\n",
    "    field_substitutions = {\n",
    "        ρ: ρ_field.center,\n",
    "        φ: φ_field.center\n",
    "    }\n",
    "    \n",
    "    processed_assignments = []\n",
    "    for a in assignments:\n",
    "        new_rhs = a.rhs.subs(field_substitutions)\n",
    "        \n",
    "        # ∂∂f representing the laplacian of f is replaced by the explicit carteisan form\n",
    "        # ∂_0 ∂_0 f + ∂_1 ∂_1 f     (example for 2D)\n",
    "        # otherwise the discretization would not do the correct thing\n",
    "        new_rhs = replace_generic_laplacian(new_rhs)\n",
    "        \n",
    "        # Next the \"∂\" objects are replaced using finite differences\n",
    "        new_rhs = discretize_spatial(new_rhs, dx=1, stencil=fd_discretization)\n",
    "        processed_assignments.append(Assignment(a.lhs, new_rhs))\n",
    "        \n",
    "    return create_kernel(processed_assignments, target=target, cpu_openmp=threads).compile()"
   ]
  },
  {
   "cell_type": "markdown",
   "metadata": {},
   "source": [
    "#### Chemical Potential\n",
    "\n",
    "In the next cell the kernel to compute the chemical potential is created. First an analytic expression for μ is obtained using the free energy, which is then passed to the discretization function above to create a kernel from it. We only have to store the chemical potential of the φ coordinate explicitly, which enters the Cahn-Hilliard lattice Boltzmann for φ."
   ]
  },
  {
   "cell_type": "code",
   "execution_count": 10,
   "metadata": {},
   "outputs": [
    {
     "data": {
      "text/latex": [
       "$${{\\mu_{\\phi}}_{(0,0)}} \\leftarrow 0.0004 \\phi^{3} + 0.000473530700220886 \\phi \\rho^{2} - 0.00760399528440326 \\phi \\rho + 0.0205263968409311 \\phi - 0.02 {\\partial {\\partial \\phi}}$$"
      ],
      "text/plain": [
       "                 3                           2                                \n",
       "μ_φ_C := 0.0004⋅φ  + 0.000473530700220886⋅φ⋅ρ  - 0.00760399528440326⋅φ⋅ρ + 0.0\n",
       "\n",
       "                                  \n",
       "205263968409311⋅φ - 0.02⋅D(D(phi))"
      ]
     },
     "execution_count": 10,
     "metadata": {},
     "output_type": "execute_result"
    }
   ],
   "source": [
    "μ_ρ, μ_φ = chemical_potentials_from_free_energy(free_energy_transformed, \n",
    "                                                order_parameters=(ρ, φ))\n",
    "μ_phi_assignment = Assignment(μ_phi_field.center, μ_φ)\n",
    "μ_kernel = make_kernel([μ_phi_assignment])\n",
    "μ_phi_assignment"
   ]
  },
  {
   "cell_type": "markdown",
   "metadata": {},
   "source": [
    "#### Pressure tensor and force computation\n",
    "\n",
    "For the pressure tensor a trick for enhancing numerical stability is used: the bulk component is not stored directly in the pressure tensor field, but the related quantity called `pbs` is stored in a separate field.\n",
    "\n",
    "$ pbs = \\sqrt{|ρ  c_s^2 - p_{bulk} |} $\n",
    "\n",
    "The force is then calculated as $ \\nabla \\cdot  P_{if} + 2  (\\nabla pbs) pbs$\n",
    "\n",
    "In the following kernel the pressure tensor field is filled with $P_{if}$ and the pbs field with above expression."
   ]
  },
  {
   "cell_type": "code",
   "execution_count": 11,
   "metadata": {},
   "outputs": [],
   "source": [
    "# Bulk part\n",
    "pressure_assignments = [\n",
    "    Assignment(pbs_field.center, \n",
    "               pressure_tensor_bulk_sqrt_term(free_energy_transformed, (ρ, φ), ρ)),\n",
    "]\n",
    "\n",
    "# Interface part\n",
    "P_if = pressure_tensor_from_free_energy(free_energy_transformed, (ρ, φ), \n",
    "                                        dim=dh.dim, include_bulk=False)\n",
    "index_map = symmetric_tensor_linearization(dh.dim)\n",
    "\n",
    "pressure_assignments += [\n",
    "    Assignment(pressure_tensor_field(index_1d), P_if[index_2d])\n",
    "    for index_2d, index_1d in index_map.items()\n",
    "]\n",
    "pressure_kernel = make_kernel(pressure_assignments)\n",
    "\n",
    "\n",
    "# Force kernel\n",
    "pressure_tensor_sym = sp.Matrix(dh.dim, dh.dim, \n",
    "                                lambda i, j: pressure_tensor_field(index_map[i, j] \n",
    "                                                                   if i < j else index_map[j, i]))\n",
    "force_term = force_from_pressure_tensor(pressure_tensor_sym, \n",
    "                                        functions=[ρ, φ], \n",
    "                                        pbs=pbs_field.center)\n",
    "force_assignments = [\n",
    "    Assignment(force_field(i), \n",
    "               force_term[i] + external_force[i] *  ρ_field.center / ρ_l)\n",
    "    for i in range(dh.dim)\n",
    "]\n",
    "force_kernel = make_kernel(force_assignments)"
   ]
  },
  {
   "cell_type": "markdown",
   "metadata": {},
   "source": [
    "#### Lattice Boltzmann schemes for time evolution of ρ and φ\n",
    "\n",
    "- ρ is handled by a normal LB method (compressible, entropic equilibrium)\n",
    "- stream and collide are splitted into separate kernels\n",
    "- macroscopic values are computed after the stream, but inside the stream kernel\n",
    "- velocity field stores the velocity which was not corrected for the forces yet\n",
    "- the φ collision kernel corrects the velocity itself, because then the updated forces are used for the correction. When u is computed, the updated forces are not computed yet\n",
    "- when ρ and φ are updated, they are clipped to a valid region, this clipping should be only necessary during equilibration of the system\n",
    "- exact difference method is used to couple the force into the ρ-LBM"
   ]
  },
  {
   "cell_type": "markdown",
   "metadata": {},
   "source": [
    "The following cell handles the clipping of the order parameters:"
   ]
  },
  {
   "cell_type": "code",
   "execution_count": 12,
   "metadata": {},
   "outputs": [],
   "source": [
    "if clipping:\n",
    "    def clip(ac, symbol, min_value, max_value):\n",
    "        \"\"\"Function to clip the value of a symbol which is on one of lhs of the assignments \n",
    "        in an assignment collection\"\"\"\n",
    "        assert symbol in ac.bound_symbols\n",
    "        for i in range(len(ac.subexpressions)):\n",
    "            a = ac.subexpressions[i]\n",
    "            if a.lhs == symbol:\n",
    "                new_assignment = Assignment(symbol, sp.Piecewise((max_value, a.rhs > max_value), \n",
    "                                                                 (min_value, a.rhs < min_value), \n",
    "                                                                 (a.rhs, True)))\n",
    "                ac.subexpressions[i] = new_assignment\n",
    "                break\n",
    "\n",
    "    # TODO: how can this 'densgin' be derived automatically?            \n",
    "    tred = reduced_temperature\n",
    "    densgin = -67.098 \\\n",
    "              + 549.69 * tred \\\n",
    "              - 1850.6 * tred * tred \\\n",
    "              + 3281 * tred * tred * tred \\\n",
    "              - 3237.3 * tred * tred * tred * tred \\\n",
    "              + 1687.6 * tred * tred * tred * tred * tred \\\n",
    "              - 361.51 * tred * tred * tred * tred * tred * tred\n",
    "    ρ_clip_min, ρ_clip_max = densgin * 0.5, 1.2 * ρ_l \n",
    "    φ_clip_min, φ_clip_max = -χ * 1.5, χ * 1.5          "
   ]
  },
  {
   "cell_type": "markdown",
   "metadata": {},
   "source": [
    "Next, the collide and stream kernels for the ρ lattice Boltzmann are created"
   ]
  },
  {
   "cell_type": "code",
   "execution_count": 13,
   "metadata": {},
   "outputs": [],
   "source": [
    "force_model = EDM(force_field.center_vector)\n",
    "\n",
    "ρ_lbm_params = {\n",
    "    'stencil': stencil,\n",
    "    'method' : 'trt-kbc-n2',\n",
    "    'compressible': True,\n",
    "    'relaxation_rate': ρ_relaxation_rate,\n",
    "    'optimization': {\n",
    "        'symbolic_field': pdf_src_rho,\n",
    "        'symbolic_temporary_field': pdf_dst_rho,\n",
    "        'openmp': threads, \n",
    "        'target': target\n",
    "    }\n",
    "}\n",
    "\n",
    "# Standard collision step, that does not compute ρ and u from pdfs, but reads\n",
    "# them from fields - this is necessary because ρ may have been clipped before\n",
    "# the velocity field is not force corrected, which is the correct for the EDM model\n",
    "# but might be wrong for other force models\n",
    "ρ_collide = create_lb_function(kernel_type='collide_only',\n",
    "                               density_input=ρ_field,\n",
    "                               force_model=force_model,\n",
    "                               velocity_input=vel_field,\n",
    "                               **ρ_lbm_params)\n",
    "\n",
    "\n",
    "# First the assignments are created, then the density is clipped\n",
    "# then a kernel is created from the clipped assignments\n",
    "ρ_stream_ur = create_lb_update_rule(kernel_type='stream_pull_only',\n",
    "                                    force_model=None, #save uncorrected velocity\n",
    "                                    output={'density': ρ_field, \n",
    "                                            'velocity': vel_field},\n",
    "                                    **ρ_lbm_params)\n",
    "\n",
    "if clipping:\n",
    "    clip(ρ_stream_ur, sp.Symbol(\"rho\"), ρ_clip_min, ρ_clip_max)\n",
    "ρ_stream = create_lb_function(update_rule=ρ_stream_ur, **ρ_lbm_params)"
   ]
  },
  {
   "cell_type": "markdown",
   "metadata": {},
   "source": [
    "The φ lattice Boltzmann solve the Cahn-Hilliard equation. "
   ]
  },
  {
   "cell_type": "code",
   "execution_count": 14,
   "metadata": {},
   "outputs": [],
   "source": [
    "φ_lb_method = cahn_hilliard_lb_method(stencil=stencil, \n",
    "                                      mu=μ_phi_field.center, \n",
    "                                      relaxation_rate=φ_relaxation_rate, \n",
    "                                      gamma=1)\n",
    "φ_lbm_params = {\n",
    "    'lb_method' : φ_lb_method,\n",
    "    'compressible': True,\n",
    "    'optimization': {\n",
    "        'symbolic_field': pdf_src_phi,\n",
    "        'symbolic_temporary_field': pdf_dst_phi,\n",
    "        'openmp': threads, \n",
    "        'target': target\n",
    "    }\n",
    "}\n",
    "\n",
    "ch_method = cahn_hilliard_lb_method(stencil=stencil, \n",
    "                                    mu=μ_phi_field.center, \n",
    "                                    relaxation_rate=φ_relaxation_rate, \n",
    "                                    gamma=1)\n",
    "\n",
    "corrected_vel = vel_field.center_vector + sp.Matrix(force_model.macroscopic_velocity_shift(ρ_field.center))\n",
    "φ_collide = create_lb_function(kernel_type='collide_only',\n",
    "                               density_input=φ_field,\n",
    "                               velocity_input=corrected_vel,\n",
    "                               **φ_lbm_params)\n",
    "\n",
    "φ_stream_ur = create_lb_update_rule(kernel_type='stream_pull_only',\n",
    "                                    output={'density': φ_field},\n",
    "                                    **φ_lbm_params)\n",
    "if clipping:\n",
    "    clip(φ_stream_ur, sp.Symbol(\"rho\"), φ_clip_min, φ_clip_max)\n",
    "φ_stream = create_lb_function(update_rule=φ_stream_ur, **φ_lbm_params)"
   ]
  },
  {
   "cell_type": "markdown",
   "metadata": {},
   "source": [
    "#### Time loop\n",
    "\n",
    "Now we can put all kernels together into a time loop function"
   ]
  },
  {
   "cell_type": "code",
   "execution_count": 15,
   "metadata": {},
   "outputs": [],
   "source": [
    "op_sync = dh.synchronization_function([ρ_field.name, φ_field.name])\n",
    "p_sync = dh.synchronization_function([pbs_field.name, pressure_tensor_field.name])\n",
    "pdf_sync = dh.synchronization_function([pdf_src_phi.name, pdf_src_rho.name])\n",
    "\n",
    "def time_loop(steps):\n",
    "    for t in range(steps):\n",
    "        op_sync()\n",
    "        dh.run_kernel(μ_kernel)\n",
    "        dh.run_kernel(pressure_kernel)\n",
    "        \n",
    "        p_sync()\n",
    "        dh.run_kernel(force_kernel)\n",
    "        \n",
    "        dh.run_kernel(ρ_collide)\n",
    "        dh.run_kernel(φ_collide)\n",
    "        \n",
    "        pdf_sync()\n",
    "        dh.run_kernel(ρ_stream)\n",
    "        dh.run_kernel(φ_stream)\n",
    "        dh.swap(pdf_dst_phi.name, pdf_src_phi.name)\n",
    "        dh.swap(pdf_dst_rho.name, pdf_src_rho.name)\n",
    "    return dh.cpu_arrays[φ_field.name][1:-1, 1:-1]"
   ]
  },
  {
   "cell_type": "markdown",
   "metadata": {},
   "source": [
    "## Part 3b: Compiling getter & setter kernels"
   ]
  },
  {
   "cell_type": "markdown",
   "metadata": {},
   "source": [
    "The setter kernel computes ρ, φ from C and sets the pdfs to equilibrium using the values in the order parameter and velocity fields."
   ]
  },
  {
   "cell_type": "code",
   "execution_count": 16,
   "metadata": {},
   "outputs": [],
   "source": [
    "init_assignments = [ \n",
    "    Assignment( φ_field.center, transform_backward_substitutions[φ].subs({ c_l1: c_field(0), c_l2: c_field(1)} )),\n",
    "    Assignment( ρ_field.center, transform_backward_substitutions[ρ].subs({ c_l1: c_field(0), c_l2: c_field(1)} )),\n",
    "]\n",
    "\n",
    "init_rho = pdf_initialization_assignments(ρ_collide.method, \n",
    "                                          density=ρ_field.center, \n",
    "                                          velocity=vel_field.center_vector, \n",
    "                                          pdfs=pdf_src_rho.center_vector)\n",
    "init_rho = init_rho.new_without_subexpressions()\n",
    "init_assignments += init_rho.all_assignments\n",
    "\n",
    "init_phi = pdf_initialization_assignments(φ_collide.method,\n",
    "                                          density=φ_field.center,\n",
    "                                          velocity=(0,0,0), \n",
    "                                          pdfs=pdf_src_phi.center_vector)\n",
    "init_phi = init_phi.new_without_subexpressions().new_with_substitutions({μ_phi_field.center: 0})\n",
    "init_assignments += init_phi.all_assignments\n",
    "\n",
    "init_pdfs_assignments = init_rho.all_assignments + init_phi.all_assignments\n",
    "\n",
    "init_pdfs_kernel = create_kernel(init_pdfs_assignments).compile()\n",
    "init_kernel = create_kernel(init_assignments).compile()"
   ]
  },
  {
   "cell_type": "markdown",
   "metadata": {},
   "source": [
    "## Part 4: Geometry initialization & plotting"
   ]
  },
  {
   "cell_type": "code",
   "execution_count": 17,
   "metadata": {},
   "outputs": [],
   "source": [
    "def plot_status():\n",
    "    plt.figure(figsize=(25, 6))\n",
    "    plt.subplot(1, 4, 1)\n",
    "    ρ_arr = dh.cpu_arrays[ρ_field.name][1:-1, 1:-1]\n",
    "    plt.scalar_field(ρ_arr)\n",
    "    plt.title(\"ρ ({:.2f}, {:.2f})\".format(np.min(ρ_arr), np.max(ρ_arr)))\n",
    "    plt.colorbar()\n",
    "    \n",
    "    plt.subplot(1, 4, 2)\n",
    "    φ_arr = dh.cpu_arrays[φ_field.name][1:-1, 1:-1]\n",
    "    plt.scalar_field(φ_arr)\n",
    "    plt.title(\"φ ({:.2f}, {:.2f})\".format(np.min(φ_arr), np.max(φ_arr)))\n",
    "    plt.colorbar()\n",
    "\n",
    "    plt.subplot(1, 4, 3)\n",
    "    f_arr = dh.cpu_arrays[force_field.name][1:-1, 1:-1]\n",
    "    plt.vector_field_magnitude(f_arr)\n",
    "    plt.title(\"F ({:.2f}, {:.2f})\".format(np.min(f_arr), np.max(f_arr)))\n",
    "    plt.colorbar()\n",
    "    \n",
    "    plt.subplot(1, 4, 4)\n",
    "    μ_arr = dh.cpu_arrays[μ_phi_field.name][1:-1, 1:-1]\n",
    "    plt.scalar_field(μ_arr)\n",
    "    plt.title(\"μ_φ ({:.2f}, {:.2f})\".format(np.min(μ_arr), np.max(μ_arr)))\n",
    "    plt.colorbar()\n",
    "\n",
    "def init_drop():\n",
    "    radius = dh.shape[0] // 5\n",
    "    mid1 = [dh.shape[0] // 2, dh.shape[1] // 2]\n",
    "\n",
    "    for block in dh.iterate(ghost_layers=True):\n",
    "        x, y = block.midpoint_arrays\n",
    "        mask1 = (x - mid1[0]) ** 2 + (y - mid1[1])**2 < radius ** 2\n",
    "\n",
    "        block[force_field.name].fill(0)\n",
    "        block[vel_field.name].fill(0)\n",
    "        block[μ_phi_field.name].fill(0)\n",
    "\n",
    "        c_arr = block[c_field.name]\n",
    "        c_arr[:, :].fill(0.0)\n",
    "        c_arr[mask1, 0] = 1.0\n",
    "\n",
    "        gaussian_filter(c_arr[..., 0], sigma=3, output=c_arr[..., 0])\n",
    "        gaussian_filter(c_arr[..., 1], sigma=3, output=c_arr[..., 1])\n",
    "\n",
    "    dh.run_kernel(init_kernel)"
   ]
  },
  {
   "cell_type": "markdown",
   "metadata": {},
   "source": [
    "# Part 5: Putting it all together"
   ]
  },
  {
   "cell_type": "code",
   "execution_count": 18,
   "metadata": {},
   "outputs": [
    {
     "data": {
      "image/png": "[encoded data removed]",
      "text/plain": [
       "<Figure size 1800x432 with 8 Axes>"
      ]
     },
     "metadata": {},
     "output_type": "display_data"
    }
   ],
   "source": [
    "init_drop()\n",
    "time_loop(1000)\n",
    "plot_status()"
   ]
  },
  {
   "cell_type": "code",
   "execution_count": 19,
   "metadata": {},
   "outputs": [],
   "source": [
    "ρ_arr = dh.gather_array(ρ_field.name)\n",
    "assert not np.isnan(np.min(ρ_arr))\n",
    "assert not np.isnan(np.max(ρ_arr))"
   ]
  }
 ],
 "metadata": {
  "kernelspec": {
   "display_name": "Python 3",
   "language": "python",
   "name": "python3"
  },
  "language_info": {
   "codemirror_mode": {
    "name": "ipython",
    "version": 3
   },
   "file_extension": ".py",
   "mimetype": "text/x-python",
   "name": "python",
   "nbconvert_exporter": "python",
   "pygments_lexer": "ipython3",
   "version": "3.6.7"
  }
 },
 "nbformat": 4,
 "nbformat_minor": 2
}
