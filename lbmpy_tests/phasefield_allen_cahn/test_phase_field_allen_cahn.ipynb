{
 "cells": [
  {
   "cell_type": "code",
   "execution_count": 1,
   "metadata": {},
   "outputs": [],
   "source": [
    "import math\n",
    "\n",
    "from lbmpy.session import *\n",
    "from pystencils.session import *\n",
    "\n",
    "from lbmpy.moments import MOMENT_SYMBOLS\n",
    "from collections import OrderedDict\n",
    "\n",
    "from lbmpy.methods.creationfunctions import create_with_discrete_maxwellian_eq_moments\n",
    "\n",
    "from lbmpy.phasefield_allen_cahn.parameter_calculation import calculate_parameters_rti\n",
    "from lbmpy.phasefield_allen_cahn.kernel_equations import *\n",
    "from lbmpy.phasefield_allen_cahn.force_model import MultiphaseForceModel"
   ]
  },
  {
   "cell_type": "code",
   "execution_count": 2,
   "metadata": {},
   "outputs": [],
   "source": [
    "try:\n",
    "    import pycuda\n",
    "except ImportError:\n",
    "    pycuda = None\n",
    "    gpu = False\n",
    "    target = 'cpu'\n",
    "    print('No pycuda installed')\n",
    "\n",
    "if pycuda:\n",
    "    gpu = True\n",
    "    target = 'gpu'"
   ]
  },
  {
   "cell_type": "code",
   "execution_count": 3,
   "metadata": {},
   "outputs": [],
   "source": [
    "stencil_phase = get_stencil(\"D2Q9\")\n",
    "stencil_hydro = get_stencil(\"D2Q9\")\n",
    "assert(len(stencil_phase[0]) == len(stencil_hydro[0]))\n",
    "\n",
    "dimensions = len(stencil_phase[0])"
   ]
  },
  {
   "cell_type": "code",
   "execution_count": 4,
   "metadata": {},
   "outputs": [],
   "source": [
    "# domain \n",
    "L0 = 256\n",
    "Nx = L0\n",
    "Ny = 4 * L0\n",
    "X0 = (Nx/2) + 1\n",
    "Y0 = (Ny/2) + 1\n",
    "\n",
    "# time step\n",
    "tf = 10001\n",
    "reference_time = 16000\n",
    "\n",
    "# force acting on the bubble\n",
    "body_force = [0, 0, 0]\n",
    "rho_H = 1.0\n",
    "\n",
    "\n",
    "parameters = calculate_parameters_rti(reference_length=L0,\n",
    "                                      reference_time=reference_time,\n",
    "                                      density_heavy=rho_H,\n",
    "                                      capillary_number=0.26,\n",
    "                                      reynolds_number=3000,\n",
    "                                      atwood_number=0.5,\n",
    "                                      peclet_number=1000,\n",
    "                                      density_ratio=3,\n",
    "                                      viscosity_ratio=1)\n",
    "\n",
    "rho_L = parameters.get(\"density_light\")\n",
    "\n",
    "mu_H = parameters.get(\"dynamic_viscosity_heavy\")\n",
    "mu_L = parameters.get(\"dynamic_viscosity_light\")\n",
    "\n",
    "tau_H = parameters.get(\"relaxation_time_heavy\")\n",
    "tau_L = parameters.get(\"relaxation_time_light\")\n",
    "\n",
    "sigma = parameters.get(\"surface_tension\")\n",
    "M = parameters.get(\"mobility\")\n",
    "gravitational_acceleration = parameters.get(\"gravitational_acceleration\")\n",
    "\n",
    "\n",
    "# interface thickness\n",
    "W = 5\n",
    "# coeffcient related to surface tension\n",
    "beta = 12.0 * (sigma/W)\n",
    "# coeffcient related to surface tension\n",
    "kappa = 1.5 * sigma*W\n",
    "# relaxation rate allen cahn (h)\n",
    "w_c = 1.0/(0.5 + (3.0 * M))\n",
    "\n",
    "\n",
    "# fields \n",
    "domain_size = (Nx, Ny)\n",
    "dh = ps.create_data_handling((domain_size), periodicity = (True, False), parallel=False, default_target=target)\n",
    "\n",
    "g = dh.add_array(\"g\", values_per_cell=len(stencil_hydro))\n",
    "dh.fill(\"g\", 0.0, ghost_layers=True)\n",
    "h = dh.add_array(\"h\",values_per_cell=len(stencil_phase))\n",
    "dh.fill(\"h\", 0.0, ghost_layers=True)\n",
    "\n",
    "g_tmp = dh.add_array(\"g_tmp\", values_per_cell=len(stencil_hydro))\n",
    "dh.fill(\"g_tmp\", 0.0, ghost_layers=True)\n",
    "h_tmp = dh.add_array(\"h_tmp\",values_per_cell=len(stencil_phase))\n",
    "dh.fill(\"h_tmp\", 0.0, ghost_layers=True)\n",
    "\n",
    "u = dh.add_array(\"u\", values_per_cell=dh.dim)\n",
    "dh.fill(\"u\", 0.0, ghost_layers=True)\n",
    "\n",
    "C = dh.add_array(\"C\")\n",
    "dh.fill(\"C\", 0.0, ghost_layers=True)\n",
    "\n",
    "force = dh.add_array(\"force\",values_per_cell=dh.dim)\n",
    "dh.fill(\"force\", 0.0, ghost_layers=True)"
   ]
  },
  {
   "cell_type": "code",
   "execution_count": 5,
   "metadata": {},
   "outputs": [],
   "source": [
    "tau = 0.5 + tau_L + (C.center) * (tau_H - tau_L)\n",
    "s8 = 1/(tau)\n",
    "\n",
    "rho = rho_L + (C.center) * (rho_H - rho_L)\n",
    "\n",
    "body_force[1] = gravitational_acceleration * rho"
   ]
  },
  {
   "cell_type": "code",
   "execution_count": 6,
   "metadata": {},
   "outputs": [],
   "source": [
    "method_phase = create_lb_method(stencil=stencil_phase, method='srt', relaxation_rate=w_c, compressible = True)"
   ]
  },
  {
   "cell_type": "code",
   "execution_count": 7,
   "metadata": {},
   "outputs": [],
   "source": [
    "if len(stencil_hydro) == 9:\n",
    "    # for D2Q9 a self defined method is used\n",
    "    x, y, z = MOMENT_SYMBOLS\n",
    "    moment_table = [sp.Integer(1),\n",
    "                    -4 + 3*(x**2 + y**2),\n",
    "                    4 - sp.Rational(21, 2)*(x**2 + y**2) + sp.Rational(9, 2)*(x**2 + y**2)**2,\n",
    "                    x,\n",
    "                    (-5 + 3*(x**2 + y**2))*x,\n",
    "                    y,\n",
    "                    (-5 + 3*(x**2 + y**2))*y ,\n",
    "                    x**2 - y**2,\n",
    "                    x*y]\n",
    "\n",
    "    relax_table = [1, 1, 1, 1, 1, 1, 1, s8, s8]\n",
    "    rr_dict = OrderedDict(zip(moment_table, relax_table))\n",
    "elif len(stencil_hydro) == 19:\n",
    "    mrt = create_lb_method(method=\"mrt\", stencil=stencil_hydro, relaxation_rates=[1, 1, 1, 1, s8, 1, 1])\n",
    "    rr_dict = OrderedDict(zip(mrt.moments, mrt.relaxation_rates))\n",
    "else:\n",
    "    mrt = create_lb_method(method=\"mrt\", stencil=stencil_hydro, relaxation_rates=[1, 1, s8, 1, 1, 1, 1])\n",
    "    rr_dict = OrderedDict(zip(mrt.moments, mrt.relaxation_rates))\n",
    "\n",
    "method_hydro = create_with_discrete_maxwellian_eq_moments(stencil_hydro, rr_dict, compressible=False)"
   ]
  },
  {
   "cell_type": "code",
   "execution_count": 8,
   "metadata": {},
   "outputs": [],
   "source": [
    "# initialize the domain\n",
    "def Initialize_distributions():\n",
    "    \n",
    "    for block in dh.iterate(ghost_layers=True, inner_ghost_layers=False):\n",
    "        x, y = block.midpoint_arrays\n",
    "        y -= 2 * L0\n",
    "        tmp = 0.1 * Nx * np.cos((2 * math.pi * x) / Nx)\n",
    "        init_values = 0.5 + 0.5 * np.tanh((y - tmp) / (W / 2))\n",
    "        block[\"C\"][:, :] = init_values\n",
    "        \n",
    "    if gpu:\n",
    "        dh.all_to_gpu()            \n",
    "    \n",
    "    dh.run_kernel(h_init)\n",
    "    dh.run_kernel(g_init)"
   ]
  },
  {
   "cell_type": "code",
   "execution_count": 9,
   "metadata": {},
   "outputs": [],
   "source": [
    "h_updates = initializer_kernel_phase_field_lb(h, C, u, method_phase, W)\n",
    "g_updates = initializer_kernel_hydro_lb(g, u, method_hydro)\n",
    "\n",
    "h_init = ps.create_kernel(h_updates, target=dh.default_target, cpu_openmp=True).compile()\n",
    "g_init = ps.create_kernel(g_updates, target=dh.default_target, cpu_openmp=True).compile()"
   ]
  },
  {
   "cell_type": "code",
   "execution_count": 10,
   "metadata": {},
   "outputs": [],
   "source": [
    "force_h = [f / 3 for f in interface_tracking_force(C, stencil_phase, W)]\n",
    "force_model_h = MultiphaseForceModel(force=force_h)\n",
    "\n",
    "force_g = hydrodynamic_force(g, C, method_hydro, tau, rho_H, rho_L, kappa, beta, body_force)\n",
    "force_model_g = MultiphaseForceModel(force=force_g, rho=rho)"
   ]
  },
  {
   "cell_type": "code",
   "execution_count": 11,
   "metadata": {
    "scrolled": false
   },
   "outputs": [],
   "source": [
    "# create the allen cahl lattice boltzmann step for the h field as well as the hydrodynamic\n",
    "# lattice boltzmann step for the g field\n",
    "h_tmp_symbol_list = [h_tmp.center(i) for i, _ in enumerate(stencil_phase)]\n",
    "sum_h = np.sum(h_tmp_symbol_list[:])\n",
    "\n",
    "method_phase = create_lb_method(stencil=stencil_phase,\n",
    "                                method='srt',\n",
    "                                relaxation_rate=w_c,\n",
    "                                compressible = True,\n",
    "                                force_model=force_model_h)\n",
    "\n",
    "allen_cahn_lb = create_lb_update_rule(lb_method=method_phase,\n",
    "                                      velocity_input = u, \n",
    "                                      compressible = True,\n",
    "                                      optimization = {\"symbolic_field\": h,\n",
    "                                                      \"symbolic_temporary_field\": h_tmp},\n",
    "                                      kernel_type = 'stream_pull_collide')\n",
    "\n",
    "allen_cahn_lb.set_main_assignments_from_dict({**allen_cahn_lb.main_assignments_dict, **{C.center: sum_h}})\n",
    "\n",
    "ast_allen_cahn_lb = ps.create_kernel(allen_cahn_lb, target=dh.default_target, cpu_openmp=True)\n",
    "kernel_allen_cahn_lb = ast_allen_cahn_lb.compile()\n",
    "#------------------------------------------------------------------------------------------------------------------------\n",
    "\n",
    "\n",
    "## collision of g\n",
    "#force_model = forcemodels.Guo(force_g(0, MRT_collision_op))\n",
    "method_hydro = create_with_discrete_maxwellian_eq_moments(stencil_hydro, rr_dict, force_model=force_model_g)\n",
    "\n",
    "hydro_lb_update_rule = get_collision_assignments_hydro(lb_method=method_hydro,\n",
    "                                                       density=rho,\n",
    "                                                       velocity_input=u,\n",
    "                                                       force = force_g,\n",
    "                                                       optimization={\"symbolic_field\": g,\n",
    "                                                                     \"symbolic_temporary_field\": g_tmp},\n",
    "                                                       kernel_type='collide_only')\n",
    "\n",
    "ast_hydro_lb = ps.create_kernel(hydro_lb_update_rule, target=dh.default_target, cpu_openmp=True)\n",
    "kernel_hydro_lb = ast_hydro_lb.compile()"
   ]
  },
  {
   "cell_type": "code",
   "execution_count": 12,
   "metadata": {},
   "outputs": [],
   "source": [
    "# periodic Boundarys for g, h and C\n",
    "periodic_BC_g = dh.synchronization_function(g.name, target=dh.default_target, optimization = {\"openmp\": True})\n",
    "periodic_BC_h = dh.synchronization_function(h.name, target=dh.default_target, optimization = {\"openmp\": True})\n",
    "periodic_BC_C = dh.synchronization_function(C.name, target=dh.default_target, optimization = {\"openmp\": True})\n",
    "\n",
    "# No slip boundary for the phasefield lbm\n",
    "bh_allen_cahn = LatticeBoltzmannBoundaryHandling(method_phase, dh, 'h',\n",
    "                                                 target=dh.default_target, name='boundary_handling_h')\n",
    "\n",
    "# No slip boundary for the velocityfield lbm\n",
    "bh_hydro = LatticeBoltzmannBoundaryHandling(method_hydro, dh, 'g' ,\n",
    "                                            target=dh.default_target, name='boundary_handling_g')\n",
    "\n",
    "wall = NoSlip()\n",
    "if dimensions == 2:\n",
    "    bh_allen_cahn.set_boundary(wall, make_slice[:, 0])\n",
    "    bh_allen_cahn.set_boundary(wall, make_slice[:, -1])\n",
    "\n",
    "    bh_hydro.set_boundary(wall, make_slice[:, 0])\n",
    "    bh_hydro.set_boundary(wall, make_slice[:, -1])\n",
    "else:\n",
    "    bh_allen_cahn.set_boundary(wall, make_slice[:, 0, :])\n",
    "    bh_allen_cahn.set_boundary(wall, make_slice[:, -1, :])\n",
    "\n",
    "    bh_hydro.set_boundary(wall, make_slice[:, 0, :])\n",
    "    bh_hydro.set_boundary(wall, make_slice[:, -1, :])\n",
    "\n",
    "\n",
    "bh_allen_cahn.prepare()\n",
    "bh_hydro.prepare()"
   ]
  },
  {
   "cell_type": "code",
   "execution_count": 13,
   "metadata": {},
   "outputs": [],
   "source": [
    "ac_g = create_lb_update_rule(stencil = stencil_hydro,\n",
    "                             optimization={\"symbolic_field\": g,\n",
    "                                           \"symbolic_temporary_field\": g_tmp},\n",
    "                             kernel_type='stream_pull_only')\n",
    "ast_g = ps.create_kernel(ac_g, target=dh.default_target, cpu_openmp=True)\n",
    "stream_g = ast_g.compile()"
   ]
  },
  {
   "cell_type": "code",
   "execution_count": 14,
   "metadata": {},
   "outputs": [],
   "source": [
    "# definition of the timestep for the immiscible fluids model\n",
    "def Improved_PhaseField_h_g():\n",
    "    bh_allen_cahn()\n",
    "    periodic_BC_h()\n",
    "    \n",
    "    dh.run_kernel(kernel_allen_cahn_lb)\n",
    "    periodic_BC_C()\n",
    "    dh.run_kernel(kernel_hydro_lb)\n",
    "\n",
    "    bh_hydro()\n",
    "    periodic_BC_g()\n",
    "    \n",
    "    dh.run_kernel(stream_g)\n",
    "    dh.swap(\"h\", \"h_tmp\")\n",
    "    dh.swap(\"g\", \"g_tmp\")"
   ]
  },
  {
   "cell_type": "code",
   "execution_count": 15,
   "metadata": {
    "scrolled": false
   },
   "outputs": [
    {
     "name": "stderr",
     "output_type": "stream",
     "text": [
      "/home/markus/miniconda3/lib/python3.7/site-packages/ipykernel_launcher.py:6: DeprecationWarning: Numpy has detected that you (may be) writing to an array with\n",
      "overlapping memory from np.broadcast_arrays. If this is intentional\n",
      "set the WRITEABLE flag True or make a copy immediately before writing.\n",
      "  \n"
     ]
    }
   ],
   "source": [
    "Initialize_distributions()\n",
    "\n",
    "pos_liquid_front = np.zeros((2, tf))\n",
    "pos_bubble_front = np.zeros((2, tf))\n",
    "for i in range(0, tf):\n",
    "    # write out the phasefield\n",
    "    if gpu:\n",
    "        dh.to_cpu(\"C\")\n",
    "\n",
    "    pos_liquid_front[0, i] = i / reference_time\n",
    "    pos_liquid_front[1, i] = (np.argmax(dh.cpu_arrays[\"C\"][L0//2, :] > 0.5) - Ny//2)/L0\n",
    "\n",
    "    pos_bubble_front[0, i] = i / reference_time\n",
    "    pos_bubble_front[1, i] = (np.argmax(dh.cpu_arrays[\"C\"][0, :] > 0.5) - Ny//2)/L0\n",
    "    \n",
    "    # do one timestep\n",
    "    Improved_PhaseField_h_g()"
   ]
  },
  {
   "cell_type": "code",
   "execution_count": 16,
   "metadata": {},
   "outputs": [],
   "source": [
    "assert(pos_liquid_front[1, -1] == -0.1953125)\n",
    "assert(pos_bubble_front[1, -1] == 0.1875)"
   ]
  }
 ],
 "metadata": {
  "kernelspec": {
   "display_name": "Python 3",
   "language": "python",
   "name": "python3"
  },
  "language_info": {
   "codemirror_mode": {
    "name": "ipython",
    "version": 3
   },
   "file_extension": ".py",
   "mimetype": "text/x-python",
   "name": "python",
   "nbconvert_exporter": "python",
   "pygments_lexer": "ipython3",
   "version": "3.7.4"
  }
 },
 "nbformat": 4,
 "nbformat_minor": 2
}
