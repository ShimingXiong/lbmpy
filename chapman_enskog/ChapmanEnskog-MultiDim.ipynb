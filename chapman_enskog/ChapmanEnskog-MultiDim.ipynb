{
 "cells": [
  {
   "cell_type": "code",
   "execution_count": 2,
   "metadata": {},
   "outputs": [],
   "source": [
    "import sympy as sp\n",
    "import operator\n",
    "from functools import partial, reduce\n",
    "from lbmpy.chapman_enskog_old import combineDerivatives, expandDerivatives, getDiffOperator, commuteTerms\n",
    "\n",
    "# Using operator and kets from quantum module to represent differential operators and pdfs\n",
    "from  sympy.physics.quantum import Ket as Func\n",
    "from  sympy.physics.quantum import Operator\n",
    "# Disable Ket notation |f> for functions\n",
    "Func.lbracket_latex =''\n",
    "Func.rbracket_latex = ''\n",
    "\n",
    "import operator\n",
    "def prod(factors):\n",
    "    return reduce(operator.mul, factors, 1)\n",
    "\n",
    "sp.init_printing()"
   ]
  },
  {
   "cell_type": "code",
   "execution_count": 3,
   "metadata": {
    "collapsed": true
   },
   "outputs": [],
   "source": [
    "dim = 2\n",
    "dimLabels = ['0', '1', '2'][:dim]\n",
    "# same in 3D\n",
    "# dimLabels = ['x', 'y', 'z']\n",
    "dim = len(dimLabels)"
   ]
  },
  {
   "cell_type": "markdown",
   "metadata": {},
   "source": [
    "# Chapman Enskog analysis\n",
    "\n",
    "Particle distribution function $f$:"
   ]
  },
  {
   "cell_type": "code",
   "execution_count": 4,
   "metadata": {
    "collapsed": true
   },
   "outputs": [],
   "source": [
    "c = sp.Matrix([sp.Symbol(f\"c_{label}\") for label in dimLabels])\n",
    "dt = sp.Symbol(\"Delta_t\")\n",
    "t = sp.symbols(\"t\")\n",
    "f = Func(\"f\")\n",
    "C = Func(\"C\")"
   ]
  },
  {
   "cell_type": "markdown",
   "metadata": {},
   "source": [
    "Differential operators (defined simply as non-commutative symbols here)"
   ]
  },
  {
   "cell_type": "code",
   "execution_count": 5,
   "metadata": {
    "collapsed": true
   },
   "outputs": [],
   "source": [
    "Dt = Operator(\"\\partial_t\")\n",
    "Dx = sp.Matrix([Operator(f\"\\partial_{label}\") for label in dimLabels])"
   ]
  },
  {
   "cell_type": "code",
   "execution_count": 6,
   "metadata": {},
   "outputs": [
    {
     "data": {
      "text/plain": [
       "(2, 0, 'Symbol')"
      ]
     },
     "execution_count": 6,
     "metadata": {},
     "output_type": "execute_result"
    }
   ],
   "source": [
    "dt.sort_key()[0]"
   ]
  },
  {
   "cell_type": "code",
   "execution_count": 7,
   "metadata": {},
   "outputs": [
    {
     "data": {
      "image/png": "[encoded data removed]",
      "text/latex": [
       "$$\\frac{\\Delta_{t}^{2} c_{0}^{2}}{2} \\partial_0^{2} + \\frac{c_{0} c_{1}}{2} \\Delta_{t}^{2} \\partial_0 \\partial_1 + \\frac{c_{0} c_{1}}{2} \\Delta_{t}^{2} \\partial_1 \\partial_0 + \\frac{\\Delta_{t}^{2} c_{0}}{2} \\partial_0 \\partial_t + \\frac{\\Delta_{t}^{2} c_{0}}{2} \\partial_t \\partial_0 + \\frac{\\Delta_{t}^{2} c_{1}^{2}}{2} \\partial_1^{2} + \\frac{\\Delta_{t}^{2} c_{1}}{2} \\partial_1 \\partial_t + \\frac{\\Delta_{t}^{2} c_{1}}{2} \\partial_t \\partial_1 + \\frac{\\Delta_{t}^{2} \\partial_t^{2}}{2} + \\Delta_{t} c_{0} \\partial_0 + \\Delta_{t} c_{1} \\partial_1 + \\Delta_{t} \\partial_t$$"
      ],
      "text/plain": [
       "  2   2          2     2                               2                      \n",
       "Δₜ ⋅c₀ ⋅\\partial₀    Δₜ ⋅c₀⋅c₁⋅\\partial₀⋅\\partial₁   Δₜ ⋅c₀⋅c₁⋅\\partial₁⋅\\part\n",
       "────────────────── + ───────────────────────────── + ─────────────────────────\n",
       "        2                          2                               2          \n",
       "\n",
       "         2                            2                            2   2      \n",
       "ial₀   Δₜ ⋅c₀⋅\\partial₀⋅\\partialₜ   Δₜ ⋅c₀⋅\\partialₜ⋅\\partial₀   Δₜ ⋅c₁ ⋅\\part\n",
       "──── + ────────────────────────── + ────────────────────────── + ─────────────\n",
       "                   2                            2                        2    \n",
       "\n",
       "    2     2                            2                            2         \n",
       "ial₁    Δₜ ⋅c₁⋅\\partial₁⋅\\partialₜ   Δₜ ⋅c₁⋅\\partialₜ⋅\\partial₁   Δₜ ⋅\\partial\n",
       "───── + ────────────────────────── + ────────────────────────── + ────────────\n",
       "                    2                            2                      2     \n",
       "\n",
       " 2                                                   \n",
       "ₜ                                                    \n",
       "── + Δₜ⋅c₀⋅\\partial₀ + Δₜ⋅c₁⋅\\partial₁ + Δₜ⋅\\partialₜ\n",
       "                                                     "
      ]
     },
     "execution_count": 7,
     "metadata": {},
     "output_type": "execute_result"
    }
   ],
   "source": [
    "taylorOrder = 2\n",
    "taylorOperator = sum(dt**k * (Dt + c.dot(Dx) )**k / sp.functions.factorial(k)\n",
    "                     for k in range(1, taylorOrder+1))\n",
    "taylorOperator.expand()"
   ]
  },
  {
   "cell_type": "markdown",
   "metadata": {},
   "source": [
    "As right-hand-side we use the abstract collision operator $C$, which corresponds to (4.5)"
   ]
  },
  {
   "cell_type": "code",
   "execution_count": 8,
   "metadata": {},
   "outputs": [
    {
     "data": {
      "image/png": "[encoded data removed]",
      "text/latex": [
       "$$\\left(\\frac{\\Delta_{t}^{2}}{2} \\left(c_{0} \\partial_0 + c_{1} \\partial_1 + \\partial_t\\right)^{2} + \\Delta_{t} \\left(c_{0} \\partial_0 + c_{1} \\partial_1 + \\partial_t\\right)\\right) {f} - {C}$$"
      ],
      "text/plain": [
       "⎛  2                                          2                               \n",
       "⎜Δₜ ⋅(c₀⋅\\partial₀ + c₁⋅\\partial₁ + \\partialₜ)                                \n",
       "⎜────────────────────────────────────────────── + Δₜ⋅(c₀⋅\\partial₀ + c₁⋅\\parti\n",
       "⎝                      2                                                      \n",
       "\n",
       "                ⎞          \n",
       "                ⎟          \n",
       "al₁ + \\partialₜ)⎟⋅❘f⟩ - ❘C⟩\n",
       "                ⎠          "
      ]
     },
     "execution_count": 8,
     "metadata": {},
     "output_type": "execute_result"
    }
   ],
   "source": [
    "eq_4_5 = (taylorOperator * f) - C\n",
    "eq_4_5"
   ]
  },
  {
   "cell_type": "markdown",
   "metadata": {},
   "source": [
    "Following the same steps as in the book, getting rid of second derivative, and discarding $\\Delta_t^3$ we get to (4.7)"
   ]
  },
  {
   "cell_type": "code",
   "execution_count": 9,
   "metadata": {},
   "outputs": [
    {
     "data": {
      "image/png": "[encoded data removed]",
      "text/latex": [
       "$$\\left(\\frac{\\Delta_{t}^{2}}{2} \\left(c_{0} \\partial_0 + c_{1} \\partial_1 + \\partial_t\\right)^{2} + \\Delta_{t} \\left(c_{0} \\partial_0 + c_{1} \\partial_1 + \\partial_t\\right)\\right) {f} - {C}$$"
      ],
      "text/plain": [
       "⎛  2                                          2                               \n",
       "⎜Δₜ ⋅(c₀⋅\\partial₀ + c₁⋅\\partial₁ + \\partialₜ)                                \n",
       "⎜────────────────────────────────────────────── + Δₜ⋅(c₀⋅\\partial₀ + c₁⋅\\parti\n",
       "⎝                      2                                                      \n",
       "\n",
       "                ⎞          \n",
       "                ⎟          \n",
       "al₁ + \\partialₜ)⎟⋅❘f⟩ - ❘C⟩\n",
       "                ⎠          "
      ]
     },
     "execution_count": 9,
     "metadata": {},
     "output_type": "execute_result"
    }
   ],
   "source": [
    "eq_4_5"
   ]
  },
  {
   "cell_type": "code",
   "execution_count": 10,
   "metadata": {},
   "outputs": [
    {
     "data": {
      "image/png": "[encoded data removed]",
      "text/latex": [
       "$$\\frac{\\Delta_{t}^{2} c_{0}^{2}}{2} \\partial_0^{2} {f} + \\frac{c_{0} c_{1}}{2} \\Delta_{t}^{2} \\partial_0 \\partial_1 {f} + \\frac{c_{0} c_{1}}{2} \\Delta_{t}^{2} \\partial_1 \\partial_0 {f} + \\frac{\\Delta_{t}^{2} c_{0}}{2} \\partial_0 \\partial_t {f} + \\frac{\\Delta_{t}^{2} c_{0}}{2} \\partial_t \\partial_0 {f} + \\frac{\\Delta_{t}^{2} c_{1}^{2}}{2} \\partial_1^{2} {f} + \\frac{\\Delta_{t}^{2} c_{1}}{2} \\partial_1 \\partial_t {f} + \\frac{\\Delta_{t}^{2} c_{1}}{2} \\partial_t \\partial_1 {f} + \\frac{\\Delta_{t}^{2} \\partial_t^{2}}{2} {f} - \\frac{\\Delta_{t} c_{0}}{2} \\partial_0 {C} - \\frac{\\Delta_{t} c_{1}}{2} \\partial_1 {C} - \\frac{\\Delta_{t} \\partial_t}{2} {C}$$"
      ],
      "text/plain": [
       "  2   2          2         2                                   2              \n",
       "Δₜ ⋅c₀ ⋅\\partial₀ ⋅❘f⟩   Δₜ ⋅c₀⋅c₁⋅\\partial₀⋅\\partial₁⋅❘f⟩   Δₜ ⋅c₀⋅c₁⋅\\partia\n",
       "────────────────────── + ───────────────────────────────── + ─────────────────\n",
       "          2                              2                                   2\n",
       "\n",
       "                     2                                2                       \n",
       "l₁⋅\\partial₀⋅❘f⟩   Δₜ ⋅c₀⋅\\partial₀⋅\\partialₜ⋅❘f⟩   Δₜ ⋅c₀⋅\\partialₜ⋅\\partial₀\n",
       "──────────────── + ────────────────────────────── + ──────────────────────────\n",
       "                                 2                                2           \n",
       "\n",
       "         2   2          2         2                                2          \n",
       "⋅❘f⟩   Δₜ ⋅c₁ ⋅\\partial₁ ⋅❘f⟩   Δₜ ⋅c₁⋅\\partial₁⋅\\partialₜ⋅❘f⟩   Δₜ ⋅c₁⋅\\parti\n",
       "──── + ────────────────────── + ────────────────────────────── + ─────────────\n",
       "                 2                            2                               \n",
       "\n",
       "                      2          2                                            \n",
       "alₜ⋅\\partial₁⋅❘f⟩   Δₜ ⋅\\partialₜ ⋅❘f⟩   Δₜ⋅c₀⋅\\partial₀⋅❘C⟩   Δₜ⋅c₁⋅\\partial₁\n",
       "───────────────── + ────────────────── - ─────────────────── - ───────────────\n",
       " 2                          2                     2                     2     \n",
       "\n",
       "                       \n",
       "⋅❘C⟩   Δₜ⋅\\partialₜ⋅❘C⟩\n",
       "──── - ────────────────\n",
       "              2        "
      ]
     },
     "execution_count": 10,
     "metadata": {},
     "output_type": "execute_result"
    }
   ],
   "source": [
    "((dt/2)* (Dt + c.dot(Dx) ) * eq_4_5 ).expand().subs(dt**3, 0)"
   ]
  },
  {
   "cell_type": "code",
   "execution_count": 11,
   "metadata": {},
   "outputs": [
    {
     "data": {
      "image/png": "[encoded data removed]",
      "text/latex": [
       "$$\\frac{\\Delta_{t}^{2} c_{0}^{2}}{2} \\partial_0^{2} {f} + \\frac{c_{0} c_{1}}{2} \\Delta_{t}^{2} \\partial_0 \\partial_1 {f} + \\frac{c_{0} c_{1}}{2} \\Delta_{t}^{2} \\partial_1 \\partial_0 {f} + \\frac{\\Delta_{t}^{2} c_{0}}{2} \\partial_0 \\partial_t {f} + \\frac{\\Delta_{t}^{2} c_{0}}{2} \\partial_t \\partial_0 {f} + \\frac{\\Delta_{t}^{2} c_{1}^{2}}{2} \\partial_1^{2} {f} + \\frac{\\Delta_{t}^{2} c_{1}}{2} \\partial_1 \\partial_t {f} + \\frac{\\Delta_{t}^{2} c_{1}}{2} \\partial_t \\partial_1 {f} + \\frac{\\Delta_{t}^{2} \\partial_t^{2}}{2} {f} + \\Delta_{t} c_{0} \\partial_0 {f} + \\Delta_{t} c_{1} \\partial_1 {f} + \\Delta_{t} \\partial_t {f} - {C}$$"
      ],
      "text/plain": [
       "  2   2          2         2                                   2              \n",
       "Δₜ ⋅c₀ ⋅\\partial₀ ⋅❘f⟩   Δₜ ⋅c₀⋅c₁⋅\\partial₀⋅\\partial₁⋅❘f⟩   Δₜ ⋅c₀⋅c₁⋅\\partia\n",
       "────────────────────── + ───────────────────────────────── + ─────────────────\n",
       "          2                              2                                   2\n",
       "\n",
       "                     2                                2                       \n",
       "l₁⋅\\partial₀⋅❘f⟩   Δₜ ⋅c₀⋅\\partial₀⋅\\partialₜ⋅❘f⟩   Δₜ ⋅c₀⋅\\partialₜ⋅\\partial₀\n",
       "──────────────── + ────────────────────────────── + ──────────────────────────\n",
       "                                 2                                2           \n",
       "\n",
       "         2   2          2         2                                2          \n",
       "⋅❘f⟩   Δₜ ⋅c₁ ⋅\\partial₁ ⋅❘f⟩   Δₜ ⋅c₁⋅\\partial₁⋅\\partialₜ⋅❘f⟩   Δₜ ⋅c₁⋅\\parti\n",
       "──── + ────────────────────── + ────────────────────────────── + ─────────────\n",
       "                 2                            2                               \n",
       "\n",
       "                      2          2                                            \n",
       "alₜ⋅\\partial₁⋅❘f⟩   Δₜ ⋅\\partialₜ ⋅❘f⟩                                        \n",
       "───────────────── + ────────────────── + Δₜ⋅c₀⋅\\partial₀⋅❘f⟩ + Δₜ⋅c₁⋅\\partial₁\n",
       " 2                          2                                                 \n",
       "\n",
       "                             \n",
       "                             \n",
       "⋅❘f⟩ + Δₜ⋅\\partialₜ⋅❘f⟩ - ❘C⟩\n",
       "                             "
      ]
     },
     "execution_count": 11,
     "metadata": {},
     "output_type": "execute_result"
    }
   ],
   "source": [
    "eq_4_5.expand().subs(dt**3, 0)"
   ]
  },
  {
   "cell_type": "code",
   "execution_count": 12,
   "metadata": {},
   "outputs": [
    {
     "data": {
      "image/png": "[encoded data removed]",
      "text/latex": [
       "$$\\frac{\\Delta_{t} c_{0}}{2} \\partial_0 {C} + \\Delta_{t} c_{0} \\partial_0 {f} + \\frac{\\Delta_{t} c_{1}}{2} \\partial_1 {C} + \\Delta_{t} c_{1} \\partial_1 {f} + \\frac{\\Delta_{t} \\partial_t}{2} {C} + \\Delta_{t} \\partial_t {f} - {C}$$"
      ],
      "text/plain": [
       "Δₜ⋅c₀⋅\\partial₀⋅❘C⟩                         Δₜ⋅c₁⋅\\partial₁⋅❘C⟩               \n",
       "─────────────────── + Δₜ⋅c₀⋅\\partial₀⋅❘f⟩ + ─────────────────── + Δₜ⋅c₁⋅\\parti\n",
       "         2                                           2                        \n",
       "\n",
       "          Δₜ⋅\\partialₜ⋅❘C⟩                         \n",
       "al₁⋅❘f⟩ + ──────────────── + Δₜ⋅\\partialₜ⋅❘f⟩ - ❘C⟩\n",
       "                 2                                 "
      ]
     },
     "execution_count": 12,
     "metadata": {},
     "output_type": "execute_result"
    }
   ],
   "source": [
    "eq_4_7 = eq_4_5 - (dt/2)* (Dt + c.dot(Dx) ) * eq_4_5\n",
    "eq_4_7 = eq_4_7.expand().subs(dt**3, 0)\n",
    "eq_4_7"
   ]
  },
  {
   "cell_type": "markdown",
   "metadata": {},
   "source": [
    "### Chapman Enskog Ansatz\n",
    "\n",
    "Open Question:\n",
    " why is not everything expanded equally (derivatives start at 1, spatial terminates one earlier...)"
   ]
  },
  {
   "cell_type": "code",
   "execution_count": 13,
   "metadata": {},
   "outputs": [
    {
     "data": {
      "text/plain": [
       "sympy.core.symbol.Symbol"
      ]
     },
     "execution_count": 13,
     "metadata": {},
     "output_type": "execute_result"
    }
   ],
   "source": [
    "f.args[0].func"
   ]
  },
  {
   "cell_type": "code",
   "execution_count": 14,
   "metadata": {
    "collapsed": true
   },
   "outputs": [],
   "source": [
    "def getName(obj):\n",
    "    if type(obj) in [Operator, Func]:\n",
    "        return obj.args[0].name\n",
    "    else:\n",
    "        return obj.name\n",
    "\n",
    "\n",
    "def getExpandedName(originalObject, number):\n",
    "    \"\"\"Takes an object (Symbol, Function, Operator) and an index number and returns an object of the same type\n",
    "    with a name, that has as superscript the index in brackets\"\"\"\n",
    "    name = getName(originalObject)\n",
    "    \n",
    "    if '_' in name:\n",
    "        newName = name + \"^{(%i)}\" % (number,)\n",
    "    else:\n",
    "        newName = name + \"_{%i}\" % (number,)\n",
    "    return originalObject.func(newName)\n",
    "\n",
    "\n",
    "def getExpanded(originalObject, fromOrder=0, toOrder=2, indexStart=None, variable=sp.Symbol(\"epsilon\")):       \n",
    "    if type(originalObject) == sp.Matrix:\n",
    "        return originalObject.applyfunc(partial(getExpanded, fromOrder=fromOrder, toOrder=toOrder, \n",
    "                                                indexStart=indexStart, variable=variable))\n",
    "        \n",
    "    if indexStart is None:\n",
    "        indexStart = fromOrder\n",
    "    \n",
    "    result = 0\n",
    "    for i in range(fromOrder, toOrder+1):\n",
    "        result += variable ** i * getExpandedName(originalObject, indexStart)\n",
    "        indexStart += 1\n",
    "        \n",
    "    return result"
   ]
  },
  {
   "cell_type": "code",
   "execution_count": 15,
   "metadata": {},
   "outputs": [
    {
     "data": {
      "image/png": "[encoded data removed]",
      "text/latex": [
       "$$\\left[\\begin{matrix}\\epsilon^{2} \\partial_0^{(2)} + \\epsilon \\partial_0^{(1)} + \\partial_0^{(0)}\\\\\\epsilon^{2} \\partial_1^{(2)} + \\epsilon \\partial_1^{(1)} + \\partial_1^{(0)}\\end{matrix}\\right]$$"
      ],
      "text/plain": [
       "⎡ 2                                                            ⎤\n",
       "⎢ε ⋅\\partial_0__{(2)} + ε⋅\\partial_0__{(1)} + \\partial_0__{(0)}⎥\n",
       "⎢                                                              ⎥\n",
       "⎢ 2                                                            ⎥\n",
       "⎣ε ⋅\\partial_1__{(2)} + ε⋅\\partial_1__{(1)} + \\partial_1__{(0)}⎦"
      ]
     },
     "execution_count": 15,
     "metadata": {},
     "output_type": "execute_result"
    }
   ],
   "source": [
    "getExpanded(Dx)"
   ]
  },
  {
   "cell_type": "code",
   "execution_count": 16,
   "metadata": {},
   "outputs": [
    {
     "data": {
      "image/png": "[encoded data removed]",
      "text/latex": [
       "$$\\left \\{ {f} : \\epsilon^{2} {f_{2}} + \\epsilon {f_{1}} + {f_{0}}, \\quad \\partial_0 : \\epsilon \\partial_0^{(1)}, \\quad \\partial_1 : \\epsilon \\partial_1^{(1)}, \\quad \\partial_t : \\epsilon^{2} \\partial_t^{(2)} + \\epsilon \\partial_t^{(1)}\\right \\}$$"
      ],
      "text/plain": [
       "⎧      2                                                                      \n",
       "⎨❘f⟩: ε ⋅❘f_{2}⟩ + ε⋅❘f_{1}⟩ + ❘f_{0}⟩, \\partial₀: ε⋅\\partial_0__{(1)}, \\parti\n",
       "⎩                                                                             \n",
       "\n",
       "                                      2                                       \n",
       "al₁: ε⋅\\partial_1__{(1)}, \\partialₜ: ε ⋅\\partial_t__{(2)} + ε⋅\\partial_t__{(1)\n",
       "                                                                              \n",
       "\n",
       " ⎫\n",
       "}⎬\n",
       " ⎭"
      ]
     },
     "execution_count": 16,
     "metadata": {},
     "output_type": "execute_result"
    }
   ],
   "source": [
    "eps = sp.Symbol(\"epsilon\")\n",
    "\n",
    "ceF  =  getExpanded(f)\n",
    "ceDt = getExpanded(Dt,  fromOrder=1)\n",
    "ceDx = getExpanded(Dx, fromOrder=1, toOrder=1)\n",
    "\n",
    "ceSubstitutions = {\n",
    "    Dt : ceDt,\n",
    "    f: ceF\n",
    "}\n",
    "ceSubstitutions.update({a: b for a, b in zip(Dx, ceDx)})\n",
    "ceSubstitutions"
   ]
  },
  {
   "cell_type": "markdown",
   "metadata": {},
   "source": [
    "Inserting the SRT/BGK collision operator"
   ]
  },
  {
   "cell_type": "code",
   "execution_count": 17,
   "metadata": {},
   "outputs": [
    {
     "data": {
      "image/png": "[encoded data removed]",
      "text/latex": [
       "$$- \\frac{\\Delta_{t}}{\\tau} \\left(\\epsilon^{2} {f_{2}} + \\epsilon {f_{1}}\\right)$$"
      ],
      "text/plain": [
       "    ⎛ 2                    ⎞ \n",
       "-Δₜ⋅⎝ε ⋅❘f_{2}⟩ + ε⋅❘f_{1}⟩⎠ \n",
       "─────────────────────────────\n",
       "              τ              "
      ]
     },
     "execution_count": 17,
     "metadata": {},
     "output_type": "execute_result"
    }
   ],
   "source": [
    "srtC = -dt / sp.Symbol(\"tau\") * ( ceF - getExpandedName(f,0))\n",
    "srtC"
   ]
  },
  {
   "cell_type": "code",
   "execution_count": 18,
   "metadata": {},
   "outputs": [
    {
     "data": {
      "image/png": "[encoded data removed]",
      "text/latex": [
       "$$\\epsilon^{4} \\left(- \\frac{\\Delta_{t}^{2} \\partial_t^{(2)} {f_{2}}}{2 \\tau} + \\Delta_{t} \\partial_t^{(2)} {f_{2}}\\right) + \\epsilon^{3} \\left(- \\frac{\\Delta_{t}^{2} c_{0} \\partial_0^{(1)} {f_{2}}}{2 \\tau} - \\frac{\\Delta_{t}^{2} c_{1} \\partial_1^{(1)} {f_{2}}}{2 \\tau} - \\frac{\\Delta_{t}^{2} \\partial_t^{(1)} {f_{2}}}{2 \\tau} - \\frac{\\Delta_{t}^{2} \\partial_t^{(2)} {f_{1}}}{2 \\tau} + \\Delta_{t} c_{0} \\partial_0^{(1)} {f_{2}} + \\Delta_{t} c_{1} \\partial_1^{(1)} {f_{2}} + \\Delta_{t} \\partial_t^{(1)} {f_{2}} + \\Delta_{t} \\partial_t^{(2)} {f_{1}}\\right) + \\epsilon^{2} \\left(- \\frac{\\Delta_{t}^{2} c_{0} \\partial_0^{(1)} {f_{1}}}{2 \\tau} - \\frac{\\Delta_{t}^{2} c_{1} \\partial_1^{(1)} {f_{1}}}{2 \\tau} - \\frac{\\Delta_{t}^{2} \\partial_t^{(1)} {f_{1}}}{2 \\tau} + \\Delta_{t} c_{0} \\partial_0^{(1)} {f_{1}} + \\Delta_{t} c_{1} \\partial_1^{(1)} {f_{1}} + \\Delta_{t} \\partial_t^{(1)} {f_{1}} + \\Delta_{t} \\partial_t^{(2)} {f_{0}} + \\frac{\\Delta_{t} {f_{2}}}{\\tau}\\right) + \\epsilon \\left(\\Delta_{t} c_{0} \\partial_0^{(1)} {f_{0}} + \\Delta_{t} c_{1} \\partial_1^{(1)} {f_{0}} + \\Delta_{t} \\partial_t^{(1)} {f_{0}} + \\frac{\\Delta_{t} {f_{1}}}{\\tau}\\right)$$"
      ],
      "text/plain": [
       "   ⎛    2                                                         ⎞      ⎛    \n",
       " 4 ⎜  Δₜ ⋅\\partial_t__{(2)}⋅❘f_{2}⟩                               ⎟    3 ⎜  Δₜ\n",
       "ε ⋅⎜- ───────────────────────────── + Δₜ⋅\\partial_t__{(2)}⋅❘f_{2}⟩⎟ + ε ⋅⎜- ──\n",
       "   ⎝               2⋅τ                                            ⎠      ⎝    \n",
       "\n",
       "2                                  2                                  2       \n",
       " ⋅c₀⋅\\partial_0__{(1)}⋅❘f_{2}⟩   Δₜ ⋅c₁⋅\\partial_1__{(1)}⋅❘f_{2}⟩   Δₜ ⋅\\parti\n",
       "────────────────────────────── - ──────────────────────────────── - ──────────\n",
       "            2⋅τ                                2⋅τ                            \n",
       "\n",
       "                        2                                                     \n",
       "al_t__{(1)}⋅❘f_{2}⟩   Δₜ ⋅\\partial_t__{(2)}⋅❘f_{1}⟩                           \n",
       "─────────────────── - ───────────────────────────── + Δₜ⋅c₀⋅\\partial_0__{(1)}⋅\n",
       "   2⋅τ                             2⋅τ                                        \n",
       "\n",
       "                                                                              \n",
       "                                                                              \n",
       "❘f_{2}⟩ + Δₜ⋅c₁⋅\\partial_1__{(1)}⋅❘f_{2}⟩ + Δₜ⋅\\partial_t__{(1)}⋅❘f_{2}⟩ + Δₜ⋅\n",
       "                                                                              \n",
       "\n",
       "                         ⎞      ⎛    2                                  2     \n",
       "                         ⎟    2 ⎜  Δₜ ⋅c₀⋅\\partial_0__{(1)}⋅❘f_{1}⟩   Δₜ ⋅c₁⋅\\\n",
       "\\partial_t__{(2)}⋅❘f_{1}⟩⎟ + ε ⋅⎜- ──────────────────────────────── - ────────\n",
       "                         ⎠      ⎝                2⋅τ                          \n",
       "\n",
       "                             2                                                \n",
       "partial_1__{(1)}⋅❘f_{1}⟩   Δₜ ⋅\\partial_t__{(1)}⋅❘f_{1}⟩                      \n",
       "──────────────────────── - ───────────────────────────── + Δₜ⋅c₀⋅\\partial_0__{\n",
       "      2⋅τ                               2⋅τ                                   \n",
       "\n",
       "                                                                              \n",
       "                                                                              \n",
       "(1)}⋅❘f_{1}⟩ + Δₜ⋅c₁⋅\\partial_1__{(1)}⋅❘f_{1}⟩ + Δₜ⋅\\partial_t__{(1)}⋅❘f_{1}⟩ \n",
       "                                                                              \n",
       "\n",
       "                                           ⎞                                  \n",
       "                                 Δₜ⋅❘f_{2}⟩⎟     ⎛                            \n",
       "+ Δₜ⋅\\partial_t__{(2)}⋅❘f_{0}⟩ + ──────────⎟ + ε⋅⎜Δₜ⋅c₀⋅\\partial_0__{(1)}⋅❘f_{\n",
       "                                     τ     ⎠     ⎝                            \n",
       "\n",
       "                                                                              \n",
       "                                                                       Δₜ⋅❘f_{\n",
       "0}⟩ + Δₜ⋅c₁⋅\\partial_1__{(1)}⋅❘f_{0}⟩ + Δₜ⋅\\partial_t__{(1)}⋅❘f_{0}⟩ + ───────\n",
       "                                                                           τ  \n",
       "\n",
       "    \n",
       "1}⟩⎞\n",
       "───⎟\n",
       "   ⎠"
      ]
     },
     "execution_count": 18,
     "metadata": {},
     "output_type": "execute_result"
    }
   ],
   "source": [
    "eq_4_7_ce = eq_4_7.subs(ceSubstitutions).subs(C, srtC).expand().collect(eps)\n",
    "eq_4_7_ce"
   ]
  },
  {
   "cell_type": "markdown",
   "metadata": {},
   "source": [
    "$ \\mathcal{O}(\\epsilon) $:"
   ]
  },
  {
   "cell_type": "code",
   "execution_count": 19,
   "metadata": {},
   "outputs": [
    {
     "data": {
      "image/png": "[encoded data removed]",
      "text/latex": [
       "$$c_{0} \\partial_0^{(1)} {f_{0}} + c_{1} \\partial_1^{(1)} {f_{0}} + \\partial_t^{(1)} {f_{0}} + \\frac{{f_{1}}}{\\tau}$$"
      ],
      "text/plain": [
       "                                                                              \n",
       "c₀⋅\\partial_0__{(1)}⋅❘f_{0}⟩ + c₁⋅\\partial_1__{(1)}⋅❘f_{0}⟩ + \\partial_t__{(1)\n",
       "                                                                              \n",
       "\n",
       "            ❘f_{1}⟩\n",
       "}⋅❘f_{0}⟩ + ───────\n",
       "               τ   "
      ]
     },
     "execution_count": 19,
     "metadata": {},
     "output_type": "execute_result"
    }
   ],
   "source": [
    "eq_4_9_a = (eq_4_7_ce.coeff(eps) / dt).expand()\n",
    "eq_4_9_a"
   ]
  },
  {
   "cell_type": "markdown",
   "metadata": {},
   "source": [
    "$ \\mathcal{O}(\\epsilon^2) $:"
   ]
  },
  {
   "cell_type": "code",
   "execution_count": 20,
   "metadata": {},
   "outputs": [
    {
     "data": {
      "image/png": "[encoded data removed]",
      "text/latex": [
       "$$- \\frac{\\Delta_{t} c_{0} \\partial_0^{(1)} {f_{1}}}{2 \\tau} - \\frac{\\Delta_{t} c_{1} \\partial_1^{(1)} {f_{1}}}{2 \\tau} - \\frac{\\Delta_{t} \\partial_t^{(1)} {f_{1}}}{2 \\tau} + c_{0} \\partial_0^{(1)} {f_{1}} + c_{1} \\partial_1^{(1)} {f_{1}} + \\partial_t^{(1)} {f_{1}} + \\partial_t^{(2)} {f_{0}} + \\frac{{f_{2}}}{\\tau}$$"
      ],
      "text/plain": [
       "  Δₜ⋅c₀⋅\\partial_0__{(1)}⋅❘f_{1}⟩   Δₜ⋅c₁⋅\\partial_1__{(1)}⋅❘f_{1}⟩   Δₜ⋅\\part\n",
       "- ─────────────────────────────── - ─────────────────────────────── - ────────\n",
       "                2⋅τ                               2⋅τ                         \n",
       "\n",
       "ial_t__{(1)}⋅❘f_{1}⟩                                                          \n",
       "──────────────────── + c₀⋅\\partial_0__{(1)}⋅❘f_{1}⟩ + c₁⋅\\partial_1__{(1)}⋅❘f_\n",
       "    2⋅τ                                                                       \n",
       "\n",
       "                                                               ❘f_{2}⟩\n",
       "{1}⟩ + \\partial_t__{(1)}⋅❘f_{1}⟩ + \\partial_t__{(2)}⋅❘f_{0}⟩ + ───────\n",
       "                                                                  τ   "
      ]
     },
     "execution_count": 20,
     "metadata": {},
     "output_type": "execute_result"
    }
   ],
   "source": [
    "eq_4_9_b = (eq_4_7_ce.coeff(eps**2) / dt).expand()\n",
    "eq_4_9_b"
   ]
  },
  {
   "cell_type": "markdown",
   "metadata": {},
   "source": [
    "Computing moments"
   ]
  },
  {
   "cell_type": "code",
   "execution_count": 21,
   "metadata": {
    "collapsed": true
   },
   "outputs": [],
   "source": [
    "def getMomentFuncFromCIndices(cIndices, approxOrder):\n",
    "    cLabels = sorted([dimLabels[i] for i in cIndices])\n",
    "    cLabels = sorted([dimLabels[i] for i in cIndices])\n",
    "    resultObject = Func(\"\\Pi^{(%d)}_{%s}\" % (approxOrder, \"\".join(cLabels)))\n",
    "    momentTuple = [0] * len(dimLabels)\n",
    "    for i in range(len(dimLabels)):\n",
    "        momentTuple[i] = cIndices.count(i)\n",
    "    \n",
    "    resultObject.momentTuple = tuple(momentTuple)\n",
    "    resultObject.approxOrder = approxOrder\n",
    "    return resultObject\n",
    "\n",
    "def getMomentFunc(cProduct, approxOrder):\n",
    "    cIndices = []\n",
    "    velTerms = list(c)\n",
    "    for factor, power in cProduct.as_powers_dict().items():\n",
    "        assert factor in velTerms\n",
    "        cIndices += [velTerms.index(factor)] * power\n",
    "    return getMomentFuncFromCIndices(cIndices, approxOrder)\n",
    "\n",
    "def parseMomentFunc(func):\n",
    "    if hasattr(func, 'momentTuple'):\n",
    "        return func.momentTuple, func.approxOrder\n",
    "    \n",
    "def takeMoments(eqn, pdfExpansionTerms, velocityTerms): \n",
    "    def handleProduct(productTerm):\n",
    "        assert productTerm.func == sp.Mul\n",
    "        \n",
    "        fIndices = []\n",
    "        cIndices = []\n",
    "        rest = 1\n",
    "        for factor, power in productTerm.as_powers_dict().items():\n",
    "            if factor in pdfExpansionTerms:\n",
    "                fIndices += [pdfExpansionTerms.index(factor)] * power\n",
    "            elif factor in velocityTerms:\n",
    "                cIndices += [velocityTerms.index(factor)] * power\n",
    "            else:\n",
    "                rest *= factor ** power           \n",
    "        if len(fIndices) != 1:\n",
    "            raise ValueError(\"Cannot take moment of term \" + str(productTerm) + \". Term has to contain exactly one pdf\")\n",
    "        cLabels = sorted([dimLabels[i] for i in cIndices])\n",
    "        \n",
    "        \n",
    "        # TODO make this more explicit by passing in a dict, that contains conserved moment names / values\n",
    "        if len(cLabels) <= 1 and fIndices[0] > 0: # Conserved moments of f_(neq) are zero\n",
    "            return 0\n",
    "        \n",
    "        #return rest * Func(\"\\Pi^{(%d)}_{%s}\" % (fIndices[0], \"\".join(cLabels)))\n",
    "    \n",
    "        if len(cLabels) == 0:\n",
    "            return rest * Func(\"rho\")\n",
    "        elif len(cLabels) == 1:\n",
    "            return rest * Func(\"rho\") * Func(\"u_%s\" % (cLabels[0],))\n",
    "        elif len(cLabels) >= 2:\n",
    "            momSym = getMomentFuncFromCIndices(cIndices, fIndices[0])\n",
    "            return rest * momSym\n",
    "    \n",
    "    eqn = eqn.expand()\n",
    "\n",
    "    if eqn.func == sp.Mul:\n",
    "        return handleProduct(eqn)\n",
    "    else:\n",
    "        assert eqn.func == sp.Add\n",
    "        return sum(handleProduct(t) for t in eqn.args)"
   ]
  },
  {
   "cell_type": "code",
   "execution_count": 22,
   "metadata": {
    "collapsed": true
   },
   "outputs": [],
   "source": [
    "expFs = sorted(list(ceF.atoms(Func)), key=getName)\n",
    "\n",
    "def tm(eq):\n",
    "    return takeMoments(eq, expFs, list(c))"
   ]
  },
  {
   "cell_type": "markdown",
   "metadata": {},
   "source": [
    "### Moments\n",
    "\n",
    "Moments of $\\epsilon$-sorted equations\n",
    "\n",
    "$O(\\epsilon)$"
   ]
  },
  {
   "cell_type": "code",
   "execution_count": 23,
   "metadata": {},
   "outputs": [
    {
     "data": {
      "image/png": "[encoded data removed]",
      "text/latex": [
       "$$\\partial_0^{(1)} {\\rho} {u_{0}} + \\partial_1^{(1)} {\\rho} {u_{1}} + \\partial_t^{(1)} {\\rho}$$"
      ],
      "text/plain": [
       "\\partial_0__{(1)}⋅❘ρ⟩⋅❘u₀⟩ + \\partial_1__{(1)}⋅❘ρ⟩⋅❘u₁⟩ + \\partial_t__{(1)}⋅❘ρ\n",
       "⟩"
      ]
     },
     "execution_count": 23,
     "metadata": {},
     "output_type": "execute_result"
    }
   ],
   "source": [
    "eq_4_10_a = tm(eq_4_9_a)\n",
    "eq_4_10_a"
   ]
  },
  {
   "cell_type": "code",
   "execution_count": 24,
   "metadata": {},
   "outputs": [
    {
     "data": {
      "image/png": "[encoded data removed]",
      "text/latex": [
       "$$\\partial_0^{(1)} {\\Pi^{(0)}_{00}} + \\partial_1^{(1)} {\\Pi^{(0)}_{01}} + \\partial_t^{(1)} {\\rho} {u_{0}}$$"
      ],
      "text/plain": [
       "\\partial_0__{(1)}⋅❘\\Pi_{00}__{(0)}⟩ + \\partial_1__{(1)}⋅❘\\Pi_{01}__{(0)}⟩ + \\p\n",
       "artial_t__{(1)}⋅❘ρ⟩⋅❘u₀⟩"
      ]
     },
     "execution_count": 24,
     "metadata": {},
     "output_type": "execute_result"
    }
   ],
   "source": [
    "eq_4_10_b = tm(eq_4_9_a * c[0])\n",
    "eq_4_10_b"
   ]
  },
  {
   "cell_type": "code",
   "execution_count": 25,
   "metadata": {},
   "outputs": [
    {
     "data": {
      "image/png": "[encoded data removed]",
      "text/latex": [
       "$$\\partial_0^{(1)} {\\Pi^{(0)}_{001}} + \\partial_1^{(1)} {\\Pi^{(0)}_{011}} + \\partial_t^{(1)} {\\Pi^{(0)}_{01}} + \\frac{{\\Pi^{(1)}_{01}}}{\\tau}$$"
      ],
      "text/plain": [
       "                                                                              \n",
       "\\partial_0__{(1)}⋅❘\\Pi_{001}__{(0)}⟩ + \\partial_1__{(1)}⋅❘\\Pi_{011}__{(0)}⟩ + \n",
       "                                                                              \n",
       "\n",
       "                                      ❘\\Pi_{01}__{(1)}⟩\n",
       "\\partial_t__{(1)}⋅❘\\Pi_{01}__{(0)}⟩ + ─────────────────\n",
       "                                              τ        "
      ]
     },
     "execution_count": 25,
     "metadata": {},
     "output_type": "execute_result"
    }
   ],
   "source": [
    "eq_4_10_c = tm(eq_4_9_a * c[0] * c[1])\n",
    "eq_4_10_c"
   ]
  },
  {
   "cell_type": "markdown",
   "metadata": {},
   "source": [
    "$O(\\epsilon^2)$"
   ]
  },
  {
   "cell_type": "code",
   "execution_count": 26,
   "metadata": {},
   "outputs": [
    {
     "data": {
      "image/png": "[encoded data removed]",
      "text/latex": [
       "$$\\partial_t^{(2)} {\\rho}$$"
      ],
      "text/plain": [
       "\\partial_t__{(2)}⋅❘ρ⟩"
      ]
     },
     "execution_count": 26,
     "metadata": {},
     "output_type": "execute_result"
    }
   ],
   "source": [
    "eq_4_12_a = tm(eq_4_9_b)\n",
    "eq_4_12_a"
   ]
  },
  {
   "cell_type": "code",
   "execution_count": 27,
   "metadata": {},
   "outputs": [
    {
     "data": {
      "image/png": "[encoded data removed]",
      "text/latex": [
       "$$- \\frac{\\Delta_{t} \\partial_0^{(1)} {\\Pi^{(1)}_{00}}}{2 \\tau} - \\frac{\\Delta_{t} \\partial_1^{(1)} {\\Pi^{(1)}_{01}}}{2 \\tau} + \\partial_0^{(1)} {\\Pi^{(1)}_{00}} + \\partial_1^{(1)} {\\Pi^{(1)}_{01}} + \\partial_t^{(2)} {\\rho} {u_{0}}$$"
      ],
      "text/plain": [
       "  Δₜ⋅\\partial_0__{(1)}⋅❘\\Pi_{00}__{(1)}⟩   Δₜ⋅\\partial_1__{(1)}⋅❘\\Pi_{01}__{(1\n",
       "- ────────────────────────────────────── - ───────────────────────────────────\n",
       "                   2⋅τ                                      2⋅τ               \n",
       "\n",
       ")}⟩                                                                           \n",
       "─── + \\partial_0__{(1)}⋅❘\\Pi_{00}__{(1)}⟩ + \\partial_1__{(1)}⋅❘\\Pi_{01}__{(1)}\n",
       "                                                                              \n",
       "\n",
       "                              \n",
       "⟩ + \\partial_t__{(2)}⋅❘ρ⟩⋅❘u₀⟩\n",
       "                              "
      ]
     },
     "execution_count": 27,
     "metadata": {},
     "output_type": "execute_result"
    }
   ],
   "source": [
    "eq_4_12_b = tm(eq_4_9_b * c[0])\n",
    "eq_4_12_b"
   ]
  },
  {
   "cell_type": "markdown",
   "metadata": {},
   "source": [
    "Recombination"
   ]
  },
  {
   "cell_type": "code",
   "execution_count": 28,
   "metadata": {},
   "outputs": [
    {
     "data": {
      "image/png": "[encoded data removed]",
      "text/latex": [
       "$$\\epsilon^{2} \\partial_t^{(2)} {\\rho} + \\epsilon \\partial_0^{(1)} {\\rho} {u_{0}} + \\epsilon \\partial_1^{(1)} {\\rho} {u_{1}} + \\epsilon \\partial_t^{(1)} {\\rho}$$"
      ],
      "text/plain": [
       " 2                                                                            \n",
       "ε ⋅\\partial_t__{(2)}⋅❘ρ⟩ + ε⋅\\partial_0__{(1)}⋅❘ρ⟩⋅❘u₀⟩ + ε⋅\\partial_1__{(1)}⋅\n",
       "\n",
       "                                  \n",
       "❘ρ⟩⋅❘u₁⟩ + ε⋅\\partial_t__{(1)}⋅❘ρ⟩"
      ]
     },
     "execution_count": 28,
     "metadata": {},
     "output_type": "execute_result"
    }
   ],
   "source": [
    "(eps * eq_4_10_a + eps**2 * eq_4_12_a).expand()"
   ]
  },
  {
   "cell_type": "code",
   "execution_count": 29,
   "metadata": {},
   "outputs": [
    {
     "data": {
      "image/png": "[encoded data removed]",
      "text/latex": [
       "$$- \\frac{\\Delta_{t} \\epsilon^{2} \\partial_0^{(1)} {\\Pi^{(1)}_{00}}}{2 \\tau} - \\frac{\\Delta_{t} \\epsilon^{2} \\partial_1^{(1)} {\\Pi^{(1)}_{01}}}{2 \\tau} + \\epsilon^{2} \\partial_0^{(1)} {\\Pi^{(1)}_{00}} + \\epsilon^{2} \\partial_1^{(1)} {\\Pi^{(1)}_{01}} + \\epsilon^{2} \\partial_t^{(2)} {\\rho} {u_{0}} + \\epsilon \\partial_0^{(1)} {\\Pi^{(0)}_{00}} + \\epsilon \\partial_1^{(1)} {\\Pi^{(0)}_{01}} + \\epsilon \\partial_t^{(1)} {\\rho} {u_{0}}$$"
      ],
      "text/plain": [
       "      2                                           2                           \n",
       "  Δₜ⋅ε ⋅\\partial_0__{(1)}⋅❘\\Pi_{00}__{(1)}⟩   Δₜ⋅ε ⋅\\partial_1__{(1)}⋅❘\\Pi_{01\n",
       "- ───────────────────────────────────────── - ────────────────────────────────\n",
       "                     2⋅τ                                         2⋅τ          \n",
       "\n",
       "                                                                              \n",
       "}__{(1)}⟩    2                                        2                       \n",
       "───────── + ε ⋅\\partial_0__{(1)}⋅❘\\Pi_{00}__{(1)}⟩ + ε ⋅\\partial_1__{(1)}⋅❘\\Pi\n",
       "                                                                              \n",
       "\n",
       "                                                                              \n",
       "                 2                                                            \n",
       "_{01}__{(1)}⟩ + ε ⋅\\partial_t__{(2)}⋅❘ρ⟩⋅❘u₀⟩ + ε⋅\\partial_0__{(1)}⋅❘\\Pi_{00}_\n",
       "                                                                              \n",
       "\n",
       "                                                                              \n",
       "                                                                              \n",
       "_{(0)}⟩ + ε⋅\\partial_1__{(1)}⋅❘\\Pi_{01}__{(0)}⟩ + ε⋅\\partial_t__{(1)}⋅❘ρ⟩⋅❘u₀⟩\n",
       "                                                                              "
      ]
     },
     "execution_count": 29,
     "metadata": {},
     "output_type": "execute_result"
    }
   ],
   "source": [
    "(eps * eq_4_10_b + eps**2 * eq_4_12_b).expand()"
   ]
  },
  {
   "cell_type": "markdown",
   "metadata": {},
   "source": [
    "### Moments $\\Pi^{(1)}_{\\alpha\\beta}$\n",
    "\n",
    "- results should have all time derivatives replaced by spatial derivatives\n",
    "- input equations: (4.10 a-c)\n",
    "    - for moment of second order, the input equation is the second moment of the $O(\\epsilon)$  equation, which has \n",
    "      the relevant moment on the rhs\n",
    "    - additionally the lower order moments of the same equation are used as well"
   ]
  },
  {
   "cell_type": "code",
   "execution_count": 30,
   "metadata": {},
   "outputs": [
    {
     "data": {
      "image/png": "[encoded data removed]",
      "text/latex": [
       "$$\\left[\\begin{matrix}\\partial_0^{(1)} {\\rho} {u_{0}} + \\partial_1^{(1)} {\\rho} {u_{1}} + \\partial_t^{(1)} {\\rho}\\\\\\partial_0^{(1)} {\\Pi^{(0)}_{00}} + \\partial_1^{(1)} {\\Pi^{(0)}_{01}} + \\partial_t^{(1)} {\\rho} {u_{0}}\\\\\\partial_0^{(1)} {\\Pi^{(0)}_{001}} + \\partial_1^{(1)} {\\Pi^{(0)}_{011}} + \\partial_t^{(1)} {\\Pi^{(0)}_{01}} + \\frac{{\\Pi^{(1)}_{01}}}{\\tau}\\end{matrix}\\right]$$"
      ],
      "text/plain": [
       "⎡                           \\partial_0__{(1)}⋅❘ρ⟩⋅❘u₀⟩ + \\partial_1__{(1)}⋅❘ρ⟩\n",
       "⎢                                                                             \n",
       "⎢               \\partial_0__{(1)}⋅❘\\Pi_{00}__{(0)}⟩ + \\partial_1__{(1)}⋅❘\\Pi_{\n",
       "⎢                                                                             \n",
       "⎢                                                                             \n",
       "⎢\\partial_0__{(1)}⋅❘\\Pi_{001}__{(0)}⟩ + \\partial_1__{(1)}⋅❘\\Pi_{011}__{(0)}⟩ +\n",
       "⎣                                                                             \n",
       "\n",
       "⋅❘u₁⟩ + \\partial_t__{(1)}⋅❘ρ⟩                           ⎤\n",
       "                                                        ⎥\n",
       "01}__{(0)}⟩ + \\partial_t__{(1)}⋅❘ρ⟩⋅❘u₀⟩                ⎥\n",
       "                                                        ⎥\n",
       "                                       ❘\\Pi_{01}__{(1)}⟩⎥\n",
       " \\partial_t__{(1)}⋅❘\\Pi_{01}__{(0)}⟩ + ─────────────────⎥\n",
       "                                               τ        ⎦"
      ]
     },
     "execution_count": 30,
     "metadata": {},
     "output_type": "execute_result"
    }
   ],
   "source": [
    "sp.Matrix([tm(eq_4_9_a),  tm(eq_4_9_a * c[0]), tm(eq_4_9_a * c[0] * c[1]) ])"
   ]
  },
  {
   "cell_type": "code",
   "execution_count": null,
   "metadata": {
    "collapsed": true
   },
   "outputs": [],
   "source": []
  },
  {
   "cell_type": "code",
   "execution_count": 31,
   "metadata": {
    "collapsed": true
   },
   "outputs": [],
   "source": [
    "def momentSymbolsToFunc(expr):\n",
    "    subsDict = {sym: Func(sym.name)  for sym in expr.atoms(sp.Symbol)}\n",
    "    return expr.subs(subsDict)\n",
    "\n",
    "def momentGetterD2Q9(momentTuple):\n",
    "    from lbmpy.moments import discreteMoment\n",
    "    from lbmpy.creationfunctions import createLatticeBoltzmannMethod\n",
    "    from lbmpy.stencils import getStencil\n",
    "    stencilName = \"D2Q9\"\n",
    "    method = createLatticeBoltzmannMethod(stencil=stencilName, compressible=True, equilibriumAccuracyOrder=2)\n",
    "    eq = method.getEquilibrium()\n",
    "    eq = tuple(e.rhs for e in eq.mainEquations)\n",
    "    return momentSymbolsToFunc(discreteMoment(eq, momentTuple, getStencil(stencilName)))\n",
    "\n",
    "def replaceEquilibriumMoments(eq, momentGetter):\n",
    "    subsDict = {}\n",
    "    for func in eq.atoms(Func):\n",
    "        mom = parseMomentFunc(func)\n",
    "        if mom:\n",
    "            momentTuple, approxOrder = mom\n",
    "            if approxOrder == 0:\n",
    "                subsDict[func] = momentGetter(momentTuple)\n",
    "    return eq.subs(subsDict)\n",
    "\n",
    "def getSecondOrderMomentEq(oEpsEq, cProduct):\n",
    "    solveResult = sp.solve( tm(oEpsEq * cProduct), getMomentFunc(cProduct, 1) )\n",
    "    assert len(solveResult) == 1, \"Could not solve for required moment\"\n",
    "    momEq = solveResult[0]\n",
    "    return momEq\n",
    "\n",
    "def solveWithWorkaround(equation, termToSolveFor):\n",
    "    dummy = sp.Dummy()\n",
    "    equation = equation.subs(termToSolveFor, dummy)\n",
    "    rest = None\n",
    "    for term in equation.expand().args:\n",
    "        if dummy in term.atoms(sp.Symbol):\n",
    "            rest = term / dummy\n",
    "            break\n",
    "    assert rest is not None\n",
    "    #print(\"Rest\", rest)\n",
    "    equation = ((1/rest) * equation).expand()\n",
    "    #return equation\n",
    "    return sp.solve_linear(equation, symbols=[dummy])[1]"
   ]
  },
  {
   "cell_type": "markdown",
   "metadata": {},
   "source": [
    "## Derivation of second (higher order) moment as in A.2"
   ]
  },
  {
   "cell_type": "code",
   "execution_count": 32,
   "metadata": {},
   "outputs": [
    {
     "data": {
      "image/png": "[encoded data removed]",
      "text/latex": [
       "$$\\left[\\begin{matrix}{\\rho} \\partial_0^{(1)} {u_{0}} + {\\rho} \\partial_1^{(1)} {u_{1}} + {u_{0}} \\partial_0^{(1)} {\\rho} + {u_{1}} \\partial_1^{(1)} {\\rho} + \\partial_t^{(1)} {\\rho}\\\\2 {\\rho} {u_{0}} \\partial_0^{(1)} {u_{0}} + {\\rho} {u_{0}} \\partial_1^{(1)} {u_{1}} + {\\rho} {u_{1}} \\partial_1^{(1)} {u_{0}} + {\\rho} \\partial_t^{(1)} {u_{0}} + {u_{0}} {u_{1}} \\partial_1^{(1)} {\\rho} + {u_{0}} \\partial_t^{(1)} {\\rho} + {u_{0}}^{2} \\partial_0^{(1)} {\\rho} + \\frac{\\partial_0^{(1)} {\\rho}}{3}\\\\{\\rho} {u_{0}} \\partial_0^{(1)} {u_{1}} + {\\rho} {u_{1}} \\partial_0^{(1)} {u_{0}} + 2 {\\rho} {u_{1}} \\partial_1^{(1)} {u_{1}} + {\\rho} \\partial_t^{(1)} {u_{1}} + {u_{0}} {u_{1}} \\partial_0^{(1)} {\\rho} + {u_{1}} \\partial_t^{(1)} {\\rho} + {u_{1}}^{2} \\partial_1^{(1)} {\\rho} + \\frac{\\partial_1^{(1)} {\\rho}}{3}\\\\\\frac{1}{3} \\left({\\rho} \\partial_0^{(1)} {u_{1}} + {u_{1}} \\partial_0^{(1)} {\\rho}\\right) + \\frac{1}{3} \\left({\\rho} \\partial_1^{(1)} {u_{0}} + {u_{0}} \\partial_1^{(1)} {\\rho}\\right) + {\\rho} {u_{0}} \\partial_t^{(1)} {u_{1}} + {\\rho} {u_{1}} \\partial_t^{(1)} {u_{0}} + {u_{0}} {u_{1}} \\partial_t^{(1)} {\\rho} + \\frac{{\\Pi^{(1)}_{01}}}{\\tau}\\end{matrix}\\right]$$"
      ],
      "text/plain": [
       "⎡                                                       ❘ρ⟩⋅\\partial_0__{(1)}⋅\n",
       "⎢                                                                             \n",
       "⎢                                                                             \n",
       "⎢2⋅❘ρ⟩⋅❘u₀⟩⋅\\partial_0__{(1)}⋅❘u₀⟩ + ❘ρ⟩⋅❘u₀⟩⋅\\partial_1__{(1)}⋅❘u₁⟩ + ❘ρ⟩⋅❘u₁\n",
       "⎢                                                                             \n",
       "⎢                                                                             \n",
       "⎢                                                                             \n",
       "⎢❘ρ⟩⋅❘u₀⟩⋅\\partial_0__{(1)}⋅❘u₁⟩ + ❘ρ⟩⋅❘u₁⟩⋅\\partial_0__{(1)}⋅❘u₀⟩ + 2⋅❘ρ⟩⋅❘u₁\n",
       "⎢                                                                             \n",
       "⎢                                                                             \n",
       "⎢      ❘ρ⟩⋅\\partial_0__{(1)}⋅❘u₁⟩ + ❘u₁⟩⋅\\partial_0__{(1)}⋅❘ρ⟩   ❘ρ⟩⋅\\partial_\n",
       "⎢      ─────────────────────────────────────────────────────── + ─────────────\n",
       "⎣                                 3                                           \n",
       "\n",
       "❘u₀⟩ + ❘ρ⟩⋅\\partial_1__{(1)}⋅❘u₁⟩ + ❘u₀⟩⋅\\partial_0__{(1)}⋅❘ρ⟩ + ❘u₁⟩⋅\\partial\n",
       "                                                                              \n",
       "                                                                              \n",
       "⟩⋅\\partial_1__{(1)}⋅❘u₀⟩ + ❘ρ⟩⋅\\partial_t__{(1)}⋅❘u₀⟩ + ❘u₀⟩⋅❘u₁⟩⋅\\partial_1__\n",
       "                                                                              \n",
       "                                                                              \n",
       "                                                                              \n",
       "⟩⋅\\partial_1__{(1)}⋅❘u₁⟩ + ❘ρ⟩⋅\\partial_t__{(1)}⋅❘u₁⟩ + ❘u₀⟩⋅❘u₁⟩⋅\\partial_0__\n",
       "                                                                              \n",
       "                                                                              \n",
       "1__{(1)}⋅❘u₀⟩ + ❘u₀⟩⋅\\partial_1__{(1)}⋅❘ρ⟩                                    \n",
       "────────────────────────────────────────── + ❘ρ⟩⋅❘u₀⟩⋅\\partial_t__{(1)}⋅❘u₁⟩ +\n",
       "              3                                                               \n",
       "\n",
       "_1__{(1)}⋅❘ρ⟩ + \\partial_t__{(1)}⋅❘ρ⟩                                         \n",
       "                                                                              \n",
       "                                             2                         \\partia\n",
       "{(1)}⋅❘ρ⟩ + ❘u₀⟩⋅\\partial_t__{(1)}⋅❘ρ⟩ + ❘u₀⟩ ⋅\\partial_0__{(1)}⋅❘ρ⟩ + ───────\n",
       "                                                                              \n",
       "                                                                              \n",
       "                                             2                         \\partia\n",
       "{(1)}⋅❘ρ⟩ + ❘u₁⟩⋅\\partial_t__{(1)}⋅❘ρ⟩ + ❘u₁⟩ ⋅\\partial_1__{(1)}⋅❘ρ⟩ + ───────\n",
       "                                                                              \n",
       "                                                                              \n",
       "                                                                     ❘\\Pi_{01}\n",
       " ❘ρ⟩⋅❘u₁⟩⋅\\partial_t__{(1)}⋅❘u₀⟩ + ❘u₀⟩⋅❘u₁⟩⋅\\partial_t__{(1)}⋅❘ρ⟩ + ─────────\n",
       "                                                                             τ\n",
       "\n",
       "              ⎤\n",
       "              ⎥\n",
       "l_0__{(1)}⋅❘ρ⟩⎥\n",
       "──────────────⎥\n",
       "   3          ⎥\n",
       "              ⎥\n",
       "l_1__{(1)}⋅❘ρ⟩⎥\n",
       "──────────────⎥\n",
       "   3          ⎥\n",
       "              ⎥\n",
       "__{(1)}⟩      ⎥\n",
       "────────      ⎥\n",
       "              ⎦"
      ]
     },
     "execution_count": 32,
     "metadata": {},
     "output_type": "execute_result"
    }
   ],
   "source": [
    "eqs = [expandDerivatives(replaceEquilibriumMoments(tm(eq_4_9_a * cs), momentGetterD2Q9))\n",
    "       for cs in [sp.Rational(1,1),  c[0], c[1],  c[0] * c[1] ] ]\n",
    "sp.Matrix(eqs)"
   ]
  },
  {
   "cell_type": "code",
   "execution_count": null,
   "metadata": {
    "collapsed": true
   },
   "outputs": [],
   "source": []
  },
  {
   "cell_type": "code",
   "execution_count": 33,
   "metadata": {},
   "outputs": [
    {
     "data": {
      "image/png": "[encoded data removed]",
      "text/latex": [
       "$$- \\tau {\\rho} {u_{0}} \\partial_t^{(1)} {u_{1}} - \\tau {\\rho} {u_{1}} \\partial_t^{(1)} {u_{0}} - \\frac{\\tau {\\rho}}{3} \\partial_0^{(1)} {u_{1}} - \\frac{\\tau {\\rho}}{3} \\partial_1^{(1)} {u_{0}} - \\tau {u_{0}} {u_{1}} \\partial_t^{(1)} {\\rho} - \\frac{\\tau {u_{0}}}{3} \\partial_1^{(1)} {\\rho} - \\frac{\\tau {u_{1}}}{3} \\partial_0^{(1)} {\\rho}$$"
      ],
      "text/plain": [
       "                                                                         τ⋅❘ρ⟩\n",
       "-τ⋅❘ρ⟩⋅❘u₀⟩⋅\\partial_t__{(1)}⋅❘u₁⟩ - τ⋅❘ρ⟩⋅❘u₁⟩⋅\\partial_t__{(1)}⋅❘u₀⟩ - ─────\n",
       "                                                                              \n",
       "\n",
       "⋅\\partial_0__{(1)}⋅❘u₁⟩   τ⋅❘ρ⟩⋅\\partial_1__{(1)}⋅❘u₀⟩                        \n",
       "─────────────────────── - ──────────────────────────── - τ⋅❘u₀⟩⋅❘u₁⟩⋅\\partial_\n",
       "        3                              3                                      \n",
       "\n",
       "               τ⋅❘u₀⟩⋅\\partial_1__{(1)}⋅❘ρ⟩   τ⋅❘u₁⟩⋅\\partial_0__{(1)}⋅❘ρ⟩\n",
       "t__{(1)}⋅❘ρ⟩ - ──────────────────────────── - ────────────────────────────\n",
       "                            3                              3              "
      ]
     },
     "execution_count": 33,
     "metadata": {},
     "output_type": "execute_result"
    }
   ],
   "source": [
    "secondOrderMomentEq = getSecondOrderMomentEq(eq_4_9_a, c[0] * c[1])\n",
    "secondOrderMomentEq = replaceEquilibriumMoments(secondOrderMomentEq, momentGetterD2Q9).expand()\n",
    "secondOrderMomentEq = expandDerivatives(secondOrderMomentEq).expand()\n",
    "secondOrderMomentEq"
   ]
  },
  {
   "cell_type": "markdown",
   "metadata": {},
   "source": [
    "Time derivatives have to be replaced with information from lower order moments"
   ]
  },
  {
   "cell_type": "code",
   "execution_count": 34,
   "metadata": {},
   "outputs": [
    {
     "data": {
      "image/png": "[encoded data removed]",
      "text/latex": [
       "$$- {\\rho} \\partial_0^{(1)} {u_{0}} - {\\rho} \\partial_1^{(1)} {u_{1}} - {u_{0}} \\partial_0^{(1)} {\\rho} - {u_{1}} \\partial_1^{(1)} {\\rho}$$"
      ],
      "text/plain": [
       "-❘ρ⟩⋅\\partial_0__{(1)}⋅❘u₀⟩ - ❘ρ⟩⋅\\partial_1__{(1)}⋅❘u₁⟩ - ❘u₀⟩⋅\\partial_0__{(\n",
       "1)}⋅❘ρ⟩ - ❘u₁⟩⋅\\partial_1__{(1)}⋅❘ρ⟩"
      ]
     },
     "execution_count": 34,
     "metadata": {},
     "output_type": "execute_result"
    }
   ],
   "source": [
    "rhoDeriv = getDiffOperator(\"t\", \"{(1)}\") * Func(\"rho\")\n",
    "rhoSolveRes = solveWithWorkaround(eqs[0],rhoDeriv)\n",
    "rhoSolveRes"
   ]
  },
  {
   "cell_type": "code",
   "execution_count": 35,
   "metadata": {},
   "outputs": [
    {
     "data": {
      "image/png": "[encoded data removed]",
      "text/latex": [
       "$$2 {\\rho} {u_{0}} \\partial_0^{(1)} {u_{0}} + {\\rho} {u_{0}} \\partial_1^{(1)} {u_{1}} + {\\rho} {u_{1}} \\partial_1^{(1)} {u_{0}} + {\\rho} \\partial_t^{(1)} {u_{0}} - {u_{0}} {\\rho} \\partial_0^{(1)} {u_{0}} - {u_{0}} {\\rho} \\partial_1^{(1)} {u_{1}} + \\frac{\\partial_0^{(1)} {\\rho}}{3}$$"
      ],
      "text/plain": [
       "                                                                              \n",
       "2⋅❘ρ⟩⋅❘u₀⟩⋅\\partial_0__{(1)}⋅❘u₀⟩ + ❘ρ⟩⋅❘u₀⟩⋅\\partial_1__{(1)}⋅❘u₁⟩ + ❘ρ⟩⋅❘u₁⟩\n",
       "                                                                              \n",
       "\n",
       "                                                                              \n",
       "⋅\\partial_1__{(1)}⋅❘u₀⟩ + ❘ρ⟩⋅\\partial_t__{(1)}⋅❘u₀⟩ - ❘u₀⟩⋅❘ρ⟩⋅\\partial_0__{(\n",
       "                                                                              \n",
       "\n",
       "                                             \\partial_0__{(1)}⋅❘ρ⟩\n",
       "1)}⋅❘u₀⟩ - ❘u₀⟩⋅❘ρ⟩⋅\\partial_1__{(1)}⋅❘u₁⟩ + ─────────────────────\n",
       "                                                       3          "
      ]
     },
     "execution_count": 35,
     "metadata": {},
     "output_type": "execute_result"
    }
   ],
   "source": [
    "eqs[1] = eqs[1].subs(rhoDeriv, rhoSolveRes).expand()\n",
    "eqs[1]"
   ]
  },
  {
   "cell_type": "code",
   "execution_count": 36,
   "metadata": {},
   "outputs": [
    {
     "data": {
      "image/png": "[encoded data removed]",
      "text/latex": [
       "$$- \\frac{{\\rho}^{-1} \\partial_0^{(1)}}{3} {\\rho} - {u_{0}} \\partial_0^{(1)} {u_{0}} - {u_{1}} \\partial_1^{(1)} {u_{0}}$$"
      ],
      "text/plain": [
       "     -1                                                                       \n",
       "  ❘ρ⟩  ⋅\\partial_0__{(1)}⋅❘ρ⟩                                                 \n",
       "- ─────────────────────────── - ❘u₀⟩⋅\\partial_0__{(1)}⋅❘u₀⟩ - ❘u₁⟩⋅\\partial_1_\n",
       "               3                                                              \n",
       "\n",
       "           \n",
       "           \n",
       "_{(1)}⋅❘u₀⟩\n",
       "           "
      ]
     },
     "execution_count": 36,
     "metadata": {},
     "output_type": "execute_result"
    }
   ],
   "source": [
    "from pystencils.display_utils import toDot\n",
    "u0Div = getDiffOperator(\"t\", \"{(1)}\") * Func(\"u_0\")\n",
    "u0SolveRes = solveWithWorkaround(eqs[1], u0Div).subs(rhoDeriv, rhoSolveRes).expand()\n",
    "u0SolveRes = commuteTerms(u0SolveRes)\n",
    "u0SolveRes\n",
    "#testTerm = u0SolveRes.args[3]\n",
    "#toDot(testTerm)"
   ]
  },
  {
   "cell_type": "code",
   "execution_count": 37,
   "metadata": {},
   "outputs": [
    {
     "data": {
      "image/png": "[encoded data removed]",
      "text/latex": [
       "$$- \\frac{{\\rho}^{-1} \\partial_1^{(1)}}{3} {\\rho} - {u_{0}} \\partial_0^{(1)} {u_{1}} - {u_{1}} \\partial_1^{(1)} {u_{1}}$$"
      ],
      "text/plain": [
       "     -1                                                                       \n",
       "  ❘ρ⟩  ⋅\\partial_1__{(1)}⋅❘ρ⟩                                                 \n",
       "- ─────────────────────────── - ❘u₀⟩⋅\\partial_0__{(1)}⋅❘u₁⟩ - ❘u₁⟩⋅\\partial_1_\n",
       "               3                                                              \n",
       "\n",
       "           \n",
       "           \n",
       "_{(1)}⋅❘u₁⟩\n",
       "           "
      ]
     },
     "execution_count": 37,
     "metadata": {},
     "output_type": "execute_result"
    }
   ],
   "source": [
    "u1Div = getDiffOperator(\"t\", \"{(1)}\") * Func(\"u_1\")\n",
    "u1SolveRes = solveWithWorkaround(eqs[2], u1Div).subs(rhoDeriv, rhoSolveRes).expand()\n",
    "u1SolveRes = commuteTerms(u1SolveRes)\n",
    "u1SolveRes"
   ]
  },
  {
   "cell_type": "code",
   "execution_count": 38,
   "metadata": {},
   "outputs": [
    {
     "data": {
      "image/png": "[encoded data removed]",
      "text/latex": [
       "$$\\frac{\\tau {\\rho}}{3} {u_{0}} {\\rho}^{-1} \\partial_1^{(1)} {\\rho} + \\tau {\\rho} {u_{0}} {u_{1}} \\partial_1^{(1)} {u_{1}} + \\tau {\\rho} {u_{0}}^{2} \\partial_0^{(1)} {u_{1}} + \\frac{\\tau {\\rho}}{3} {u_{1}} {\\rho}^{-1} \\partial_0^{(1)} {\\rho} + \\tau {\\rho} {u_{1}} {u_{0}} \\partial_0^{(1)} {u_{0}} + \\tau {\\rho} {u_{1}}^{2} \\partial_1^{(1)} {u_{0}} - \\frac{\\tau {\\rho}}{3} \\partial_0^{(1)} {u_{1}} - \\frac{\\tau {\\rho}}{3} \\partial_1^{(1)} {u_{0}} + \\tau {u_{0}} {u_{1}} {\\rho} \\partial_0^{(1)} {u_{0}} + \\tau {u_{0}} {u_{1}} {\\rho} \\partial_1^{(1)} {u_{1}} + \\tau {u_{0}} {u_{1}} {u_{0}} \\partial_0^{(1)} {\\rho} + \\tau {u_{0}} {u_{1}}^{2} \\partial_1^{(1)} {\\rho} - \\frac{\\tau {u_{0}}}{3} \\partial_1^{(1)} {\\rho} - \\frac{\\tau {u_{1}}}{3} \\partial_0^{(1)} {\\rho}$$"
      ],
      "text/plain": [
       "              -1                                                              \n",
       "τ⋅❘ρ⟩⋅❘u₀⟩⋅❘ρ⟩  ⋅\\partial_1__{(1)}⋅❘ρ⟩                                        \n",
       "────────────────────────────────────── + τ⋅❘ρ⟩⋅❘u₀⟩⋅❘u₁⟩⋅\\partial_1__{(1)}⋅❘u₁\n",
       "                  3                                                           \n",
       "\n",
       "                                                       -1                     \n",
       "              2                          τ⋅❘ρ⟩⋅❘u₁⟩⋅❘ρ⟩  ⋅\\partial_0__{(1)}⋅❘ρ\n",
       "⟩ + τ⋅❘ρ⟩⋅❘u₀⟩ ⋅\\partial_0__{(1)}⋅❘u₁⟩ + ─────────────────────────────────────\n",
       "                                                           3                  \n",
       "\n",
       "                                                                              \n",
       "⟩                                                      2                      \n",
       "─ + τ⋅❘ρ⟩⋅❘u₁⟩⋅❘u₀⟩⋅\\partial_0__{(1)}⋅❘u₀⟩ + τ⋅❘ρ⟩⋅❘u₁⟩ ⋅\\partial_1__{(1)}⋅❘u₀\n",
       "                                                                              \n",
       "\n",
       "                                                                              \n",
       "    τ⋅❘ρ⟩⋅\\partial_0__{(1)}⋅❘u₁⟩   τ⋅❘ρ⟩⋅\\partial_1__{(1)}⋅❘u₀⟩               \n",
       "⟩ - ──────────────────────────── - ──────────────────────────── + τ⋅❘u₀⟩⋅❘u₁⟩⋅\n",
       "                 3                              3                             \n",
       "\n",
       "                                                                              \n",
       "                                                                              \n",
       "❘ρ⟩⋅\\partial_0__{(1)}⋅❘u₀⟩ + τ⋅❘u₀⟩⋅❘u₁⟩⋅❘ρ⟩⋅\\partial_1__{(1)}⋅❘u₁⟩ + τ⋅❘u₀⟩⋅❘\n",
       "                                                                              \n",
       "\n",
       "                                                                              \n",
       "                                            2                         τ⋅❘u₀⟩⋅\\\n",
       "u₁⟩⋅❘u₀⟩⋅\\partial_0__{(1)}⋅❘ρ⟩ + τ⋅❘u₀⟩⋅❘u₁⟩ ⋅\\partial_1__{(1)}⋅❘ρ⟩ - ────────\n",
       "                                                                              \n",
       "\n",
       "                                                   \n",
       "partial_1__{(1)}⋅❘ρ⟩   τ⋅❘u₁⟩⋅\\partial_0__{(1)}⋅❘ρ⟩\n",
       "──────────────────── - ────────────────────────────\n",
       "     3                              3              "
      ]
     },
     "execution_count": 38,
     "metadata": {},
     "output_type": "execute_result"
    }
   ],
   "source": [
    "subsDict = {rhoDeriv: rhoSolveRes,\n",
    "            u0Div: u0SolveRes, \n",
    "            u1Div: u1SolveRes}\n",
    "res = secondOrderMomentEq.subs(subsDict).expand()\n",
    "res"
   ]
  },
  {
   "cell_type": "code",
   "execution_count": 39,
   "metadata": {},
   "outputs": [
    {
     "data": {
      "image/png": "[encoded data removed]",
      "text/latex": [
       "$$\\frac{{\\rho} \\partial_0^{(1)}}{3} {u_{1}} + \\frac{{\\rho} \\partial_1^{(1)}}{3} {u_{0}} - {u_{0}}^{2} {\\rho} \\partial_0^{(1)} {u_{1}} - 2 {u_{1}} {u_{0}} {\\rho} \\partial_0^{(1)} {u_{0}} - 2 {u_{1}} {u_{0}} {\\rho} \\partial_1^{(1)} {u_{1}} - {u_{1}} {u_{0}}^{2} \\partial_0^{(1)} {\\rho} - {u_{1}}^{2} {\\rho} \\partial_1^{(1)} {u_{0}} - {u_{1}}^{2} {u_{0}} \\partial_1^{(1)} {\\rho}$$"
      ],
      "text/plain": [
       "❘ρ⟩⋅\\partial_0__{(1)}⋅❘u₁⟩   ❘ρ⟩⋅\\partial_1__{(1)}⋅❘u₀⟩       2               \n",
       "────────────────────────── + ────────────────────────── - ❘u₀⟩ ⋅❘ρ⟩⋅\\partial_0\n",
       "            3                            3                                    \n",
       "\n",
       "                                                                              \n",
       "__{(1)}⋅❘u₁⟩ - 2⋅❘u₁⟩⋅❘u₀⟩⋅❘ρ⟩⋅\\partial_0__{(1)}⋅❘u₀⟩ - 2⋅❘u₁⟩⋅❘u₀⟩⋅❘ρ⟩⋅\\parti\n",
       "                                                                              \n",
       "\n",
       "                            2                             2                   \n",
       "al_1__{(1)}⋅❘u₁⟩ - ❘u₁⟩⋅❘u₀⟩ ⋅\\partial_0__{(1)}⋅❘ρ⟩ - ❘u₁⟩ ⋅❘ρ⟩⋅\\partial_1__{(\n",
       "                                                                              \n",
       "\n",
       "               2                           \n",
       "1)}⋅❘u₀⟩ - ❘u₁⟩ ⋅❘u₀⟩⋅\\partial_1__{(1)}⋅❘ρ⟩\n",
       "                                           "
      ]
     },
     "execution_count": 39,
     "metadata": {},
     "output_type": "execute_result"
    }
   ],
   "source": [
    "res = (commuteTerms(res) / (-sp.Symbol(\"tau\") )).expand()\n",
    "result = commuteTerms(res)\n",
    "result"
   ]
  },
  {
   "cell_type": "code",
   "execution_count": null,
   "metadata": {
    "collapsed": true
   },
   "outputs": [],
   "source": []
  },
  {
   "cell_type": "code",
   "execution_count": 40,
   "metadata": {},
   "outputs": [
    {
     "data": {
      "image/png": "[encoded data removed]",
      "text/latex": [
       "$$6 {\\rho} \\partial_0^{(1)} {u_{1}} + 6 {\\rho} \\partial_1^{(1)} {u_{0}} - {u_{0}}^{2} \\partial_0^{(1)} {\\rho} {u_{1}} - 2 {u_{1}} {u_{0}} {\\rho} \\partial_0^{(1)} {u_{0}} - 2 {u_{1}} {u_{0}} {\\rho} \\partial_1^{(1)} {u_{1}} - {u_{1}}^{2} \\partial_1^{(1)} {\\rho} {u_{0}}$$"
      ],
      "text/plain": [
       "                                                                  2           \n",
       "6⋅❘ρ⟩⋅\\partial_0__{(1)}⋅❘u₁⟩ + 6⋅❘ρ⟩⋅\\partial_1__{(1)}⋅❘u₀⟩ - ❘u₀⟩ ⋅\\partial_0\n",
       "\n",
       "                                                                              \n",
       "__{(1)}⋅❘ρ⟩⋅❘u₁⟩ - 2⋅❘u₁⟩⋅❘u₀⟩⋅❘ρ⟩⋅\\partial_0__{(1)}⋅❘u₀⟩ - 2⋅❘u₁⟩⋅❘u₀⟩⋅❘ρ⟩⋅\\p\n",
       "\n",
       "                           2                           \n",
       "artial_1__{(1)}⋅❘u₁⟩ - ❘u₁⟩ ⋅\\partial_1__{(1)}⋅❘ρ⟩⋅❘u₀⟩"
      ]
     },
     "execution_count": 40,
     "metadata": {},
     "output_type": "execute_result"
    }
   ],
   "source": [
    "combineDerivatives(combineDerivatives(commuteTerms(res)))"
   ]
  },
  {
   "cell_type": "code",
   "execution_count": null,
   "metadata": {
    "collapsed": true
   },
   "outputs": [],
   "source": []
  }
 ],
 "metadata": {
  "kernelspec": {
   "display_name": "Python 3",
   "language": "python",
   "name": "python3"
  },
  "language_info": {
   "codemirror_mode": {
    "name": "ipython",
    "version": 3
   },
   "file_extension": ".py",
   "mimetype": "text/x-python",
   "name": "python",
   "nbconvert_exporter": "python",
   "pygments_lexer": "ipython3",
   "version": "3.6.1"
  }
 },
 "nbformat": 4,
 "nbformat_minor": 2
}
