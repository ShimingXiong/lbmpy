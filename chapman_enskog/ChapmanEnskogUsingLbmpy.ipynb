{
 "cells": [
  {
   "cell_type": "code",
   "execution_count": 10,
   "metadata": {},
   "outputs": [],
   "source": [
    "import sympy as sp\n",
    "import operator\n",
    "import itertools\n",
    "from functools import partial, reduce\n",
    "from lbmpy.chapman_enskog import *\n",
    "from lbmpy.creationfunctions import createLatticeBoltzmannMethod\n",
    "from pystencils.display_utils import toDot\n",
    "from pystencils.sympyextensions import productSymmetric\n",
    "from IPython.display import display\n",
    "\n",
    "from lbmpy.chapman_enskog.chapman_enskog import *\n",
    "\n",
    "DiffOp = DiffOperator\n",
    "\n",
    "sp.init_printing()\n",
    "\n",
    "c = sp.Matrix([expandedSymbol(\"c\", subscript=i) for i in range(3)])"
   ]
  },
  {
   "cell_type": "code",
   "execution_count": 39,
   "metadata": {},
   "outputs": [
    {
     "data": {
      "text/html": [
       "\n",
       "        <table style=\"border:none; width: 100%\">\n",
       "            <tr style=\"border:none\">\n",
       "                <th style=\"border:none\" >Moment</th>\n",
       "                <th style=\"border:none\" >Eq. Value </th>\n",
       "                <th style=\"border:none\" >Relaxation Rate</th>\n",
       "            </tr>\n",
       "            <tr style=\"border:none\">\n",
       "                            <td style=\"border:none\">$1$</td>\n",
       "                            <td style=\"border:none\">$\\rho$</td>\n",
       "                            <td style=\"border:none\">$\\omega_{0}$</td>\n",
       "                         </tr>\n",
       "<tr style=\"border:none\">\n",
       "                            <td style=\"border:none\">$y$</td>\n",
       "                            <td style=\"border:none\">$\\rho u_{1}$</td>\n",
       "                            <td style=\"border:none\">$\\omega_{1}$</td>\n",
       "                         </tr>\n",
       "<tr style=\"border:none\">\n",
       "                            <td style=\"border:none\">$y^{2}$</td>\n",
       "                            <td style=\"border:none\">$c_{s}^{2} \\rho + \\rho u_{1}^{2}$</td>\n",
       "                            <td style=\"border:none\">$\\omega_{0}$</td>\n",
       "                         </tr>\n",
       "<tr style=\"border:none\">\n",
       "                            <td style=\"border:none\">$x$</td>\n",
       "                            <td style=\"border:none\">$\\rho u_{0}$</td>\n",
       "                            <td style=\"border:none\">$\\omega_{1}$</td>\n",
       "                         </tr>\n",
       "<tr style=\"border:none\">\n",
       "                            <td style=\"border:none\">$x y$</td>\n",
       "                            <td style=\"border:none\">$\\rho u_{0} u_{1}$</td>\n",
       "                            <td style=\"border:none\">$\\omega_{0}$</td>\n",
       "                         </tr>\n",
       "<tr style=\"border:none\">\n",
       "                            <td style=\"border:none\">$x y^{2}$</td>\n",
       "                            <td style=\"border:none\">$c_{s}^{2} \\rho u_{0} + \\rho u_{0} u_{1}^{2}$</td>\n",
       "                            <td style=\"border:none\">$\\omega_{1}$</td>\n",
       "                         </tr>\n",
       "<tr style=\"border:none\">\n",
       "                            <td style=\"border:none\">$x^{2}$</td>\n",
       "                            <td style=\"border:none\">$c_{s}^{2} \\rho + \\rho u_{0}^{2}$</td>\n",
       "                            <td style=\"border:none\">$\\omega_{0}$</td>\n",
       "                         </tr>\n",
       "<tr style=\"border:none\">\n",
       "                            <td style=\"border:none\">$x^{2} y$</td>\n",
       "                            <td style=\"border:none\">$c_{s}^{2} \\rho u_{1} + \\rho u_{0}^{2} u_{1}$</td>\n",
       "                            <td style=\"border:none\">$\\omega_{1}$</td>\n",
       "                         </tr>\n",
       "<tr style=\"border:none\">\n",
       "                            <td style=\"border:none\">$x^{2} y^{2}$</td>\n",
       "                            <td style=\"border:none\">$c_{s}^{4} \\rho + c_{s}^{2} \\rho u_{0}^{2} + c_{s}^{2} \\rho u_{1}^{2}$</td>\n",
       "                            <td style=\"border:none\">$\\omega_{0}$</td>\n",
       "                         </tr>\n",
       "\n",
       "        </table>\n",
       "        "
      ],
      "text/plain": [
       "<lbmpy.methods.momentbased.MomentBasedLbMethod at 0x7fac6a302630>"
      ]
     },
     "execution_count": 39,
     "metadata": {},
     "output_type": "execute_result"
    }
   ],
   "source": [
    "method = createLatticeBoltzmannMethod(stencil=\"D2Q9\", \n",
    "                                      equilibriumAccuracyOrder=3,\n",
    "                                      compressible=True,\n",
    "                                      useContinuousMaxwellianEquilibrium=True,\n",
    "                                      c_s_sq=sp.Symbol(\"c_s\")**2,\n",
    "                                      #relaxationRate=1 / sp.Symbol(\"tau\")\n",
    "                                      method='trt'\n",
    "                                     )\n",
    "method"
   ]
  },
  {
   "cell_type": "code",
   "execution_count": 40,
   "metadata": {},
   "outputs": [
    {
     "data": {
      "text/latex": [
       "$$- Cf + \\frac{\\Delta_{t} c_{0}}{2} {\\partial_{0} Cf} + \\frac{\\Delta_{t} c_{1}}{2} {\\partial_{1} Cf} + \\frac{\\Delta_{t}}{2} {\\partial_{t} Cf} + c_{0} {\\partial_{0} f} + c_{1} {\\partial_{1} f} + {\\partial_{t} f}$$"
      ],
      "text/plain": [
       "      Δₜ⋅c_{0}⋅Diff(Cf, 0, -1)   Δₜ⋅c_{1}⋅Diff(Cf, 1, -1)   Δₜ⋅Diff(Cf, t, -1)\n",
       "-Cf + ──────────────────────── + ──────────────────────── + ──────────────────\n",
       "                 2                          2                       2         \n",
       "\n",
       "                                                               \n",
       " + c_{0}⋅Diff(f, 0, -1) + c_{1}⋅Diff(f, 1, -1) + Diff(f, t, -1)\n",
       "                                                               "
      ]
     },
     "execution_count": 40,
     "metadata": {},
     "output_type": "execute_result"
    }
   ],
   "source": [
    "eq = getTaylorExpandedLbEquation(dim=method.dim)\n",
    "eq"
   ]
  },
  {
   "cell_type": "code",
   "execution_count": 41,
   "metadata": {},
   "outputs": [
    {
     "data": {
      "text/latex": [
       "$$\\left \\{ 0 : - Cf^{(0)}, \\quad 1 : - Cf^{(1)} + \\frac{\\Delta_{t} c_{0}}{2} {\\partial^{(1)}_{0} Cf^{(0)}} + \\frac{\\Delta_{t} c_{1}}{2} {\\partial^{(1)}_{1} Cf^{(0)}} + \\frac{\\Delta_{t}}{2} {\\partial^{(1)}_{t} Cf^{(0)}} + c_{0} {\\partial^{(1)}_{0} f^{(0)}} + c_{1} {\\partial^{(1)}_{1} f^{(0)}} + {\\partial^{(1)}_{t} f^{(0)}}, \\quad 2 : - Cf^{(2)} + \\frac{\\Delta_{t} c_{0}}{2} {\\partial^{(1)}_{0} Cf^{(1)}} + \\frac{\\Delta_{t} c_{1}}{2} {\\partial^{(1)}_{1} Cf^{(1)}} + \\frac{\\Delta_{t}}{2} {\\partial^{(2)}_{t} Cf^{(0)}} + \\frac{\\Delta_{t}}{2} {\\partial^{(1)}_{t} Cf^{(1)}} + c_{0} {\\partial^{(1)}_{0} f^{(1)}} + c_{1} {\\partial^{(1)}_{1} f^{(1)}} + {\\partial^{(2)}_{t} f^{(0)}} + {\\partial^{(1)}_{t} f^{(1)}}, \\quad 3 : \\frac{\\Delta_{t} c_{0}}{2} {\\partial^{(1)}_{0} Cf^{(2)}} + \\frac{\\Delta_{t} c_{1}}{2} {\\partial^{(1)}_{1} Cf^{(2)}} + \\frac{\\Delta_{t}}{2} {\\partial^{(2)}_{t} Cf^{(1)}} + \\frac{\\Delta_{t}}{2} {\\partial^{(1)}_{t} Cf^{(2)}} + c_{0} {\\partial^{(1)}_{0} f^{(2)}} + c_{1} {\\partial^{(1)}_{1} f^{(2)}} + {\\partial^{(2)}_{t} f^{(1)}} + {\\partial^{(1)}_{t} f^{(2)}}, \\quad 4 : \\frac{\\Delta_{t}}{2} {\\partial^{(2)}_{t} Cf^{(2)}} + {\\partial^{(2)}_{t} f^{(2)}}, \\quad 5 : 0\\right \\}$$"
      ],
      "text/plain": [
       "⎧                               Δₜ⋅c_{0}⋅Diff(Cf^{(0)}, 0, 1)   Δₜ⋅c_{1}⋅Diff(\n",
       "⎨0: -Cf__{(0)}, 1: -Cf__{(1)} + ───────────────────────────── + ──────────────\n",
       "⎩                                             2                               \n",
       "\n",
       "Cf^{(0)}, 1, 1)   Δₜ⋅Diff(Cf^{(0)}, t, 1)                                     \n",
       "─────────────── + ─────────────────────── + c_{0}⋅Diff(f^{(0)}, 0, 1) + c_{1}⋅\n",
       "2                            2                                                \n",
       "\n",
       "                                                           Δₜ⋅c_{0}⋅Diff(Cf^{(\n",
       "Diff(f^{(0)}, 1, 1) + Diff(f^{(0)}, t, 1), 2: -Cf__{(2)} + ───────────────────\n",
       "                                                                         2    \n",
       "\n",
       "1)}, 0, 1)   Δₜ⋅c_{1}⋅Diff(Cf^{(1)}, 1, 1)   Δₜ⋅Diff(Cf^{(0)}, t, 2)   Δₜ⋅Diff\n",
       "────────── + ───────────────────────────── + ─────────────────────── + ───────\n",
       "                           2                            2                     \n",
       "\n",
       "(Cf^{(1)}, t, 1)                                                              \n",
       "──────────────── + c_{0}⋅Diff(f^{(1)}, 0, 1) + c_{1}⋅Diff(f^{(1)}, 1, 1) + Dif\n",
       "    2                                                                         \n",
       "\n",
       "                                           Δₜ⋅c_{0}⋅Diff(Cf^{(2)}, 0, 1)   Δₜ⋅\n",
       "f(f^{(0)}, t, 2) + Diff(f^{(1)}, t, 1), 3: ───────────────────────────── + ───\n",
       "                                                         2                    \n",
       "\n",
       "c_{1}⋅Diff(Cf^{(2)}, 1, 1)   Δₜ⋅Diff(Cf^{(1)}, t, 2)   Δₜ⋅Diff(Cf^{(2)}, t, 1)\n",
       "────────────────────────── + ─────────────────────── + ───────────────────────\n",
       "           2                            2                         2           \n",
       "\n",
       "                                                                              \n",
       " + c_{0}⋅Diff(f^{(2)}, 0, 1) + c_{1}⋅Diff(f^{(2)}, 1, 1) + Diff(f^{(1)}, t, 2)\n",
       "                                                                              \n",
       "\n",
       "                           Δₜ⋅Diff(Cf^{(2)}, t, 2)                            \n",
       " + Diff(f^{(2)}, t, 1), 4: ─────────────────────── + Diff(f^{(2)}, t, 2), 5: 0\n",
       "                                      2                                       \n",
       "\n",
       "⎫\n",
       "⎬\n",
       "⎭"
      ]
     },
     "execution_count": 41,
     "metadata": {},
     "output_type": "execute_result"
    }
   ],
   "source": [
    "epsDict = useChapmanEnskogAnsatz(eq)\n",
    "epsDict"
   ]
  },
  {
   "cell_type": "code",
   "execution_count": 42,
   "metadata": {},
   "outputs": [
    {
     "data": {
      "text/latex": [
       "$$- Cf^{(1)} + \\frac{\\Delta_{t} c_{0}}{2} {\\partial^{(1)}_{0} Cf^{(0)}} + \\frac{\\Delta_{t} c_{1}}{2} {\\partial^{(1)}_{1} Cf^{(0)}} + \\frac{\\Delta_{t}}{2} {\\partial^{(1)}_{t} Cf^{(0)}} + c_{0} {\\partial^{(1)}_{0} f^{(0)}} + c_{1} {\\partial^{(1)}_{1} f^{(0)}} + {\\partial^{(1)}_{t} f^{(0)}}$$"
      ],
      "text/plain": [
       "             Δₜ⋅c_{0}⋅Diff(Cf^{(0)}, 0, 1)   Δₜ⋅c_{1}⋅Diff(Cf^{(0)}, 1, 1)   Δ\n",
       "-Cf__{(1)} + ───────────────────────────── + ───────────────────────────── + ─\n",
       "                           2                               2                  \n",
       "\n",
       "ₜ⋅Diff(Cf^{(0)}, t, 1)                                                        \n",
       "────────────────────── + c_{0}⋅Diff(f^{(0)}, 0, 1) + c_{1}⋅Diff(f^{(0)}, 1, 1)\n",
       "          2                                                                   \n",
       "\n",
       "                      \n",
       " + Diff(f^{(0)}, t, 1)\n",
       "                      "
      ]
     },
     "execution_count": 42,
     "metadata": {},
     "output_type": "execute_result"
    }
   ],
   "source": [
    "epsDict[1] "
   ]
  },
  {
   "cell_type": "code",
   "execution_count": 43,
   "metadata": {},
   "outputs": [
    {
     "data": {
      "text/latex": [
       "$$- {\\Upsilon_{}^{(1)}} + \\frac{\\Delta_{t}}{2} {\\partial^{(1)}_{0} {\\Upsilon_{x}^{(0)}}} + \\frac{\\Delta_{t}}{2} {\\partial^{(1)}_{1} {\\Upsilon_{y}^{(0)}}} + \\frac{\\Delta_{t}}{2} {\\partial^{(1)}_{t} {\\Upsilon_{}^{(0)}}} + {\\partial^{(1)}_{0} {\\Pi_{x}^{(0)}}} + {\\partial^{(1)}_{1} {\\Pi_{y}^{(0)}}} + {\\partial^{(1)}_{t} {\\Pi_{}^{(0)}}}$$"
      ],
      "text/plain": [
       "            Δₜ⋅Diff(\\Upsilon, 0, 1)   Δₜ⋅Diff(\\Upsilon, 1, 1)   Δₜ⋅Diff(\\Upsil\n",
       "-\\Upsilon + ─────────────────────── + ─────────────────────── + ──────────────\n",
       "                       2                         2                         2  \n",
       "\n",
       "on, t, 1)                                                      \n",
       "───────── + Diff(\\Pi, 0, 1) + Diff(\\Pi, 1, 1) + Diff(\\Pi, t, 1)\n",
       "                                                               "
      ]
     },
     "execution_count": 43,
     "metadata": {},
     "output_type": "execute_result"
    }
   ],
   "source": [
    "momEq = takeMomentsG(epsDict[1])\n",
    "momEq"
   ]
  },
  {
   "cell_type": "code",
   "execution_count": 51,
   "metadata": {},
   "outputs": [
    {
     "data": {
      "text/latex": [
       "$$- {\\Pi_{xx}^{(1)}} \\omega_{0} + \\frac{\\Delta_{t}}{2} {\\partial^{(1)}_{0} (\\rho u_{0}) } + {\\partial^{(1)}_{0} (\\rho u_{0}) } + {\\partial^{(1)}_{t} (c_{s}^{2} \\rho + \\rho u_{0}^{2}) } + {\\partial^{(1)}_{1} (c_{s}^{2} \\rho u_{1} + \\rho u_{0}^{2} u_{1}) }$$"
      ],
      "text/plain": [
       "          Δₜ⋅Diff(rho*u_0, 0, 1)                                              \n",
       "-\\Pi⋅ω₀ + ────────────────────── + Diff(rho*u_0, 0, 1) + Diff(c_s**2*rho + rho\n",
       "                    2                                                         \n",
       "\n",
       "                                                            \n",
       "*u_0**2, t, 1) + Diff(c_s**2*rho*u_1 + rho*u_0**2*u_1, 1, 1)\n",
       "                                                            "
      ]
     },
     "execution_count": 51,
     "metadata": {},
     "output_type": "execute_result"
    }
   ],
   "source": [
    "methodMoments = LbMethodEqMoments(method)\n",
    "momEq = substituteCollisionOperatorMoments(momEq, method)\n",
    "momEq"
   ]
  },
  {
   "cell_type": "code",
   "execution_count": 52,
   "metadata": {},
   "outputs": [
    {
     "data": {
      "text/latex": [
       "$$- {\\Pi_{xx}^{(1)}} \\omega_{0} + \\frac{\\Delta_{t}}{2} {\\partial^{(1)}_{0} (\\rho u_{0}) } + {\\partial^{(1)}_{0} (\\rho u_{0}) } + {\\partial^{(1)}_{t} (c_{s}^{2} \\rho + \\rho u_{0}^{2}) } + {\\partial^{(1)}_{1} (c_{s}^{2} \\rho u_{1} + \\rho u_{0}^{2} u_{1}) }$$"
      ],
      "text/plain": [
       "          Δₜ⋅Diff(rho*u_0, 0, 1)                                              \n",
       "-\\Pi⋅ω₀ + ────────────────────── + Diff(rho*u_0, 0, 1) + Diff(c_s**2*rho + rho\n",
       "                    2                                                         \n",
       "\n",
       "                                                            \n",
       "*u_0**2, t, 1) + Diff(c_s**2*rho*u_1 + rho*u_0**2*u_1, 1, 1)\n",
       "                                                            "
      ]
     },
     "execution_count": 52,
     "metadata": {},
     "output_type": "execute_result"
    }
   ],
   "source": [
    "insertMoments(momEq, methodMoments).expand()"
   ]
  },
  {
   "cell_type": "code",
   "execution_count": null,
   "metadata": {},
   "outputs": [],
   "source": []
  },
  {
   "cell_type": "code",
   "execution_count": 53,
   "metadata": {},
   "outputs": [
    {
     "data": {
      "text/latex": [
       "$$\\frac{\\Delta_{t}}{2} {\\partial^{(1)}_{0} ({\\Pi_{xx}^{(1)}} \\omega_{0}) } + \\frac{\\Delta_{t}}{2} {\\partial^{(1)}_{1} ({\\Pi_{xy}^{(1)}} \\omega_{0}) } + {\\partial^{(1)}_{0} {\\Pi_{xx}^{(1)}}} + {\\partial^{(1)}_{1} {\\Pi_{xy}^{(1)}}} + {\\partial^{(2)}_{t} (\\rho u_{0}) }$$"
      ],
      "text/plain": [
       "Δₜ⋅Diff(\\Pi*omega_0, 0, 1)   Δₜ⋅Diff(\\Pi*omega_0, 1, 1)                       \n",
       "────────────────────────── + ────────────────────────── + Diff(\\Pi, 0, 1) + Di\n",
       "            2                            2                                    \n",
       "\n",
       "                                   \n",
       "ff(\\Pi, 1, 1) + Diff(rho*u_0, t, 2)\n",
       "                                   "
      ]
     },
     "execution_count": 53,
     "metadata": {},
     "output_type": "execute_result"
    }
   ],
   "source": [
    "momEq = takeMomentsG(epsDict[2] * c[0])\n",
    "momEq = substituteCollisionOperatorMoments(momEq, method)\n",
    "momEq = insertMoments(momEq, methodMoments).expand()\n",
    "func = [sp.Symbol(\"rho\")] + list(c) + list(momEq.atoms(CeMoment))\n",
    "#momEq = expandUsingLinearity(momEq, func).expand()\n",
    "momEq"
   ]
  },
  {
   "cell_type": "code",
   "execution_count": 54,
   "metadata": {},
   "outputs": [
    {
     "name": "stderr",
     "output_type": "stream",
     "text": [
      "/local/bauer/code/lbmpy/lbmpy/chapman_enskog/chapman_enskog.py:130: UserWarning: Could not replace postcollision moment x**3, not found in methods relaxation info\n",
      "  \"not found in methods relaxation info\")\n"
     ]
    },
    {
     "data": {
      "text/latex": [
       "$$- {\\Pi_{xx}^{(1)}} \\omega_{0} + \\frac{\\Delta_{t}}{2} {\\partial^{(1)}_{0} (\\rho u_{0}) } + {\\partial^{(1)}_{0} (\\rho u_{0}) } + {\\partial^{(1)}_{t} (c_{s}^{2} \\rho + \\rho u_{0}^{2}) } + {\\partial^{(1)}_{1} (c_{s}^{2} \\rho u_{1} + \\rho u_{0}^{2} u_{1}) }$$"
      ],
      "text/plain": [
       "          Δₜ⋅Diff(rho*u_0, 0, 1)                                              \n",
       "-\\Pi⋅ω₀ + ────────────────────── + Diff(rho*u_0, 0, 1) + Diff(c_s**2*rho + rho\n",
       "                    2                                                         \n",
       "\n",
       "                                                            \n",
       "*u_0**2, t, 1) + Diff(c_s**2*rho*u_1 + rho*u_0**2*u_1, 1, 1)\n",
       "                                                            "
      ]
     },
     "execution_count": 54,
     "metadata": {},
     "output_type": "execute_result"
    }
   ],
   "source": [
    "momEq = takeMomentsG(epsDict[1] * c[0] * c[0])\n",
    "momEq = substituteCollisionOperatorMoments(momEq, method)\n",
    "momEq = insertMoments(momEq, methodMoments).expand()\n",
    "func = [sp.Symbol(\"rho\")] + list(c) + list(momEq.atoms(CeMoment))\n",
    "#momEq = expandUsingLinearity(momEq, func).expand()\n",
    "momEq"
   ]
  },
  {
   "cell_type": "markdown",
   "metadata": {},
   "source": [
    "--> x**3 works just like x"
   ]
  },
  {
   "cell_type": "code",
   "execution_count": null,
   "metadata": {
    "collapsed": true
   },
   "outputs": [],
   "source": []
  }
 ],
 "metadata": {
  "kernelspec": {
   "display_name": "Python 3",
   "language": "python",
   "name": "python3"
  },
  "language_info": {
   "codemirror_mode": {
    "name": "ipython",
    "version": 3
   },
   "file_extension": ".py",
   "mimetype": "text/x-python",
   "name": "python",
   "nbconvert_exporter": "python",
   "pygments_lexer": "ipython3",
   "version": "3.6.1"
  }
 },
 "nbformat": 4,
 "nbformat_minor": 2
}
