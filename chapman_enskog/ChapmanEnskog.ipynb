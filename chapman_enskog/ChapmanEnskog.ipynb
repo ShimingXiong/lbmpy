{
 "cells": [
  {
   "cell_type": "code",
   "execution_count": 6,
   "metadata": {
    "collapsed": true
   },
   "outputs": [],
   "source": [
    "import sympy as sp\n",
    "\n",
    "# Using operator and kets from quantum module to represent differential operators and pdfs\n",
    "from  sympy.physics.quantum import Ket as Func\n",
    "from  sympy.physics.quantum import Operator\n",
    "# Disable Ket notation |f> for functions\n",
    "Func.lbracket_latex =''\n",
    "Func.rbracket_latex = ''\n",
    "\n",
    "sp.init_printing()"
   ]
  },
  {
   "cell_type": "markdown",
   "metadata": {},
   "source": [
    "# Chapman Enskog analysis\n",
    "\n",
    "Particle distribution function $f$:"
   ]
  },
  {
   "cell_type": "code",
   "execution_count": 7,
   "metadata": {
    "collapsed": true
   },
   "outputs": [],
   "source": [
    "c = sp.Symbol(\"c_x\")\n",
    "dt = sp.Symbol(\"Delta_t\")\n",
    "t = sp.symbols(\"t\")\n",
    "f = Func(\"f\")\n",
    "C = Func(\"C\")"
   ]
  },
  {
   "cell_type": "markdown",
   "metadata": {},
   "source": [
    "Differential operators (defined simply as non-commutative symbols here)"
   ]
  },
  {
   "cell_type": "code",
   "execution_count": 8,
   "metadata": {
    "collapsed": true
   },
   "outputs": [],
   "source": [
    "Dx = Operator(\"\\partial_x\") \n",
    "Dt = Operator(\"\\partial_t\")"
   ]
  },
  {
   "cell_type": "code",
   "execution_count": 9,
   "metadata": {},
   "outputs": [
    {
     "data": {
      "image/png": "[encoded data removed]",
      "text/latex": [
       "$$\\frac{\\Delta_{t}^{2}}{2} \\left(c_{x} \\partial_x + \\partial_t\\right)^{2} + \\Delta_{t} \\left(c_{x} \\partial_x + \\partial_t\\right)$$"
      ],
      "text/plain": [
       "  2                           2                                \n",
       "Δₜ ⋅(cₓ⋅\\partialₓ + \\partialₜ)                                 \n",
       "─────────────────────────────── + Δₜ⋅(cₓ⋅\\partialₓ + \\partialₜ)\n",
       "               2                                               "
      ]
     },
     "execution_count": 9,
     "metadata": {},
     "output_type": "execute_result"
    }
   ],
   "source": [
    "taylorOrder = 2\n",
    "taylorOperator = sum(dt**k * (Dt + c* Dx)**k / sp.functions.factorial(k)\n",
    "                     for k in range(1, taylorOrder+1))\n",
    "taylorOperator"
   ]
  },
  {
   "cell_type": "markdown",
   "metadata": {},
   "source": [
    "As right-hand-side we use the abstract collision operator $C$, which corresponds to (4.5)"
   ]
  },
  {
   "cell_type": "code",
   "execution_count": 10,
   "metadata": {},
   "outputs": [
    {
     "data": {
      "image/png": "[encoded data removed]",
      "text/latex": [
       "$$\\left(\\frac{\\Delta_{t}^{2}}{2} \\left(c_{x} \\partial_x + \\partial_t\\right)^{2} + \\Delta_{t} \\left(c_{x} \\partial_x + \\partial_t\\right)\\right) {f} - {C}$$"
      ],
      "text/plain": [
       "⎛  2                           2                                ⎞          \n",
       "⎜Δₜ ⋅(cₓ⋅\\partialₓ + \\partialₜ)                                 ⎟          \n",
       "⎜─────────────────────────────── + Δₜ⋅(cₓ⋅\\partialₓ + \\partialₜ)⎟⋅❘f⟩ - ❘C⟩\n",
       "⎝               2                                               ⎠          "
      ]
     },
     "execution_count": 10,
     "metadata": {},
     "output_type": "execute_result"
    }
   ],
   "source": [
    "eq_4_5 = (taylorOperator * f) - C\n",
    "eq_4_5"
   ]
  },
  {
   "cell_type": "markdown",
   "metadata": {},
   "source": [
    "Following the same steps as in the book, getting rid of second derivative, and discarding $\\Delta_t^3$ we get to (4.7)"
   ]
  },
  {
   "cell_type": "code",
   "execution_count": null,
   "metadata": {},
   "outputs": [],
   "source": [
    "eq_4_7 = eq_4_5 - (dt/2)* (Dt + c*Dx) * eq_4_5\n",
    "eq_4_7 = eq_4_7.expand().subs(dt**3, 0)\n",
    "eq_4_7"
   ]
  },
  {
   "cell_type": "markdown",
   "metadata": {},
   "source": [
    "### Chapman Enskog Ansatz\n",
    "\n",
    "Open Question:\n",
    " why is not everything expanded equally (derivatives start at 1, spatial terminates one earlier...)"
   ]
  },
  {
   "cell_type": "code",
   "execution_count": null,
   "metadata": {},
   "outputs": [],
   "source": [
    "eps = sp.Symbol(\"epsilon\")\n",
    "\n",
    "ceSymbolsF = [Func(\"f{}\".format(i)) for i in range(3)]\n",
    "ceSymbolsDt = [Operator(\"\\partial_t^{{ ({}) }}\".format(i)) for i in range(1,3)]\n",
    "ceSymbolsDx = [Operator(\"\\partial_x^{{ ({}) }}\".format(i)) for i in range(1,2)]\n",
    "\n",
    "ceF =  sum(eps**k * s for k, s in enumerate(ceSymbolsF, start=0))\n",
    "ceDt = sum(eps**k * s for k, s in enumerate(ceSymbolsDt, start=1))\n",
    "ceDx = sum(eps**k * s for k, s in enumerate(ceSymbolsDx, start=1))\n",
    "\n",
    "ceSubstitutions = {\n",
    "    Dt : ceDt,\n",
    "    Dx : ceDx,\n",
    "    f: ceF\n",
    "}\n",
    "ceSubstitutions"
   ]
  },
  {
   "cell_type": "markdown",
   "metadata": {},
   "source": [
    "Inserting the SRT/BGK collision operator"
   ]
  },
  {
   "cell_type": "code",
   "execution_count": null,
   "metadata": {},
   "outputs": [],
   "source": [
    "srtC = -dt / sp.Symbol(\"tau\") * ( ceF - ceSymbolsF[0])\n",
    "srtC"
   ]
  },
  {
   "cell_type": "code",
   "execution_count": null,
   "metadata": {},
   "outputs": [],
   "source": [
    "eq_4_7_ce = eq_4_7.subs(ceSubstitutions).subs(C, srtC).expand().collect(eps)\n",
    "eq_4_7_ce"
   ]
  },
  {
   "cell_type": "code",
   "execution_count": null,
   "metadata": {},
   "outputs": [],
   "source": [
    "eq_4_9_a = (eq_4_7_ce.coeff(eps) / dt).expand()\n",
    "eq_4_9_a"
   ]
  },
  {
   "cell_type": "code",
   "execution_count": null,
   "metadata": {},
   "outputs": [],
   "source": [
    "eq_4_9_b = (eq_4_7_ce.coeff(eps**2) / dt).expand()\n",
    "eq_4_9_b"
   ]
  },
  {
   "cell_type": "markdown",
   "metadata": {},
   "source": [
    "Computing moments"
   ]
  },
  {
   "cell_type": "code",
   "execution_count": null,
   "metadata": {
    "collapsed": true
   },
   "outputs": [],
   "source": [
    "import operator\n",
    "from functools import reduce\n",
    "def prod(factors):\n",
    "    return reduce(operator.mul, factors, 1)\n",
    "\n",
    "def getMomentSymbol(idx, order):\n",
    "    momentOrderStr = ['alpha', 'beta', 'gamma', 'delta']\n",
    "    momentOrderStr = \"_\".join(momentOrderStr[:order-1] + ['x'])\n",
    "    return sp.Symbol(\"Pi^(%d)_%s\" % (idx, momentOrderStr), commutative=False)\n",
    "\n",
    "def takeMoments(eqn, order):\n",
    "    markerTerms = sp.symbols(\"c_alpha c_beta c_gamma c_delta\")\n",
    "    velocityTermSet = set(markerTerms)\n",
    "    velocityTermSet.add(c)\n",
    "    factor = prod(markerTerms[:order])\n",
    "    eqn = (eqn*factor).expand()\n",
    "    result = 0\n",
    "    for fac in eqn.args:\n",
    "        occuringFs = list(fac.atoms(Func))\n",
    "        assert len(occuringFs) < 2\n",
    "        if len(occuringFs) == 0:\n",
    "            result += fac\n",
    "            continue\n",
    "        fIdx = ceSymbolsF.index(occuringFs[0])\n",
    "        \n",
    "        occuringCs = fac.atoms(sp.Symbol).intersection(velocityTermSet)\n",
    "        facWithoutCs = sp.cancel(fac / prod(occuringCs) / occuringFs[0])\n",
    "        assert not facWithoutCs.atoms(sp.Symbol).intersection(velocityTermSet), \"Non-linear velocity term\"\n",
    "        \n",
    "        # TODO handle multiple non-marker terms\n",
    "        moment = getMomentSymbol(fIdx, len(occuringCs))\n",
    "        #momentOrderStr = ['alpha', 'beta', 'gamma', 'delta']\n",
    "        #momentOrderStr = \"_\".join(momentOrderStr[:len(occuringCs)])\n",
    "        #moment = sp.Symbol(\"Pi^(%d)_%s\" % (fIdx, momentOrderStr), commutative=False)\n",
    "        result += facWithoutCs * moment\n",
    "        \n",
    "    return result"
   ]
  },
  {
   "cell_type": "code",
   "execution_count": null,
   "metadata": {},
   "outputs": [],
   "source": [
    "rho = Func(\"rho\")\n",
    "u_x = Func(\"u_x\")\n",
    "momentReplacements = {\n",
    "    getMomentSymbol(0, 0): rho,\n",
    "    getMomentSymbol(0, 1): rho * u_x,\n",
    "    \n",
    "    getMomentSymbol(1, 0): 0, # According to eq 4.4\n",
    "    getMomentSymbol(1, 1): 0,\n",
    "    getMomentSymbol(2, 0): 0,\n",
    "    getMomentSymbol(2, 1): 0,\n",
    "}\n",
    "momentReplacements"
   ]
  },
  {
   "cell_type": "markdown",
   "metadata": {},
   "source": [
    "### Moments\n",
    "\n",
    "Moments of $\\epsilon$-sorted equations\n",
    "\n",
    "$O(\\epsilon)$"
   ]
  },
  {
   "cell_type": "code",
   "execution_count": null,
   "metadata": {},
   "outputs": [],
   "source": [
    "eq_4_10_a = takeMoments(eq_4_9_a, 0).subs(momentReplacements)\n",
    "eq_4_10_a"
   ]
  },
  {
   "cell_type": "code",
   "execution_count": null,
   "metadata": {},
   "outputs": [],
   "source": [
    "eq_4_10_b = takeMoments(eq_4_9_a, 1).subs(momentReplacements)\n",
    "eq_4_10_b"
   ]
  },
  {
   "cell_type": "code",
   "execution_count": null,
   "metadata": {},
   "outputs": [],
   "source": [
    "eq_4_10_c = takeMoments(eq_4_9_a, 2).subs(momentReplacements)\n",
    "eq_4_10_c"
   ]
  },
  {
   "cell_type": "markdown",
   "metadata": {},
   "source": [
    "$O(\\epsilon^2)$"
   ]
  },
  {
   "cell_type": "code",
   "execution_count": null,
   "metadata": {},
   "outputs": [],
   "source": [
    "eq_4_12_a = takeMoments(eq_4_9_b, 0).subs(momentReplacements)\n",
    "eq_4_12_a"
   ]
  },
  {
   "cell_type": "code",
   "execution_count": null,
   "metadata": {},
   "outputs": [],
   "source": [
    "eq_4_12_b = takeMoments(eq_4_9_b, 1).subs(momentReplacements)\n",
    "eq_4_12_b"
   ]
  },
  {
   "cell_type": "markdown",
   "metadata": {},
   "source": [
    "Recombination"
   ]
  },
  {
   "cell_type": "code",
   "execution_count": null,
   "metadata": {},
   "outputs": [],
   "source": [
    "(eps * eq_4_10_a + eps**2 * eq_4_12_a).expand()"
   ]
  },
  {
   "cell_type": "code",
   "execution_count": null,
   "metadata": {},
   "outputs": [],
   "source": [
    "(eps * eq_4_10_b + eps**2 * eq_4_12_b).expand()"
   ]
  },
  {
   "cell_type": "code",
   "execution_count": null,
   "metadata": {},
   "outputs": [],
   "source": [
    "stressTensorSubs = -"
   ]
  },
  {
   "cell_type": "code",
   "execution_count": null,
   "metadata": {},
   "outputs": [],
   "source": [
    "from lbmpy.maxwellian_equilibrium import getMomentsOfDiscreteMaxwellianEquilibrium\n",
    "from lbmpy.stencils import getStencil\n",
    "from lbmpy.moments import momentsOfOrder\n",
    "stencil = getStencil(\"D3Q19\")\n",
    "dim = len(stencil[0])\n",
    "moments = tuple(momentsOfOrder(2, dim=dim))\n",
    "print(moments)\n",
    "u = Func(\"u_x\"), Func(\"u_y\"), Func(\"u_z\")\n",
    "rho = Func(\"rho\")\n",
    "pi_ab = getMomentsOfDiscreteMaxwellianEquilibrium(stencil, moments,c_s_sq=sp.Rational(1,3), order=2, u=u, rho=rho)\n",
    "pi_ab"
   ]
  },
  {
   "cell_type": "code",
   "execution_count": null,
   "metadata": {},
   "outputs": [],
   "source": [
    "from lbmpy.maxwellian_equilibrium import getMomentsOfContinuousMaxwellianEquilibrium\n",
    "pi_ab2 = getMomentsOfContinuousMaxwellianEquilibrium(moments, dim, c_s_sq=sp.Rational(1,3), order=2)\n",
    "pi_ab2"
   ]
  },
  {
   "cell_type": "code",
   "execution_count": null,
   "metadata": {},
   "outputs": [],
   "source": [
    "sp.solve(eq_4_10_c, getMomentSymbol(1, 2))[0]"
   ]
  },
  {
   "cell_type": "code",
   "execution_count": null,
   "metadata": {},
   "outputs": [],
   "source": [
    "from lbmpy.chapman_enskog import *\n",
    "productRule((ceSymbolsDt[0] * pi_ab[1]).expand())"
   ]
  },
  {
   "cell_type": "code",
   "execution_count": null,
   "metadata": {},
   "outputs": [],
   "source": [
    "dtSubsDict = {\n",
    "    ceSymbolsDt[0] * rho: -ceSymbolsDx[0]*(rho*u[0]),\n",
    "    productRule((ceSymbolsDt[0] * (rho * u[1])).expand()) : sp.Symbol(\"bla\")\n",
    "}\n",
    "dtSubsDict"
   ]
  },
  {
   "cell_type": "code",
   "execution_count": null,
   "metadata": {},
   "outputs": [],
   "source": [
    "-ceSymbolsDx[0]*(rho*u[0])"
   ]
  },
  {
   "cell_type": "code",
   "execution_count": null,
   "metadata": {
    "collapsed": true
   },
   "outputs": [],
   "source": []
  }
 ],
 "metadata": {
  "kernelspec": {
   "display_name": "Python 3",
   "language": "python",
   "name": "python3"
  },
  "language_info": {
   "codemirror_mode": {
    "name": "ipython",
    "version": 3
   },
   "file_extension": ".py",
   "mimetype": "text/x-python",
   "name": "python",
   "nbconvert_exporter": "python",
   "pygments_lexer": "ipython3",
   "version": "3.6.1"
  }
 },
 "nbformat": 4,
 "nbformat_minor": 2
}
