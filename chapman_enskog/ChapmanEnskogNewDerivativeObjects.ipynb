{
 "cells": [
  {
   "cell_type": "code",
   "execution_count": 1,
   "metadata": {},
   "outputs": [],
   "source": [
    "import sympy as sp\n",
    "import operator\n",
    "from functools import partial, reduce\n",
    "from lbmpy.chapman_enskog import *\n",
    "from lbmpy.creationfunctions import createLatticeBoltzmannMethod\n",
    "from pystencils.display_utils import toDot\n",
    "from IPython.display import display\n",
    "\n",
    "Diff = CeDiff\n",
    "DiffOp = CeDiffOperator\n",
    "\n",
    "sp.init_printing()"
   ]
  },
  {
   "cell_type": "markdown",
   "metadata": {},
   "source": [
    "# Chapman Enskog analysis\n",
    "\n",
    "Select parameters for the CE analysis here:"
   ]
  },
  {
   "cell_type": "code",
   "execution_count": 2,
   "metadata": {},
   "outputs": [],
   "source": [
    "dim = 2\n",
    "dimLabels = [sp.Rational(0,1), sp.Rational(1,1), sp.Rational(2,1)][:dim]\n",
    "#dimLabels = ['0', '1', '2'][:dim]\n",
    "\n",
    "method = createLatticeBoltzmannMethod(stencil=\"D2Q9\", \n",
    "                                      equilibriumAccuracyOrder=2,\n",
    "                                      compressible=True)\n",
    "\n",
    "taylorOrder = 2"
   ]
  },
  {
   "cell_type": "markdown",
   "metadata": {},
   "source": [
    "Definition of particle distribution function $f$ and collision operator $C$, and differential operators"
   ]
  },
  {
   "cell_type": "code",
   "execution_count": 3,
   "metadata": {},
   "outputs": [],
   "source": [
    "# Velocity, Pdf, time ...\n",
    "c = sp.Matrix([sp.Symbol(f\"c_{label}\") for label in dimLabels])\n",
    "dt, t, f, C = sp.symbols(\"Delta_t t f C\")\n",
    "\n",
    "# Differential Operators\n",
    "Dt = DiffOp(label=t)\n",
    "Dx = sp.Matrix([DiffOp(label=l) for l in dimLabels])"
   ]
  },
  {
   "cell_type": "markdown",
   "metadata": {},
   "source": [
    "### Taylor expansion of LBM equation"
   ]
  },
  {
   "cell_type": "code",
   "execution_count": 4,
   "metadata": {},
   "outputs": [
    {
     "data": {
      "image/png": "[encoded data removed]",
      "text/latex": [
       "$$\\frac{\\Delta_{t}^{2}}{2} \\left(c_{0} {\\partial_{0}} + c_{1} {\\partial_{1}} + {\\partial_{t}}\\right)^{2} + \\Delta_{t} \\left(c_{0} {\\partial_{0}} + c_{1} {\\partial_{1}} + {\\partial_{t}}\\right)$$"
      ],
      "text/plain": [
       "  2                                                                           \n",
       "Δₜ ⋅(c₀⋅CeDiffOperator(0, -1) + c₁⋅CeDiffOperator(1, -1) + CeDiffOperator(t, -\n",
       "──────────────────────────────────────────────────────────────────────────────\n",
       "                                        2                                     \n",
       "\n",
       "   2                                                                          \n",
       "1))                                                                           \n",
       "──── + Δₜ⋅(c₀⋅CeDiffOperator(0, -1) + c₁⋅CeDiffOperator(1, -1) + CeDiffOperato\n",
       "                                                                              \n",
       "\n",
       "         \n",
       "         \n",
       "r(t, -1))\n",
       "         "
      ]
     },
     "execution_count": 4,
     "metadata": {},
     "output_type": "execute_result"
    }
   ],
   "source": [
    "taylorOperator = sum(dt**k * (Dt + c.dot(Dx) )**k / sp.functions.factorial(k)\n",
    "                     for k in range(1, taylorOrder+1))\n",
    "taylorOperator"
   ]
  },
  {
   "cell_type": "markdown",
   "metadata": {},
   "source": [
    "As right-hand-side we use the abstract collision operator $C$, which corresponds to (4.5)"
   ]
  },
  {
   "cell_type": "code",
   "execution_count": 5,
   "metadata": {},
   "outputs": [
    {
     "data": {
      "image/png": "[encoded data removed]",
      "text/latex": [
       "$$- C + \\frac{\\Delta_{t}^{2}}{2} \\left(c_{0} {\\partial_{0}} + c_{1} {\\partial_{1}} + {\\partial_{t}}\\right)^{2} + \\Delta_{t} \\left(c_{0} {\\partial_{0}} + c_{1} {\\partial_{1}} + {\\partial_{t}}\\right)$$"
      ],
      "text/plain": [
       "       2                                                                      \n",
       "     Δₜ ⋅(c₀⋅CeDiffOperator(0, -1) + c₁⋅CeDiffOperator(1, -1) + CeDiffOperator\n",
       "-C + ─────────────────────────────────────────────────────────────────────────\n",
       "                                             2                                \n",
       "\n",
       "        2                                                                     \n",
       "(t, -1))                                                                      \n",
       "───────── + Δₜ⋅(c₀⋅CeDiffOperator(0, -1) + c₁⋅CeDiffOperator(1, -1) + CeDiffOp\n",
       "                                                                              \n",
       "\n",
       "              \n",
       "              \n",
       "erator(t, -1))\n",
       "              "
      ]
     },
     "execution_count": 5,
     "metadata": {},
     "output_type": "execute_result"
    }
   ],
   "source": [
    "eq_4_5 = taylorOperator - C\n",
    "eq_4_5"
   ]
  },
  {
   "cell_type": "markdown",
   "metadata": {},
   "source": [
    "Following the same steps as in the book, getting rid of second derivative, and discarding $\\Delta_t^3$ we get to (4.7)"
   ]
  },
  {
   "cell_type": "code",
   "execution_count": null,
   "metadata": {},
   "outputs": [],
   "source": []
  },
  {
   "cell_type": "code",
   "execution_count": 6,
   "metadata": {},
   "outputs": [
    {
     "data": {
      "text/latex": [
       "$$- C + \\frac{\\Delta_{t} c_{0}}{2} {\\partial_{0} C} + \\Delta_{t} c_{0} {\\partial_{0} f} + \\frac{\\Delta_{t} c_{1}}{2} {\\partial_{1} C} + \\Delta_{t} c_{1} {\\partial_{1} f} + \\frac{\\Delta_{t}}{2} {\\partial_{t} C} + \\Delta_{t} {\\partial_{t} f}$$"
      ],
      "text/plain": [
       "     Δₜ⋅c₀⋅Diff(C, 0, -1)                          Δₜ⋅c₁⋅Diff(C, 1, -1)       \n",
       "-C + ──────────────────── + Δₜ⋅c₀⋅Diff(f, 0, -1) + ──────────────────── + Δₜ⋅c\n",
       "              2                                             2                 \n",
       "\n",
       "                   Δₜ⋅Diff(C, t, -1)                    \n",
       "₁⋅Diff(f, 1, -1) + ───────────────── + Δₜ⋅Diff(f, t, -1)\n",
       "                           2                            "
      ]
     },
     "execution_count": 6,
     "metadata": {},
     "output_type": "execute_result"
    }
   ],
   "source": [
    "operator = ((dt/2)* (Dt + c.dot(Dx))).expand()\n",
    "applied_eq_4_5 = applyLinearity( applyDiffs(eq_4_5, f), [f, C])\n",
    "opTimesEq_4_5 = applyLinearity( applyDiffs(operator, applied_eq_4_5), [f, C] ).expand()\n",
    "opTimesEq_4_5 = normalizeDiffOrder(opTimesEq_4_5, [f,C])\n",
    "\n",
    "eq_4_7 = (applied_eq_4_5 - opTimesEq_4_5).subs(dt**3, 0)\n",
    "eq_4_7"
   ]
  },
  {
   "cell_type": "markdown",
   "metadata": {},
   "source": [
    "### Chapman Enskog Ansatz"
   ]
  },
  {
   "cell_type": "code",
   "execution_count": 7,
   "metadata": {
    "collapsed": true
   },
   "outputs": [],
   "source": [
    "# Expand Derivatives\n",
    "eq_4_7_ce = eq_4_7\n",
    "eq_4_7_ce = chapmanEnskogDerivativeExpansion(eq_4_7_ce, t, stopOrder=3)\n",
    "for l in dimLabels:\n",
    "    eq_4_7_ce = chapmanEnskogDerivativeExpansion(eq_4_7_ce, l, stopOrder=2)\n",
    "    \n",
    "# Expand distribution function\n",
    "eps = sp.Symbol(\"epsilon\")\n",
    "eq_4_7_ce = eq_4_7_ce.expand()\n",
    "\n",
    "fExpansionOrder = 3\n",
    "expandedF = sum([eps**i * getExpandedName(f,i) for i in range(fExpansionOrder)])\n",
    "fs = [getExpandedName(f,i) for i in range(fExpansionOrder)]\n",
    "eq_4_7_ce = eq_4_7_ce.subs(f, expandedF)"
   ]
  },
  {
   "cell_type": "markdown",
   "metadata": {},
   "source": [
    "Inserting SRT Collision operator"
   ]
  },
  {
   "cell_type": "code",
   "execution_count": 8,
   "metadata": {},
   "outputs": [],
   "source": [
    "srtC = -dt / sp.Symbol(\"tau\") * ( expandedF - getExpandedName(f,0))\n",
    "srtC\n",
    "eq_4_7_ce = eq_4_7_ce.subs(C, srtC).expand()"
   ]
  },
  {
   "cell_type": "code",
   "execution_count": 9,
   "metadata": {},
   "outputs": [],
   "source": [
    "eq_4_7_ce = applyLinearity(eq_4_7_ce, fs).expand().collect(eps)"
   ]
  },
  {
   "cell_type": "markdown",
   "metadata": {},
   "source": [
    "### Grouping orders in $\\epsilon$\n",
    "$ \\mathcal{O}(\\epsilon) $:"
   ]
  },
  {
   "cell_type": "code",
   "execution_count": 10,
   "metadata": {},
   "outputs": [
    {
     "data": {
      "text/latex": [
       "$$c_{0} {\\partial^{(1)}_{0} f^{(0)}} + c_{1} {\\partial^{(1)}_{1} f^{(0)}} + \\frac{f^{(1)}}{\\tau} + {\\partial^{(1)}_{t} f^{(0)}}$$"
      ],
      "text/plain": [
       "                                                  f__{(1)}                    \n",
       "c₀⋅Diff(f^{(0)}, 0, 1) + c₁⋅Diff(f^{(0)}, 1, 1) + ──────── + Diff(f^{(0)}, t, \n",
       "                                                     τ                        \n",
       "\n",
       "  \n",
       "1)\n",
       "  "
      ]
     },
     "execution_count": 10,
     "metadata": {},
     "output_type": "execute_result"
    }
   ],
   "source": [
    "eq_4_9_a = (eq_4_7_ce.coeff(eps) / dt).expand()\n",
    "eq_4_9_a"
   ]
  },
  {
   "cell_type": "markdown",
   "metadata": {},
   "source": [
    "$ \\mathcal{O}(\\epsilon^2) $:"
   ]
  },
  {
   "cell_type": "code",
   "execution_count": 11,
   "metadata": {},
   "outputs": [
    {
     "data": {
      "text/latex": [
       "$$- \\frac{\\Delta_{t} c_{0} {\\partial^{(1)}_{0} f^{(1)}}}{2 \\tau} - \\frac{\\Delta_{t} c_{1} {\\partial^{(1)}_{1} f^{(1)}}}{2 \\tau} - \\frac{\\Delta_{t} {\\partial^{(1)}_{t} f^{(1)}}}{2 \\tau} + c_{0} {\\partial^{(1)}_{0} f^{(1)}} + c_{1} {\\partial^{(1)}_{1} f^{(1)}} + \\frac{f^{(2)}}{\\tau} + {\\partial^{(2)}_{t} f^{(0)}} + {\\partial^{(1)}_{t} f^{(1)}}$$"
      ],
      "text/plain": [
       "  Δₜ⋅c₀⋅Diff(f^{(1)}, 0, 1)   Δₜ⋅c₁⋅Diff(f^{(1)}, 1, 1)   Δₜ⋅Diff(f^{(1)}, t, \n",
       "- ───────────────────────── - ───────────────────────── - ────────────────────\n",
       "             2⋅τ                         2⋅τ                       2⋅τ        \n",
       "\n",
       "1)                                                     f__{(2)}               \n",
       "── + c₀⋅Diff(f^{(1)}, 0, 1) + c₁⋅Diff(f^{(1)}, 1, 1) + ──────── + Diff(f^{(0)}\n",
       "                                                          τ                   \n",
       "\n",
       "                             \n",
       ", t, 2) + Diff(f^{(1)}, t, 1)\n",
       "                             "
      ]
     },
     "execution_count": 11,
     "metadata": {},
     "output_type": "execute_result"
    }
   ],
   "source": [
    "eq_4_9_b = (eq_4_7_ce.coeff(eps**2) / dt).expand()\n",
    "eq_4_9_b"
   ]
  },
  {
   "cell_type": "markdown",
   "metadata": {},
   "source": [
    "### Computing moments"
   ]
  },
  {
   "cell_type": "code",
   "execution_count": 19,
   "metadata": {},
   "outputs": [],
   "source": [
    "ceFs = [getExpandedName(f,i) for i in range(3)]\n",
    "def tm(eq):\n",
    "    result = takeMoments(eq, ceFs, list(c))\n",
    "    result = insertMomentsFromMethod( result, method )\n",
    "    result = insertMomentsSolvabilityCondition(result)\n",
    "    result = applyLinearity(result, result.atoms(sp.Symbol))\n",
    "    return result"
   ]
  },
  {
   "cell_type": "markdown",
   "metadata": {},
   "source": [
    "$ \\mathcal{O}(\\epsilon) $ Moments:"
   ]
  },
  {
   "cell_type": "code",
   "execution_count": 28,
   "metadata": {},
   "outputs": [
    {
     "data": {
      "text/latex": [
       "$${\\partial^{(1)}_{t} \\rho} + {\\partial^{(1)}_{0} (\\rho u_{0}) } + {\\partial^{(1)}_{1} (\\rho u_{1}) }$$"
      ],
      "text/plain": [
       "Diff(rho, t, 1) + Diff(rho*u_0, 0, 1) + Diff(rho*u_1, 1, 1)"
      ]
     },
     "metadata": {},
     "output_type": "display_data"
    },
    {
     "data": {
      "text/latex": [
       "$$\\frac{{\\partial^{(1)}_{0} \\rho}}{3} + {\\partial^{(1)}_{t} (\\rho u_{0}) } + {\\partial^{(1)}_{0} (\\rho u_{0}^{2}) } + {\\partial^{(1)}_{1} (\\rho u_{0} u_{1}) }$$"
      ],
      "text/plain": [
       "Diff(rho, 0, 1)                                                               \n",
       "─────────────── + Diff(rho*u_0, t, 1) + Diff(rho*u_0**2, 0, 1) + Diff(rho*u_0*\n",
       "       3                                                                      \n",
       "\n",
       "          \n",
       "u_1, 1, 1)\n",
       "          "
      ]
     },
     "metadata": {},
     "output_type": "display_data"
    },
    {
     "data": {
      "text/latex": [
       "$$\\frac{{\\Pi_{xy}^{(1)}}}{\\tau} + \\frac{1}{3} {\\partial^{(1)}_{1} (\\rho u_{0}) } + \\frac{1}{3} {\\partial^{(1)}_{0} (\\rho u_{1}) } + {\\partial^{(1)}_{t} (\\rho u_{0} u_{1}) }$$"
      ],
      "text/plain": [
       "\\Pi   Diff(rho*u_0, 1, 1)   Diff(rho*u_1, 0, 1)                          \n",
       "─── + ─────────────────── + ─────────────────── + Diff(rho*u_0*u_1, t, 1)\n",
       " τ             3                     3                                   "
      ]
     },
     "metadata": {},
     "output_type": "display_data"
    }
   ],
   "source": [
    "eq_4_10_a = tm(eq_4_9_a)\n",
    "eq_4_10_b = tm(eq_4_9_a * c[0])\n",
    "eq_4_10_c = tm(eq_4_9_a * c[0] * c[1])\n",
    "display(eq_4_10_a, eq_4_10_b, eq_4_10_c)"
   ]
  },
  {
   "cell_type": "markdown",
   "metadata": {},
   "source": [
    "$ \\mathcal{O}(\\epsilon^2) $ Moments:"
   ]
  },
  {
   "cell_type": "code",
   "execution_count": 21,
   "metadata": {
    "scrolled": true
   },
   "outputs": [
    {
     "data": {
      "text/latex": [
       "$${\\partial^{(2)}_{t} \\rho}$$"
      ],
      "text/plain": [
       "Diff(rho, t, 2)"
      ]
     },
     "metadata": {},
     "output_type": "display_data"
    },
    {
     "data": {
      "text/latex": [
       "$$- \\frac{\\Delta_{t} {\\partial^{(1)}_{0} {\\Pi_{xx}^{(1)}}}}{2 \\tau} - \\frac{\\Delta_{t} {\\partial^{(1)}_{1} {\\Pi_{xy}^{(1)}}}}{2 \\tau} + {\\partial^{(1)}_{0} {\\Pi_{xx}^{(1)}}} + {\\partial^{(1)}_{1} {\\Pi_{xy}^{(1)}}} + {\\partial^{(2)}_{t} (\\rho u_{0}) }$$"
      ],
      "text/plain": [
       "  Δₜ⋅Diff(\\Pi, 0, 1)   Δₜ⋅Diff(\\Pi, 1, 1)                                     \n",
       "- ────────────────── - ────────────────── + Diff(\\Pi, 0, 1) + Diff(\\Pi, 1, 1) \n",
       "         2⋅τ                  2⋅τ                                             \n",
       "\n",
       "                     \n",
       "+ Diff(rho*u_0, t, 2)\n",
       "                     "
      ]
     },
     "metadata": {},
     "output_type": "display_data"
    }
   ],
   "source": [
    "eq_4_12_a = tm(eq_4_9_b)\n",
    "eq_4_12_b = tm(eq_4_9_b * c[0])\n",
    "display(eq_4_12_a, eq_4_12_b)"
   ]
  },
  {
   "cell_type": "markdown",
   "metadata": {},
   "source": [
    "### Recombination of different orders"
   ]
  },
  {
   "cell_type": "code",
   "execution_count": 22,
   "metadata": {},
   "outputs": [
    {
     "data": {
      "text/latex": [
       "$$\\epsilon^{2} {\\partial^{(2)}_{t} \\rho} + \\epsilon {\\partial^{(1)}_{t} \\rho} + \\epsilon {\\partial^{(1)}_{0} (\\rho u_{0}) } + \\epsilon {\\partial^{(1)}_{1} (\\rho u_{1}) }$$"
      ],
      "text/plain": [
       " 2                                                                            \n",
       "ε ⋅Diff(rho, t, 2) + ε⋅Diff(rho, t, 1) + ε⋅Diff(rho*u_0, 0, 1) + ε⋅Diff(rho*u_\n",
       "\n",
       "        \n",
       "1, 1, 1)"
      ]
     },
     "execution_count": 22,
     "metadata": {},
     "output_type": "execute_result"
    }
   ],
   "source": [
    "(eps * eq_4_10_a + eps**2 * eq_4_12_a).expand()"
   ]
  },
  {
   "cell_type": "code",
   "execution_count": 23,
   "metadata": {},
   "outputs": [
    {
     "data": {
      "text/latex": [
       "$$- \\frac{\\Delta_{t} \\epsilon^{2} {\\partial^{(1)}_{0} {\\Pi_{xx}^{(1)}}}}{2 \\tau} - \\frac{\\Delta_{t} \\epsilon^{2} {\\partial^{(1)}_{1} {\\Pi_{xy}^{(1)}}}}{2 \\tau} + \\epsilon^{2} {\\partial^{(1)}_{0} {\\Pi_{xx}^{(1)}}} + \\epsilon^{2} {\\partial^{(1)}_{1} {\\Pi_{xy}^{(1)}}} + \\epsilon^{2} {\\partial^{(2)}_{t} (\\rho u_{0}) } + \\frac{\\epsilon}{3} {\\partial^{(1)}_{0} \\rho} + \\epsilon {\\partial^{(1)}_{t} (\\rho u_{0}) } + \\epsilon {\\partial^{(1)}_{0} (\\rho u_{0}^{2}) } + \\epsilon {\\partial^{(1)}_{1} (\\rho u_{0} u_{1}) }$$"
      ],
      "text/plain": [
       "      2                       2                                               \n",
       "  Δₜ⋅ε ⋅Diff(\\Pi, 0, 1)   Δₜ⋅ε ⋅Diff(\\Pi, 1, 1)    2                    2     \n",
       "- ───────────────────── - ───────────────────── + ε ⋅Diff(\\Pi, 0, 1) + ε ⋅Diff\n",
       "           2⋅τ                     2⋅τ                                        \n",
       "\n",
       "                                                                              \n",
       "               2                       ε⋅Diff(rho, 0, 1)                      \n",
       "(\\Pi, 1, 1) + ε ⋅Diff(rho*u_0, t, 2) + ───────────────── + ε⋅Diff(rho*u_0, t, \n",
       "                                               3                              \n",
       "\n",
       "                                                         \n",
       "                                                         \n",
       "1) + ε⋅Diff(rho*u_0**2, 0, 1) + ε⋅Diff(rho*u_0*u_1, 1, 1)\n",
       "                                                         "
      ]
     },
     "execution_count": 23,
     "metadata": {},
     "output_type": "execute_result"
    }
   ],
   "source": [
    "(eps * eq_4_10_b + eps**2 * eq_4_12_b).expand()"
   ]
  },
  {
   "cell_type": "markdown",
   "metadata": {},
   "source": [
    "### Moments $\\Pi^{(1)}_{\\alpha\\beta}$\n",
    "\n",
    "- results should have all time derivatives replaced by spatial derivatives\n",
    "- input equations: (4.10 a-c)\n",
    "    - for moment of second order, the input equation is the second moment of the $O(\\epsilon)$  equation, which has \n",
    "      the relevant moment on the rhs\n",
    "    - additionally the lower order moments of the same equation are used as well"
   ]
  },
  {
   "cell_type": "code",
   "execution_count": 36,
   "metadata": {},
   "outputs": [
    {
     "data": {
      "image/png": "[encoded data removed]",
      "text/latex": [
       "$${\\Pi_{xy}^{(1)}}$$"
      ],
      "text/plain": [
       "\\Pi"
      ]
     },
     "execution_count": 36,
     "metadata": {},
     "output_type": "execute_result"
    }
   ],
   "source": [
    "momToSolveFor = CeMoment(\"\\Pi\", (1,1), 1)\n",
    "momToSolveFor"
   ]
  },
  {
   "cell_type": "code",
   "execution_count": 45,
   "metadata": {},
   "outputs": [
    {
     "data": {
      "text/latex": [
       "$$- \\rho \\tau u_{0} {\\partial^{(1)}_{t} u_{1}} - \\rho \\tau u_{1} {\\partial^{(1)}_{t} u_{0}} - \\frac{\\rho \\tau}{3} {\\partial^{(1)}_{1} u_{0}} - \\frac{\\rho \\tau}{3} {\\partial^{(1)}_{0} u_{1}} - \\tau u_{0} u_{1} {\\partial^{(1)}_{t} \\rho} - \\frac{\\tau u_{0}}{3} {\\partial^{(1)}_{1} \\rho} - \\frac{\\tau u_{1}}{3} {\\partial^{(1)}_{0} \\rho}$$"
      ],
      "text/plain": [
       "                                                   ρ⋅τ⋅Diff(u_0, 1, 1)   ρ⋅τ⋅D\n",
       "-ρ⋅τ⋅u₀⋅Diff(u_1, t, 1) - ρ⋅τ⋅u₁⋅Diff(u_0, t, 1) - ─────────────────── - ─────\n",
       "                                                            3                 \n",
       "\n",
       "iff(u_1, 0, 1)                             τ⋅u₀⋅Diff(rho, 1, 1)   τ⋅u₁⋅Diff(rh\n",
       "────────────── - τ⋅u₀⋅u₁⋅Diff(rho, t, 1) - ──────────────────── - ────────────\n",
       "    3                                               3                      3  \n",
       "\n",
       "o, 0, 1)\n",
       "────────\n",
       "        "
      ]
     },
     "execution_count": 45,
     "metadata": {},
     "output_type": "execute_result"
    }
   ],
   "source": [
    "secondOrderMomentEq = sp.solve( tm(eq_4_9_a * c[0] * c[1]), momToSolveFor)[0]\n",
    "secondOrderMomentEq = expandDiffs(secondOrderMomentEq).expand()\n",
    "secondOrderMomentEq"
   ]
  },
  {
   "cell_type": "markdown",
   "metadata": {},
   "source": [
    "Time derivatives have to be replaced with information from lower order moments"
   ]
  },
  {
   "cell_type": "code",
   "execution_count": null,
   "metadata": {
    "collapsed": true
   },
   "outputs": [],
   "source": []
  }
 ],
 "metadata": {
  "kernelspec": {
   "display_name": "Python 3",
   "language": "python",
   "name": "python3"
  },
  "language_info": {
   "codemirror_mode": {
    "name": "ipython",
    "version": 3
   },
   "file_extension": ".py",
   "mimetype": "text/x-python",
   "name": "python",
   "nbconvert_exporter": "python",
   "pygments_lexer": "ipython3",
   "version": "3.6.1"
  }
 },
 "nbformat": 4,
 "nbformat_minor": 2
}
