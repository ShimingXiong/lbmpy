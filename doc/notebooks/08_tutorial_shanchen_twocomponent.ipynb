{
 "cells": [
  {
   "cell_type": "markdown",
   "metadata": {},
   "source": [
    "# Shan-Chen Two-Component Lattice Boltzmann"
   ]
  },
  {
   "cell_type": "code",
   "execution_count": 1,
   "metadata": {},
   "outputs": [],
   "source": [
    "from lbmpy.session import *\n",
    "from lbmpy.updatekernels import create_stream_pull_with_output_kernel\n",
    "from lbmpy.macroscopic_value_kernels import macroscopic_values_getter, macroscopic_values_setter"
   ]
  },
  {
   "cell_type": "markdown",
   "metadata": {},
   "source": [
    "This is based on section 9.3.3 of Krüger et al.'s \"The Lattice Boltzmann Method\", Springer 2017 (http://www.lbmbook.com).\n",
    "Sample code is available at [https://github.com/lbm-principles-practice/code/](https://github.com/lbm-principles-practice/code/blob/master/chapter9/shanchen.cpp)."
   ]
  },
  {
   "cell_type": "markdown",
   "metadata": {},
   "source": [
    "## Parameters"
   ]
  },
  {
   "cell_type": "code",
   "execution_count": 2,
   "metadata": {},
   "outputs": [],
   "source": [
    "N = 64\n",
    "omega_a = 1.\n",
    "omega_b = 1.\n",
    "g_aa = 0.\n",
    "g_ab = g_ba = 6.\n",
    "g_bb = 0.\n",
    "rho0 = 1."
   ]
  },
  {
   "cell_type": "markdown",
   "metadata": {},
   "source": [
    "## Data structures"
   ]
  },
  {
   "cell_type": "code",
   "execution_count": 3,
   "metadata": {},
   "outputs": [],
   "source": [
    "dh = ps.create_data_handling((N, N), periodicity=True, default_target='cpu')\n",
    "\n",
    "method_a = create_lb_method(relaxation_rate=omega_a, compressible=True)\n",
    "method_b = create_lb_method(relaxation_rate=omega_b, compressible=True)\n",
    "\n",
    "src_a = dh.add_array('src_a', values_per_cell=len(method_a.stencil))\n",
    "dst_a = dh.add_array_like('dst_a', 'src_a')\n",
    "\n",
    "src_b = dh.add_array('src_b', values_per_cell=len(method_b.stencil))\n",
    "dst_b = dh.add_array_like('dst_b', 'src_b')\n",
    "\n",
    "ρ_a = dh.add_array('rho_a')\n",
    "ρ_b = dh.add_array('rho_b')\n",
    "u_a = dh.add_array('u_a', values_per_cell=dh.dim)\n",
    "u_b = dh.add_array('u_b', values_per_cell=dh.dim)"
   ]
  },
  {
   "cell_type": "markdown",
   "metadata": {},
   "source": [
    "## Force & combined velocity"
   ]
  },
  {
   "cell_type": "markdown",
   "metadata": {},
   "source": [
    "The force between the two components is\n",
    "$\\vec{F}_k(\\vec{x})=-\\psi(\\rho_k(\\vec{x}))\\sum\\limits_{k^\\prime\\in\\{A,B\\}}g_{kk^\\prime}\\sum\\limits_{i=1}^{19}w_i\\psi(\\rho_{k^\\prime}(\\vec{x}+\\vec{c}_i))\\vec{c}_i$\n",
    "for $k\\in\\{A,B\\}$\n",
    "and with \n",
    "$\\psi(\\rho)=\\rho_0\\left[1-\\exp(-\\rho/\\rho_0)\\right]$."
   ]
  },
  {
   "cell_type": "code",
   "execution_count": 4,
   "metadata": {},
   "outputs": [],
   "source": [
    "def psi(dens):\n",
    "    return rho0 * (1. - sp.exp(-dens / rho0));"
   ]
  },
  {
   "cell_type": "code",
   "execution_count": 5,
   "metadata": {},
   "outputs": [],
   "source": [
    "zero_vec = sp.Matrix([0] * dh.dim) \n",
    "\n",
    "force_a = zero_vec\n",
    "for factor, ρ in zip([g_aa, g_ab], [ρ_a, ρ_b]):\n",
    "    stencil, weights = method_a.stencil, method_a.weights\n",
    "    force_a += sum((psi(ρ[d]) * w_d * sp.Matrix(d)\n",
    "                    for d, w_d in zip(stencil, weights)), \n",
    "                   zero_vec) * psi(ρ_a.center) * -1 * factor\n",
    "\n",
    "force_b = zero_vec\n",
    "for factor, ρ in zip([g_ba, g_bb], [ρ_a, ρ_b]):\n",
    "    stencil, weights = method_b.stencil, method_b.weights\n",
    "    force_b += sum((psi(ρ[d]) * w_d * sp.Matrix(d)\n",
    "                    for d, w_d in zip(stencil, weights)), \n",
    "                   zero_vec) * psi(ρ_b.center) * -1 * factor"
   ]
  },
  {
   "cell_type": "markdown",
   "metadata": {},
   "source": [
    "The barycentric velocity, which is used in place of the individual components' velocities in the equilibrium distribution and Guo force term, is\n",
    "$\\vec{u}=\\frac{1}{\\rho_a+\\rho_b}\\left(\\rho_a\\vec{u}_a+\\frac{1}{2}\\vec{F}_a+\\rho_b\\vec{u}_b+\\frac{1}{2}\\vec{F}_b\\right)$."
   ]
  },
  {
   "cell_type": "code",
   "execution_count": 6,
   "metadata": {},
   "outputs": [],
   "source": [
    "u_full = [(ρ_a.center * u_a(i) + force_a[i]/2 + \n",
    "           ρ_b.center * u_b(i) + force_b[i]/2) / (ρ_a.center + ρ_b.center)\n",
    "          for i in range(dh.dim)]"
   ]
  },
  {
   "cell_type": "markdown",
   "metadata": {},
   "source": [
    "## Kernels"
   ]
  },
  {
   "cell_type": "code",
   "execution_count": 7,
   "metadata": {},
   "outputs": [],
   "source": [
    "stream_a = create_stream_pull_with_output_kernel(method_a, src_a, dst_a, {'density': ρ_a, 'velocity': u_a})\n",
    "stream_b = create_stream_pull_with_output_kernel(method_b, src_b, dst_b, {'density': ρ_b, 'velocity': u_b})\n",
    "\n",
    "# TODO use method above\n",
    "collision_a = create_lb_update_rule(relaxation_rate=omega_a, \n",
    "                                    compressible=True,\n",
    "                                    velocity_input=u_full, density_input=ρ_a,\n",
    "                                    force_model='guo', \n",
    "                                    force=force_a,\n",
    "                                    kernel_type='collide_only',\n",
    "                                    optimization={'symbolic_field': src_a})\n",
    "\n",
    "collision_b = create_lb_update_rule(relaxation_rate=omega_b,\n",
    "                                    compressible=True,\n",
    "                                    velocity_input=u_full, density_input=ρ_b,\n",
    "                                    force_model='guo', \n",
    "                                    force=force_b,\n",
    "                                    kernel_type='collide_only',\n",
    "                                    optimization={'symbolic_field': src_b})\n",
    "\n",
    "opts = {'cpu_openmp': False}\n",
    "stream_a_kernel = ps.create_kernel(stream_a, **opts).compile()\n",
    "stream_b_kernel = ps.create_kernel(stream_b, **opts).compile()\n",
    "collision_a_kernel = ps.create_kernel(collision_a, **opts).compile()\n",
    "collision_b_kernel = ps.create_kernel(collision_b, **opts).compile()"
   ]
  },
  {
   "cell_type": "markdown",
   "metadata": {},
   "source": [
    "## Initialization"
   ]
  },
  {
   "cell_type": "code",
   "execution_count": 8,
   "metadata": {},
   "outputs": [],
   "source": [
    "init_a = macroscopic_values_setter(method_a, velocity=(0, 0), \n",
    "                                   pdfs=src_a.center_vector, density=ρ_a.center)\n",
    "init_b = macroscopic_values_setter(method_b, velocity=(0, 0), \n",
    "                                   pdfs=src_b.center_vector, density=ρ_b.center)\n",
    "init_a_kernel = ps.create_kernel(init_a, ghost_layers=0).compile()\n",
    "init_b_kernel = ps.create_kernel(init_b, ghost_layers=0).compile()"
   ]
  },
  {
   "cell_type": "code",
   "execution_count": 9,
   "metadata": {},
   "outputs": [],
   "source": [
    "def init():\n",
    "    dh.fill(ρ_a.name, 0.1, slice_obj=ps.make_slice[:, :0.5])\n",
    "    dh.fill(ρ_a.name, 0.9, slice_obj=ps.make_slice[:, 0.5:])\n",
    "\n",
    "    dh.fill(ρ_b.name, 0.9, slice_obj=ps.make_slice[:, :0.5])\n",
    "    dh.fill(ρ_b.name, 0.1, slice_obj=ps.make_slice[:, 0.5:])\n",
    "\n",
    "    dh.run_kernel(init_a_kernel)\n",
    "    dh.run_kernel(init_b_kernel)\n",
    "    \n",
    "    dh.fill(u_a.name, 0.0)\n",
    "    dh.fill(u_b.name, 0.0)"
   ]
  },
  {
   "cell_type": "markdown",
   "metadata": {},
   "source": [
    "## Timeloop"
   ]
  },
  {
   "cell_type": "code",
   "execution_count": 10,
   "metadata": {},
   "outputs": [],
   "source": [
    "sync_pdfs = dh.synchronization_function([src_a.name, src_b.name])\n",
    "sync_ρs = dh.synchronization_function([ρ_a.name, ρ_b.name])\n",
    "\n",
    "def time_loop(steps):\n",
    "    dh.all_to_gpu()\n",
    "    for i in range(steps):\n",
    "        sync_ρs()\n",
    "        dh.run_kernel(collision_a_kernel)\n",
    "        dh.run_kernel(collision_b_kernel)\n",
    "        \n",
    "        sync_pdfs()\n",
    "        dh.run_kernel(stream_a_kernel)\n",
    "        dh.run_kernel(stream_b_kernel)\n",
    "        \n",
    "        dh.swap(src_a.name, dst_a.name)\n",
    "        dh.swap(src_b.name, dst_b.name)\n",
    "    dh.all_to_cpu()"
   ]
  },
  {
   "cell_type": "code",
   "execution_count": 11,
   "metadata": {},
   "outputs": [],
   "source": [
    "def plot_ρs():\n",
    "    plt.subplot(1,2,1)\n",
    "    plt.title(\"$\\\\rho_A$\")\n",
    "    plt.scalar_field(dh.gather_array(ρ_a.name), vmin=0, vmax=2)\n",
    "    plt.colorbar()\n",
    "    plt.subplot(1,2,2)\n",
    "    plt.title(\"$\\\\rho_B$\")\n",
    "    plt.scalar_field(dh.gather_array(ρ_b.name), vmin=0, vmax=2)\n",
    "    plt.colorbar()"
   ]
  },
  {
   "cell_type": "markdown",
   "metadata": {},
   "source": [
    "## Run the simulation\n",
    "### Initial state"
   ]
  },
  {
   "cell_type": "code",
   "execution_count": 12,
   "metadata": {},
   "outputs": [
    {
     "data": {
      "image/png": "[encoded data removed]",
      "text/plain": [
       "<matplotlib.figure.Figure at 0x7f1214072438>"
      ]
     },
     "metadata": {},
     "output_type": "display_data"
    }
   ],
   "source": [
    "init()\n",
    "plot_ρs()"
   ]
  },
  {
   "cell_type": "markdown",
   "metadata": {},
   "source": [
    "### Check the first time step against reference data\n",
    "\n",
    "The reference data was obtained with the [sample code](https://github.com/lbm-principles-practice/code/blob/master/chapter9/shanchen.cpp) after making the following changes:\n",
    "```c++\n",
    "const int nsteps = 1000;\n",
    "const int noutput = 1;\n",
    "const int nfluids = 2;\n",
    "const double gA = 0;\n",
    "```\n",
    "\n",
    "Remove the next cell if you changed the parameters at the beginning of this notebook."
   ]
  },
  {
   "cell_type": "code",
   "execution_count": 13,
   "metadata": {},
   "outputs": [],
   "source": [
    "init()\n",
    "time_loop(1)\n",
    "ref_a = np.array([0.133183, 0.0921801, 0.1, 0.1, 0.1, 0.1, 0.1, 0.1, 0.1, 0.1, 0.1, 0.1, 0.1, 0.1, 0.1, 0.1, 0.1, 0.1, 0.1, 0.1, 0.1, 0.1, 0.1, 0.1, 0.1, 0.1, 0.1, 0.1, 0.1, 0.1, 0.0921801, 0.133183, 0.719568, 1.05507, 0.9, 0.9, 0.9, 0.9, 0.9, 0.9, 0.9, 0.9, 0.9, 0.9, 0.9, 0.9, 0.9, 0.9, 0.9, 0.9, 0.9, 0.9, 0.9, 0.9, 0.9, 0.9, 0.9, 0.9, 0.9, 0.9, 0.9, 0.9, 1.05507, 0.719568])\n",
    "ref_b = np.array([0.719568, 1.05507, 0.9, 0.9, 0.9, 0.9, 0.9, 0.9, 0.9, 0.9, 0.9, 0.9, 0.9, 0.9, 0.9, 0.9, 0.9, 0.9, 0.9, 0.9, 0.9, 0.9, 0.9, 0.9, 0.9, 0.9, 0.9, 0.9, 0.9, 0.9, 1.05507, 0.719568, 0.133183, 0.0921801, 0.1, 0.1, 0.1, 0.1, 0.1, 0.1, 0.1, 0.1, 0.1, 0.1, 0.1, 0.1, 0.1, 0.1, 0.1, 0.1, 0.1, 0.1, 0.1, 0.1, 0.1, 0.1, 0.1, 0.1, 0.1, 0.1, 0.1, 0.1, 0.0921801, 0.133183])\n",
    "assert np.allclose(dh.gather_array(ρ_a.name)[0], ref_a)\n",
    "assert np.allclose(dh.gather_array(ρ_b.name)[0], ref_b)"
   ]
  },
  {
   "cell_type": "markdown",
   "metadata": {},
   "source": [
    "### Run the simulation until converged"
   ]
  },
  {
   "cell_type": "code",
   "execution_count": 14,
   "metadata": {},
   "outputs": [
    {
     "data": {
      "image/png": "[encoded data removed]",
      "text/plain": [
       "<matplotlib.figure.Figure at 0x7f120f9267b8>"
      ]
     },
     "metadata": {},
     "output_type": "display_data"
    }
   ],
   "source": [
    "init()\n",
    "time_loop(1000)\n",
    "plot_ρs()"
   ]
  }
 ],
 "metadata": {
  "kernelspec": {
   "display_name": "Python 3",
   "language": "python",
   "name": "python3"
  },
  "language_info": {
   "codemirror_mode": {
    "name": "ipython",
    "version": 3
   },
   "file_extension": ".py",
   "mimetype": "text/x-python",
   "name": "python",
   "nbconvert_exporter": "python",
   "pygments_lexer": "ipython3",
   "version": "3.6.8"
  }
 },
 "nbformat": 4,
 "nbformat_minor": 2
}
