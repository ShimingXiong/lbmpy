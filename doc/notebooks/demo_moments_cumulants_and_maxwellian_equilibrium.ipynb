{
 "cells": [
  {
   "cell_type": "code",
   "execution_count": 1,
   "metadata": {
    "nbsphinx": "hidden"
   },
   "outputs": [],
   "source": [
    "from lbmpy.cumulants import *\n",
    "from lbmpy.moments import *\n",
    "from lbmpy.continuous_distribution_measures import continuous_moment\n",
    "from lbmpy.stencils import get_stencil\n",
    "from pystencils.stencils import visualize_stencil_2d\n",
    "import sympy as sp\n",
    "sp.init_printing()\n",
    "%matplotlib inline"
   ]
  },
  {
   "cell_type": "markdown",
   "metadata": {},
   "source": [
    "# Demo: Moments, Cumulants and Maxwellian Equilibrium\n",
    "\n",
    "## 1) Moments & Cumulants\n",
    "\n",
    "\n",
    "### Moments\n",
    "\n",
    "The *moments* and *cumulants* modules contain functions to calculate moments and cumulants of functions on a discrete velocity space defined by a stencil. "
   ]
  },
  {
   "cell_type": "code",
   "execution_count": 2,
   "metadata": {},
   "outputs": [
    {
     "data": {
      "image/png": "[encoded data removed]",
      "text/latex": [
       "$$\\left ( f_{0}, \\quad f_{1}, \\quad f_{2}, \\quad f_{3}, \\quad f_{4}, \\quad f_{5}, \\quad f_{6}, \\quad f_{7}, \\quad f_{8}\\right )$$"
      ],
      "text/plain": [
       "(f₀, f₁, f₂, f₃, f₄, f₅, f₆, f₇, f₈)"
      ]
     },
     "execution_count": 2,
     "metadata": {},
     "output_type": "execute_result"
    }
   ],
   "source": [
    "stencil = get_stencil(\"D2Q9\")\n",
    "pdfs = sp.symbols(\"f:9\")\n",
    "pdfs"
   ]
  },
  {
   "cell_type": "markdown",
   "metadata": {},
   "source": [
    "Discrete moments are computed by following formula:\n",
    "\n",
    "$$ \\sum_{d \\in S} d_1^{m_1} d_2^{m_2} \\; f_d  $$ \n",
    "\n",
    "with $S$ being the stencil, $d_i$ the direction components, $f_d$ the function values for each direction and $m_j$ the components of the moment tuple.\n",
    "\n",
    "Lets compute the first moment in the first direction, i.e. $(m_1, m_2) = (1,0)$."
   ]
  },
  {
   "cell_type": "code",
   "execution_count": 3,
   "metadata": {},
   "outputs": [
    {
     "data": {
      "image/png": "[encoded data removed]",
      "text/plain": [
       "<Figure size 432x288 with 1 Axes>"
      ]
     },
     "metadata": {},
     "output_type": "display_data"
    }
   ],
   "source": [
    "visualize_stencil_2d(stencil)"
   ]
  },
  {
   "cell_type": "code",
   "execution_count": 4,
   "metadata": {},
   "outputs": [
    {
     "data": {
      "image/png": "[encoded data removed]",
      "text/latex": [
       "$$- f_{3} + f_{4} - f_{5} + f_{6} - f_{7} + f_{8}$$"
      ],
      "text/plain": [
       "-f₃ + f₄ - f₅ + f₆ - f₇ + f₈"
      ]
     },
     "execution_count": 4,
     "metadata": {},
     "output_type": "execute_result"
    }
   ],
   "source": [
    "discrete_moment(pdfs, (1, 0), stencil)"
   ]
  },
  {
   "cell_type": "markdown",
   "metadata": {},
   "source": [
    "We get contributions of all directions that have a non-zero x-component, weighted with the sign of the direction. \n",
    "\n",
    "For the second order moment, the direction components are squared, so all contributions come in with a positive sign."
   ]
  },
  {
   "cell_type": "code",
   "execution_count": 5,
   "metadata": {},
   "outputs": [
    {
     "data": {
      "image/png": "[encoded data removed]",
      "text/latex": [
       "$$f_{3} + f_{4} + f_{5} + f_{6} + f_{7} + f_{8}$$"
      ],
      "text/plain": [
       "f₃ + f₄ + f₅ + f₆ + f₇ + f₈"
      ]
     },
     "execution_count": 5,
     "metadata": {},
     "output_type": "execute_result"
    }
   ],
   "source": [
    "discrete_moment(pdfs, (2, 0), stencil)\n"
   ]
  },
  {
   "cell_type": "markdown",
   "metadata": {},
   "source": [
    "We can specify the moments not only as exponent tuples but also as polynomials in the $d_i$'s. \n",
    "The symbols for the $d_i$ are provided by the *moments* module as ``MOMENT_SYMBOLS``"
   ]
  },
  {
   "cell_type": "code",
   "execution_count": 6,
   "metadata": {},
   "outputs": [
    {
     "data": {
      "image/png": "[encoded data removed]",
      "text/latex": [
       "$$- f_{3} + f_{4} - f_{5} + f_{6} - f_{7} + f_{8}$$"
      ],
      "text/plain": [
       "-f₃ + f₄ - f₅ + f₆ - f₇ + f₈"
      ]
     },
     "execution_count": 6,
     "metadata": {},
     "output_type": "execute_result"
    }
   ],
   "source": [
    "x, y, z = MOMENT_SYMBOLS\n",
    "discrete_moment(pdfs, x, stencil)"
   ]
  },
  {
   "cell_type": "markdown",
   "metadata": {},
   "source": [
    "The same works also for sums:"
   ]
  },
  {
   "cell_type": "code",
   "execution_count": 7,
   "metadata": {},
   "outputs": [
    {
     "data": {
      "image/png": "[encoded data removed]",
      "text/latex": [
       "$$f_{1} + f_{2} + 2 f_{5} + 2 f_{6}$$"
      ],
      "text/plain": [
       "f₁ + f₂ + 2⋅f₅ + 2⋅f₆"
      ]
     },
     "execution_count": 7,
     "metadata": {},
     "output_type": "execute_result"
    }
   ],
   "source": [
    "discrete_moment(pdfs, x**2 * y + y**2, stencil)"
   ]
  },
  {
   "cell_type": "markdown",
   "metadata": {},
   "source": [
    "Here the advantage of the polynomial representation becomes visible. \n",
    "To compute the same moment with exponent tuples takes two calls:"
   ]
  },
  {
   "cell_type": "code",
   "execution_count": 8,
   "metadata": {},
   "outputs": [
    {
     "data": {
      "image/png": "[encoded data removed]",
      "text/latex": [
       "$$f_{1} + f_{2} + 2 f_{5} + 2 f_{6}$$"
      ],
      "text/plain": [
       "f₁ + f₂ + 2⋅f₅ + 2⋅f₆"
      ]
     },
     "execution_count": 8,
     "metadata": {},
     "output_type": "execute_result"
    }
   ],
   "source": [
    "discrete_moment(pdfs, (2, 1), stencil) + discrete_moment(pdfs, (0, 2), stencil)"
   ]
  },
  {
   "cell_type": "markdown",
   "metadata": {},
   "source": [
    "### Cumulants\n",
    "\n",
    "Cumulants are an alternative to the moment represenation, see the [Wikipedia article](https://en.wikipedia.org/wiki/Cumulant). Cumulants can be calculated directly using the cumulant generating function, or can be calculated by moments."
   ]
  },
  {
   "cell_type": "code",
   "execution_count": 9,
   "metadata": {},
   "outputs": [
    {
     "data": {
      "image/png": "[encoded data removed]",
      "text/latex": [
       "$$\\frac{f_{3} + f_{4} + f_{5} + f_{6} + f_{7} + f_{8} - \\frac{\\left(f_{3} - f_{4} + f_{5} - f_{6} + f_{7} - f_{8}\\right)^{2}}{f_{0} + f_{1} + f_{2} + f_{3} + f_{4} + f_{5} + f_{6} + f_{7} + f_{8}}}{f_{0} + f_{1} + f_{2} + f_{3} + f_{4} + f_{5} + f_{6} + f_{7} + f_{8}}$$"
      ],
      "text/plain": [
       "                                                                 2      \n",
       "                                    (f₃ - f₄ + f₅ - f₆ + f₇ - f₈)       \n",
       "f₃ + f₄ + f₅ + f₆ + f₇ + f₈ - ──────────────────────────────────────────\n",
       "                              f₀ + f₁ + f₂ + f₃ + f₄ + f₅ + f₆ + f₇ + f₈\n",
       "────────────────────────────────────────────────────────────────────────\n",
       "               f₀ + f₁ + f₂ + f₃ + f₄ + f₅ + f₆ + f₇ + f₈               "
      ]
     },
     "execution_count": 9,
     "metadata": {},
     "output_type": "execute_result"
    }
   ],
   "source": [
    "discrete_cumulant(pdfs, (2, 0), stencil)"
   ]
  },
  {
   "cell_type": "code",
   "execution_count": 10,
   "metadata": {},
   "outputs": [
    {
     "data": {
      "image/png": "[encoded data removed]",
      "text/latex": [
       "$$\\frac{m_{2 0}}{m_{0 0}} - \\frac{m_{1 0}^{2}}{m_{0 0}^{2}}$$"
      ],
      "text/plain": [
       "           2\n",
       "m₂ ₀   m₁ ₀ \n",
       "──── - ─────\n",
       "m₀ ₀       2\n",
       "       m₀ ₀ "
      ]
     },
     "execution_count": 10,
     "metadata": {},
     "output_type": "execute_result"
    }
   ],
   "source": [
    "cumulant_as_function_of_raw_moments((2,0))"
   ]
  },
  {
   "cell_type": "code",
   "execution_count": 11,
   "metadata": {},
   "outputs": [
    {
     "data": {
      "image/png": "[encoded data removed]",
      "text/latex": [
       "$$c_{1 0}^{2} e^{c_{0 0}} + c_{2 0} e^{c_{0 0}}$$"
      ],
      "text/plain": [
       "    2  c₀ ₀         c₀ ₀\n",
       "c₁ ₀ ⋅ℯ     + c₂ ₀⋅ℯ    "
      ]
     },
     "execution_count": 11,
     "metadata": {},
     "output_type": "execute_result"
    }
   ],
   "source": [
    "raw_moment_as_function_of_cumulants((2,0))"
   ]
  },
  {
   "cell_type": "markdown",
   "metadata": {},
   "source": [
    "## 2) Using Moments to derive discrete LBM equilibrium\n",
    "\n",
    "For full stencils i.e. *D2Q9* and *D3Q27* a LBM equilibrium can be derived using the following strategy:\n",
    "\n",
    "- calculate all moments or cumulants up to second order of the continuous Maxwell-Boltzmann distribution\n",
    "- for full stencils there are as many moments/cumulants as stencil directions, so we can determine the pdf values from them"
   ]
  },
  {
   "cell_type": "markdown",
   "metadata": {},
   "source": [
    "First we obtain the continuous Maxwellian equilibrium as *sympy* expression. We fix the speed of sound to $\\frac{1}{3}$"
   ]
  },
  {
   "cell_type": "code",
   "execution_count": 12,
   "metadata": {},
   "outputs": [
    {
     "data": {
      "image/png": "[encoded data removed]",
      "text/latex": [
       "$$\\frac{3 \\rho e^{- \\frac{3 \\left(- u_{0} + v_{0}\\right)^{2}}{2} - \\frac{3 \\left(- u_{1} + v_{1}\\right)^{2}}{2}}}{2 \\pi}$$"
      ],
      "text/plain": [
       "                   2               2\n",
       "       3⋅(-u₀ + v₀)    3⋅(-u₁ + v₁) \n",
       "     - ───────────── - ─────────────\n",
       "             2               2      \n",
       "3⋅ρ⋅ℯ                               \n",
       "────────────────────────────────────\n",
       "                2⋅π                 "
      ]
     },
     "execution_count": 12,
     "metadata": {},
     "output_type": "execute_result"
    }
   ],
   "source": [
    "from lbmpy.maxwellian_equilibrium import continuous_maxwellian_equilibrium, discrete_maxwellian_equilibrium\n",
    "\n",
    "dim = len(stencil[0])\n",
    "maxwellian = continuous_maxwellian_equilibrium(dim=dim, c_s_sq=sp.Rational(1,3))\n",
    "maxwellian"
   ]
  },
  {
   "cell_type": "markdown",
   "metadata": {},
   "source": [
    "Then we get all moment exponent tuples up to order 2 and calculate these moments of the continuous Maxwellian equilibrium:"
   ]
  },
  {
   "cell_type": "code",
   "execution_count": 13,
   "metadata": {},
   "outputs": [
    {
     "data": {
      "image/png": "[encoded data removed]",
      "text/latex": [
       "$$\\left ( \\left ( 0, \\quad 0\\right ), \\quad \\left ( 0, \\quad 1\\right ), \\quad \\left ( 0, \\quad 2\\right ), \\quad \\left ( 1, \\quad 0\\right ), \\quad \\left ( 1, \\quad 1\\right ), \\quad \\left ( 1, \\quad 2\\right ), \\quad \\left ( 2, \\quad 0\\right ), \\quad \\left ( 2, \\quad 1\\right ), \\quad \\left ( 2, \\quad 2\\right )\\right )$$"
      ],
      "text/plain": [
       "((0, 0), (0, 1), (0, 2), (1, 0), (1, 1), (1, 2), (2, 0), (2, 1), (2, 2))"
      ]
     },
     "execution_count": 13,
     "metadata": {},
     "output_type": "execute_result"
    }
   ],
   "source": [
    "moments = moments_up_to_component_order(2, dim=dim)\n",
    "moments"
   ]
  },
  {
   "cell_type": "code",
   "execution_count": 14,
   "metadata": {},
   "outputs": [
    {
     "data": {
      "image/png": "[encoded data removed]",
      "text/latex": [
       "$$\\left [ \\rho, \\quad \\rho u_{1}, \\quad \\frac{\\rho \\left(9 u_{1}^{2} + 3\\right)}{9}, \\quad \\rho u_{0}, \\quad \\rho u_{0} u_{1}, \\quad \\frac{\\rho u_{0} \\left(9 u_{1}^{2} + 3\\right)}{9}, \\quad \\frac{\\rho \\left(9 u_{0}^{2} + 3\\right)}{9}, \\quad \\frac{\\rho u_{1} \\left(9 u_{0}^{2} + 3\\right)}{9}, \\quad \\frac{\\rho \\left(9 u_{0}^{2} + 3\\right) \\left(9 u_{1}^{2} + 3\\right)}{81}\\right ]$$"
      ],
      "text/plain": [
       "⎡           ⎛    2    ⎞                      ⎛    2    ⎞    ⎛    2    ⎞       \n",
       "⎢         ρ⋅⎝9⋅u₁  + 3⎠                 ρ⋅u₀⋅⎝9⋅u₁  + 3⎠  ρ⋅⎝9⋅u₀  + 3⎠  ρ⋅u₁⋅\n",
       "⎢ρ, ρ⋅u₁, ─────────────, ρ⋅u₀, ρ⋅u₀⋅u₁, ────────────────, ─────────────, ─────\n",
       "⎣               9                              9                9             \n",
       "\n",
       "⎛    2    ⎞    ⎛    2    ⎞ ⎛    2    ⎞⎤\n",
       "⎝9⋅u₀  + 3⎠  ρ⋅⎝9⋅u₀  + 3⎠⋅⎝9⋅u₁  + 3⎠⎥\n",
       "───────────, ─────────────────────────⎥\n",
       "  9                      81           ⎦"
      ]
     },
     "execution_count": 14,
     "metadata": {},
     "output_type": "execute_result"
    }
   ],
   "source": [
    "cont_eq_moments = [continuous_moment(maxwellian, m, sp.symbols(\"v_:2\")[:dim]) for m in moments]\n",
    "cont_eq_moments"
   ]
  },
  {
   "cell_type": "markdown",
   "metadata": {},
   "source": [
    "To obtain the same equilibrium as in the LBM literature, we have to drop all terms that have order 3 or higher:"
   ]
  },
  {
   "cell_type": "code",
   "execution_count": 15,
   "metadata": {},
   "outputs": [
    {
     "data": {
      "image/png": "[encoded data removed]",
      "text/latex": [
       "$$\\left [ \\rho, \\quad \\rho u_{1}, \\quad \\rho u_{1}^{2} + \\frac{\\rho}{3}, \\quad \\rho u_{0}, \\quad \\rho u_{0} u_{1}, \\quad \\rho u_{0} u_{1}^{2} + \\frac{\\rho u_{0}}{3}, \\quad \\rho u_{0}^{2} + \\frac{\\rho}{3}, \\quad \\rho u_{0}^{2} u_{1} + \\frac{\\rho u_{1}}{3}, \\quad \\frac{\\rho u_{0}^{2}}{3} + \\frac{\\rho u_{1}^{2}}{3} + \\frac{\\rho}{9}\\right ]$$"
      ],
      "text/plain": [
       "⎡                                                                             \n",
       "⎢             2   ρ                        2   ρ⋅u₀      2   ρ      2      ρ⋅u\n",
       "⎢ρ, ρ⋅u₁, ρ⋅u₁  + ─, ρ⋅u₀, ρ⋅u₀⋅u₁, ρ⋅u₀⋅u₁  + ────, ρ⋅u₀  + ─, ρ⋅u₀ ⋅u₁ + ───\n",
       "⎣                 3                             3            3              3 \n",
       "\n",
       "       2       2    ⎤\n",
       "₁  ρ⋅u₀    ρ⋅u₁    ρ⎥\n",
       "─, ───── + ───── + ─⎥\n",
       "     3       3     9⎦"
      ]
     },
     "execution_count": 15,
     "metadata": {},
     "output_type": "execute_result"
    }
   ],
   "source": [
    "cont_eq_moments = [remove_higher_order_terms(m, order=3, symbols=sp.symbols(\"u_:3\")) \n",
    "                   for m in cont_eq_moments]\n",
    "cont_eq_moments"
   ]
  },
  {
   "cell_type": "markdown",
   "metadata": {},
   "source": [
    "Then we take these equilibrium moments and determine pdf values, which would lead to these moment values.\n",
    "The moment matrix transforms pdfs into moment space. To obtain the equilibrium pdfs we only have to transform the equilibrium moments with the inverse of this matrix:"
   ]
  },
  {
   "cell_type": "code",
   "execution_count": 16,
   "metadata": {},
   "outputs": [
    {
     "data": {
      "image/png": "[encoded data removed]",
      "text/latex": [
       "$$\\left[\\begin{matrix}1 & 1 & 1 & 1 & 1 & 1 & 1 & 1 & 1\\\\0 & 1 & -1 & 0 & 0 & 1 & 1 & -1 & -1\\\\0 & 1 & 1 & 0 & 0 & 1 & 1 & 1 & 1\\\\0 & 0 & 0 & -1 & 1 & -1 & 1 & -1 & 1\\\\0 & 0 & 0 & 0 & 0 & -1 & 1 & 1 & -1\\\\0 & 0 & 0 & 0 & 0 & -1 & 1 & -1 & 1\\\\0 & 0 & 0 & 1 & 1 & 1 & 1 & 1 & 1\\\\0 & 0 & 0 & 0 & 0 & 1 & 1 & -1 & -1\\\\0 & 0 & 0 & 0 & 0 & 1 & 1 & 1 & 1\\end{matrix}\\right]$$"
      ],
      "text/plain": [
       "⎡1  1  1   1   1  1   1  1   1 ⎤\n",
       "⎢                              ⎥\n",
       "⎢0  1  -1  0   0  1   1  -1  -1⎥\n",
       "⎢                              ⎥\n",
       "⎢0  1  1   0   0  1   1  1   1 ⎥\n",
       "⎢                              ⎥\n",
       "⎢0  0  0   -1  1  -1  1  -1  1 ⎥\n",
       "⎢                              ⎥\n",
       "⎢0  0  0   0   0  -1  1  1   -1⎥\n",
       "⎢                              ⎥\n",
       "⎢0  0  0   0   0  -1  1  -1  1 ⎥\n",
       "⎢                              ⎥\n",
       "⎢0  0  0   1   1  1   1  1   1 ⎥\n",
       "⎢                              ⎥\n",
       "⎢0  0  0   0   0  1   1  -1  -1⎥\n",
       "⎢                              ⎥\n",
       "⎣0  0  0   0   0  1   1  1   1 ⎦"
      ]
     },
     "execution_count": 16,
     "metadata": {},
     "output_type": "execute_result"
    }
   ],
   "source": [
    "M = moment_matrix(moments, stencil)\n",
    "M"
   ]
  },
  {
   "cell_type": "code",
   "execution_count": 17,
   "metadata": {},
   "outputs": [
    {
     "data": {
      "image/png": "[encoded data removed]",
      "text/latex": [
       "$$\\left[\\begin{matrix}- \\frac{2 \\rho u_{0}^{2}}{3} - \\frac{2 \\rho u_{1}^{2}}{3} + \\frac{4 \\rho}{9}\\\\- \\frac{\\rho u_{0}^{2} u_{1}}{2} - \\frac{\\rho u_{0}^{2}}{6} + \\frac{\\rho u_{1}^{2}}{3} + \\frac{\\rho u_{1}}{3} + \\frac{\\rho}{9}\\\\\\frac{\\rho u_{0}^{2} u_{1}}{2} - \\frac{\\rho u_{0}^{2}}{6} + \\frac{\\rho u_{1}^{2}}{3} - \\frac{\\rho u_{1}}{3} + \\frac{\\rho}{9}\\\\\\frac{\\rho u_{0}^{2}}{3} + \\frac{\\rho u_{0} u_{1}^{2}}{2} - \\frac{\\rho u_{0}}{3} - \\frac{\\rho u_{1}^{2}}{6} + \\frac{\\rho}{9}\\\\\\frac{\\rho u_{0}^{2}}{3} - \\frac{\\rho u_{0} u_{1}^{2}}{2} + \\frac{\\rho u_{0}}{3} - \\frac{\\rho u_{1}^{2}}{6} + \\frac{\\rho}{9}\\\\\\frac{\\rho u_{0}^{2} u_{1}}{4} + \\frac{\\rho u_{0}^{2}}{12} - \\frac{\\rho u_{0} u_{1}^{2}}{4} - \\frac{\\rho u_{0} u_{1}}{4} - \\frac{\\rho u_{0}}{12} + \\frac{\\rho u_{1}^{2}}{12} + \\frac{\\rho u_{1}}{12} + \\frac{\\rho}{36}\\\\\\frac{\\rho u_{0}^{2} u_{1}}{4} + \\frac{\\rho u_{0}^{2}}{12} + \\frac{\\rho u_{0} u_{1}^{2}}{4} + \\frac{\\rho u_{0} u_{1}}{4} + \\frac{\\rho u_{0}}{12} + \\frac{\\rho u_{1}^{2}}{12} + \\frac{\\rho u_{1}}{12} + \\frac{\\rho}{36}\\\\- \\frac{\\rho u_{0}^{2} u_{1}}{4} + \\frac{\\rho u_{0}^{2}}{12} - \\frac{\\rho u_{0} u_{1}^{2}}{4} + \\frac{\\rho u_{0} u_{1}}{4} - \\frac{\\rho u_{0}}{12} + \\frac{\\rho u_{1}^{2}}{12} - \\frac{\\rho u_{1}}{12} + \\frac{\\rho}{36}\\\\- \\frac{\\rho u_{0}^{2} u_{1}}{4} + \\frac{\\rho u_{0}^{2}}{12} + \\frac{\\rho u_{0} u_{1}^{2}}{4} - \\frac{\\rho u_{0} u_{1}}{4} + \\frac{\\rho u_{0}}{12} + \\frac{\\rho u_{1}^{2}}{12} - \\frac{\\rho u_{1}}{12} + \\frac{\\rho}{36}\\end{matrix}\\right]$$"
      ],
      "text/plain": [
       "⎡                            2         2                           ⎤\n",
       "⎢                      2⋅ρ⋅u₀    2⋅ρ⋅u₁    4⋅ρ                     ⎥\n",
       "⎢                    - ─────── - ─────── + ───                     ⎥\n",
       "⎢                         3         3       9                      ⎥\n",
       "⎢                                                                  ⎥\n",
       "⎢                    2          2       2                          ⎥\n",
       "⎢                ρ⋅u₀ ⋅u₁   ρ⋅u₀    ρ⋅u₁    ρ⋅u₁   ρ               ⎥\n",
       "⎢              - ──────── - ───── + ───── + ──── + ─               ⎥\n",
       "⎢                   2         6       3      3     9               ⎥\n",
       "⎢                                                                  ⎥\n",
       "⎢                   2          2       2                           ⎥\n",
       "⎢               ρ⋅u₀ ⋅u₁   ρ⋅u₀    ρ⋅u₁    ρ⋅u₁   ρ                ⎥\n",
       "⎢               ──────── - ───── + ───── - ──── + ─                ⎥\n",
       "⎢                  2         6       3      3     9                ⎥\n",
       "⎢                                                                  ⎥\n",
       "⎢                   2          2              2                    ⎥\n",
       "⎢               ρ⋅u₀    ρ⋅u₀⋅u₁    ρ⋅u₀   ρ⋅u₁    ρ                ⎥\n",
       "⎢               ───── + ──────── - ──── - ───── + ─                ⎥\n",
       "⎢                 3        2        3       6     9                ⎥\n",
       "⎢                                                                  ⎥\n",
       "⎢                   2          2              2                    ⎥\n",
       "⎢               ρ⋅u₀    ρ⋅u₀⋅u₁    ρ⋅u₀   ρ⋅u₁    ρ                ⎥\n",
       "⎢               ───── - ──────── + ──── - ───── + ─                ⎥\n",
       "⎢                 3        2        3       6     9                ⎥\n",
       "⎢                                                                  ⎥\n",
       "⎢     2          2          2                        2             ⎥\n",
       "⎢ ρ⋅u₀ ⋅u₁   ρ⋅u₀    ρ⋅u₀⋅u₁    ρ⋅u₀⋅u₁   ρ⋅u₀   ρ⋅u₁    ρ⋅u₁   ρ  ⎥\n",
       "⎢ ──────── + ───── - ──────── - ─────── - ──── + ───── + ──── + ── ⎥\n",
       "⎢    4         12       4          4       12      12     12    36 ⎥\n",
       "⎢                                                                  ⎥\n",
       "⎢     2          2          2                        2             ⎥\n",
       "⎢ ρ⋅u₀ ⋅u₁   ρ⋅u₀    ρ⋅u₀⋅u₁    ρ⋅u₀⋅u₁   ρ⋅u₀   ρ⋅u₁    ρ⋅u₁   ρ  ⎥\n",
       "⎢ ──────── + ───── + ──────── + ─────── + ──── + ───── + ──── + ── ⎥\n",
       "⎢    4         12       4          4       12      12     12    36 ⎥\n",
       "⎢                                                                  ⎥\n",
       "⎢      2          2          2                        2            ⎥\n",
       "⎢  ρ⋅u₀ ⋅u₁   ρ⋅u₀    ρ⋅u₀⋅u₁    ρ⋅u₀⋅u₁   ρ⋅u₀   ρ⋅u₁    ρ⋅u₁   ρ ⎥\n",
       "⎢- ──────── + ───── - ──────── + ─────── - ──── + ───── - ──── + ──⎥\n",
       "⎢     4         12       4          4       12      12     12    36⎥\n",
       "⎢                                                                  ⎥\n",
       "⎢      2          2          2                        2            ⎥\n",
       "⎢  ρ⋅u₀ ⋅u₁   ρ⋅u₀    ρ⋅u₀⋅u₁    ρ⋅u₀⋅u₁   ρ⋅u₀   ρ⋅u₁    ρ⋅u₁   ρ ⎥\n",
       "⎢- ──────── + ───── + ──────── - ─────── + ──── + ───── - ──── + ──⎥\n",
       "⎣     4         12       4          4       12      12     12    36⎦"
      ]
     },
     "execution_count": 17,
     "metadata": {},
     "output_type": "execute_result"
    }
   ],
   "source": [
    "derived_eq = M.inv() * sp.Matrix(cont_eq_moments)\n",
    "derived_eq"
   ]
  },
  {
   "cell_type": "markdown",
   "metadata": {},
   "source": [
    "This is the same as the standard discrete equilibrium found in LBM literature."
   ]
  },
  {
   "cell_type": "code",
   "execution_count": 18,
   "metadata": {},
   "outputs": [
    {
     "data": {
      "image/png": "[encoded data removed]",
      "text/latex": [
       "$$\\left[\\begin{matrix}- \\frac{2 \\rho u_{0}^{2}}{3} - \\frac{2 \\rho u_{1}^{2}}{3} + \\frac{4 \\rho}{9}\\\\- \\frac{\\rho u_{0}^{2} u_{1}}{2} - \\frac{\\rho u_{0}^{2}}{6} + \\frac{\\rho u_{1}^{2}}{3} + \\frac{\\rho u_{1}}{3} + \\frac{\\rho}{9}\\\\\\frac{\\rho u_{0}^{2} u_{1}}{2} - \\frac{\\rho u_{0}^{2}}{6} + \\frac{\\rho u_{1}^{2}}{3} - \\frac{\\rho u_{1}}{3} + \\frac{\\rho}{9}\\\\\\frac{\\rho u_{0}^{2}}{3} + \\frac{\\rho u_{0} u_{1}^{2}}{2} - \\frac{\\rho u_{0}}{3} - \\frac{\\rho u_{1}^{2}}{6} + \\frac{\\rho}{9}\\\\\\frac{\\rho u_{0}^{2}}{3} - \\frac{\\rho u_{0} u_{1}^{2}}{2} + \\frac{\\rho u_{0}}{3} - \\frac{\\rho u_{1}^{2}}{6} + \\frac{\\rho}{9}\\\\\\frac{\\rho u_{0}^{2} u_{1}}{4} + \\frac{\\rho u_{0}^{2}}{12} - \\frac{\\rho u_{0} u_{1}^{2}}{4} - \\frac{\\rho u_{0} u_{1}}{4} - \\frac{\\rho u_{0}}{12} + \\frac{\\rho u_{1}^{2}}{12} + \\frac{\\rho u_{1}}{12} + \\frac{\\rho}{36}\\\\\\frac{\\rho u_{0}^{2} u_{1}}{4} + \\frac{\\rho u_{0}^{2}}{12} + \\frac{\\rho u_{0} u_{1}^{2}}{4} + \\frac{\\rho u_{0} u_{1}}{4} + \\frac{\\rho u_{0}}{12} + \\frac{\\rho u_{1}^{2}}{12} + \\frac{\\rho u_{1}}{12} + \\frac{\\rho}{36}\\\\- \\frac{\\rho u_{0}^{2} u_{1}}{4} + \\frac{\\rho u_{0}^{2}}{12} - \\frac{\\rho u_{0} u_{1}^{2}}{4} + \\frac{\\rho u_{0} u_{1}}{4} - \\frac{\\rho u_{0}}{12} + \\frac{\\rho u_{1}^{2}}{12} - \\frac{\\rho u_{1}}{12} + \\frac{\\rho}{36}\\\\- \\frac{\\rho u_{0}^{2} u_{1}}{4} + \\frac{\\rho u_{0}^{2}}{12} + \\frac{\\rho u_{0} u_{1}^{2}}{4} - \\frac{\\rho u_{0} u_{1}}{4} + \\frac{\\rho u_{0}}{12} + \\frac{\\rho u_{1}^{2}}{12} - \\frac{\\rho u_{1}}{12} + \\frac{\\rho}{36}\\end{matrix}\\right]$$"
      ],
      "text/plain": [
       "⎡                            2         2                           ⎤\n",
       "⎢                      2⋅ρ⋅u₀    2⋅ρ⋅u₁    4⋅ρ                     ⎥\n",
       "⎢                    - ─────── - ─────── + ───                     ⎥\n",
       "⎢                         3         3       9                      ⎥\n",
       "⎢                                                                  ⎥\n",
       "⎢                    2          2       2                          ⎥\n",
       "⎢                ρ⋅u₀ ⋅u₁   ρ⋅u₀    ρ⋅u₁    ρ⋅u₁   ρ               ⎥\n",
       "⎢              - ──────── - ───── + ───── + ──── + ─               ⎥\n",
       "⎢                   2         6       3      3     9               ⎥\n",
       "⎢                                                                  ⎥\n",
       "⎢                   2          2       2                           ⎥\n",
       "⎢               ρ⋅u₀ ⋅u₁   ρ⋅u₀    ρ⋅u₁    ρ⋅u₁   ρ                ⎥\n",
       "⎢               ──────── - ───── + ───── - ──── + ─                ⎥\n",
       "⎢                  2         6       3      3     9                ⎥\n",
       "⎢                                                                  ⎥\n",
       "⎢                   2          2              2                    ⎥\n",
       "⎢               ρ⋅u₀    ρ⋅u₀⋅u₁    ρ⋅u₀   ρ⋅u₁    ρ                ⎥\n",
       "⎢               ───── + ──────── - ──── - ───── + ─                ⎥\n",
       "⎢                 3        2        3       6     9                ⎥\n",
       "⎢                                                                  ⎥\n",
       "⎢                   2          2              2                    ⎥\n",
       "⎢               ρ⋅u₀    ρ⋅u₀⋅u₁    ρ⋅u₀   ρ⋅u₁    ρ                ⎥\n",
       "⎢               ───── - ──────── + ──── - ───── + ─                ⎥\n",
       "⎢                 3        2        3       6     9                ⎥\n",
       "⎢                                                                  ⎥\n",
       "⎢     2          2          2                        2             ⎥\n",
       "⎢ ρ⋅u₀ ⋅u₁   ρ⋅u₀    ρ⋅u₀⋅u₁    ρ⋅u₀⋅u₁   ρ⋅u₀   ρ⋅u₁    ρ⋅u₁   ρ  ⎥\n",
       "⎢ ──────── + ───── - ──────── - ─────── - ──── + ───── + ──── + ── ⎥\n",
       "⎢    4         12       4          4       12      12     12    36 ⎥\n",
       "⎢                                                                  ⎥\n",
       "⎢     2          2          2                        2             ⎥\n",
       "⎢ ρ⋅u₀ ⋅u₁   ρ⋅u₀    ρ⋅u₀⋅u₁    ρ⋅u₀⋅u₁   ρ⋅u₀   ρ⋅u₁    ρ⋅u₁   ρ  ⎥\n",
       "⎢ ──────── + ───── + ──────── + ─────── + ──── + ───── + ──── + ── ⎥\n",
       "⎢    4         12       4          4       12      12     12    36 ⎥\n",
       "⎢                                                                  ⎥\n",
       "⎢      2          2          2                        2            ⎥\n",
       "⎢  ρ⋅u₀ ⋅u₁   ρ⋅u₀    ρ⋅u₀⋅u₁    ρ⋅u₀⋅u₁   ρ⋅u₀   ρ⋅u₁    ρ⋅u₁   ρ ⎥\n",
       "⎢- ──────── + ───── - ──────── + ─────── - ──── + ───── - ──── + ──⎥\n",
       "⎢     4         12       4          4       12      12     12    36⎥\n",
       "⎢                                                                  ⎥\n",
       "⎢      2          2          2                        2            ⎥\n",
       "⎢  ρ⋅u₀ ⋅u₁   ρ⋅u₀    ρ⋅u₀⋅u₁    ρ⋅u₀⋅u₁   ρ⋅u₀   ρ⋅u₁    ρ⋅u₁   ρ ⎥\n",
       "⎢- ──────── + ───── + ──────── - ─────── + ──── + ───── - ──── + ──⎥\n",
       "⎣     4         12       4          4       12      12     12    36⎦"
      ]
     },
     "execution_count": 18,
     "metadata": {},
     "output_type": "execute_result"
    }
   ],
   "source": [
    "literatureVersion = sp.Matrix(discrete_maxwellian_equilibrium(stencil, c_s_sq=sp.Rational(1,3), order=3))\n",
    "literatureVersion"
   ]
  },
  {
   "cell_type": "markdown",
   "metadata": {},
   "source": [
    "## 3) Reduced Stencils\n",
    "\n",
    "This method for deriving a discrete equilibrium works well for \"full stencils\" i.e. with $3^d$ directions, where $d$ is the dimension."
   ]
  },
  {
   "cell_type": "code",
   "execution_count": 19,
   "metadata": {},
   "outputs": [
    {
     "name": "stdout",
     "output_type": "stream",
     "text": [
      "Matched moments 13 - non matched moments 2 - total 15\n"
     ]
    },
    {
     "data": {
      "text/html": [
       "<table border=\"1\" cellpadding=\"3\" cellspacing=\"0\"  style=\"border:black; border-collapse:collapse;\"><tr><td  style=\"background-color:#ddd;border-left: 1px solid;border-right: 1px solid;border-top: 1px solid;border-bottom: 1px solid;\">order</td><td  style=\"background-color:#ddd;border-left: 1px solid;border-right: 1px solid;border-top: 1px solid;border-bottom: 1px solid;\">&nbsp;</td><td  style=\"background-color:#ddd;border-left: 1px solid;border-right: 1px solid;border-top: 1px solid;border-bottom: 1px solid;\">&nbsp;</td><td  style=\"background-color:#ddd;border-left: 1px solid;border-right: 1px solid;border-top: 1px solid;border-bottom: 1px solid;\">&nbsp;</td></tr><tr><td  style=\"border-left: 1px solid;border-right: 1px solid;border-top: 1px solid;border-bottom: 1px solid;\">0</td><td  style=\"background-color:lightGreen;border-left: 1px solid;border-right: 1px solid;border-top: 1px solid;border-bottom: 1px solid;\">(0,&nbsp;0)&nbsp;&nbsp;x&nbsp;1</td><td  style=\"border-left: 1px solid;border-right: 1px solid;border-top: 1px solid;border-bottom: 1px solid;\">&nbsp;</td><td  style=\"border-left: 1px solid;border-right: 1px solid;border-top: 1px solid;border-bottom: 1px solid;\">&nbsp;</td></tr><tr><td  style=\"border-left: 1px solid;border-right: 1px solid;border-top: 1px solid;border-bottom: 1px solid;\">1</td><td  style=\"background-color:lightGreen;border-left: 1px solid;border-right: 1px solid;border-top: 1px solid;border-bottom: 1px solid;\">(1,&nbsp;0)&nbsp;&nbsp;x&nbsp;2</td><td  style=\"border-left: 1px solid;border-right: 1px solid;border-top: 1px solid;border-bottom: 1px solid;\">&nbsp;</td><td  style=\"border-left: 1px solid;border-right: 1px solid;border-top: 1px solid;border-bottom: 1px solid;\">&nbsp;</td></tr><tr><td  style=\"border-left: 1px solid;border-right: 1px solid;border-top: 1px solid;border-bottom: 1px solid;\">2</td><td  style=\"background-color:lightGreen;border-left: 1px solid;border-right: 1px solid;border-top: 1px solid;border-bottom: 1px solid;\">(1,&nbsp;1)&nbsp;&nbsp;x&nbsp;1</td><td  style=\"background-color:lightGreen;border-left: 1px solid;border-right: 1px solid;border-top: 1px solid;border-bottom: 1px solid;\">(2,&nbsp;0)&nbsp;&nbsp;x&nbsp;2</td><td  style=\"border-left: 1px solid;border-right: 1px solid;border-top: 1px solid;border-bottom: 1px solid;\">&nbsp;</td></tr><tr><td  style=\"border-left: 1px solid;border-right: 1px solid;border-top: 1px solid;border-bottom: 1px solid;\">3</td><td  style=\"background-color:lightGreen;border-left: 1px solid;border-right: 1px solid;border-top: 1px solid;border-bottom: 1px solid;\">(2,&nbsp;1)&nbsp;&nbsp;x&nbsp;2</td><td  style=\"background-color:lightGreen;border-left: 1px solid;border-right: 1px solid;border-top: 1px solid;border-bottom: 1px solid;\">(3,&nbsp;0)&nbsp;&nbsp;x&nbsp;2</td><td  style=\"border-left: 1px solid;border-right: 1px solid;border-top: 1px solid;border-bottom: 1px solid;\">&nbsp;</td></tr><tr><td  style=\"border-left: 1px solid;border-right: 1px solid;border-top: 1px solid;border-bottom: 1px solid;\">4</td><td  style=\"background-color:lightGreen;border-left: 1px solid;border-right: 1px solid;border-top: 1px solid;border-bottom: 1px solid;\">(2,&nbsp;2)&nbsp;&nbsp;x&nbsp;1</td><td  style=\"background-color:lightGreen;border-left: 1px solid;border-right: 1px solid;border-top: 1px solid;border-bottom: 1px solid;\">(3,&nbsp;1)&nbsp;&nbsp;x&nbsp;2</td><td  style=\"background-color:Orange;border-left: 1px solid;border-right: 1px solid;border-top: 1px solid;border-bottom: 1px solid;\">(4,&nbsp;0)&nbsp;&nbsp;x&nbsp;2</td></tr></table>"
      ],
      "text/plain": [
       "<ipy_table.ipy_table.IpyTable at 0x7fd36422eb70>"
      ]
     },
     "execution_count": 19,
     "metadata": {},
     "output_type": "execute_result"
    }
   ],
   "source": [
    "moment_equality_table(get_stencil(\"D2Q9\"), truncate_order=2)"
   ]
  },
  {
   "cell_type": "code",
   "execution_count": 20,
   "metadata": {},
   "outputs": [
    {
     "name": "stdout",
     "output_type": "stream",
     "text": [
      "Matched moments 32 - non matched moments 3 - total 35\n"
     ]
    },
    {
     "data": {
      "text/html": [
       "<table border=\"1\" cellpadding=\"3\" cellspacing=\"0\"  style=\"border:black; border-collapse:collapse;\"><tr><td  style=\"background-color:#ddd;border-left: 1px solid;border-right: 1px solid;border-top: 1px solid;border-bottom: 1px solid;\">order</td><td  style=\"background-color:#ddd;border-left: 1px solid;border-right: 1px solid;border-top: 1px solid;border-bottom: 1px solid;\">&nbsp;</td><td  style=\"background-color:#ddd;border-left: 1px solid;border-right: 1px solid;border-top: 1px solid;border-bottom: 1px solid;\">&nbsp;</td><td  style=\"background-color:#ddd;border-left: 1px solid;border-right: 1px solid;border-top: 1px solid;border-bottom: 1px solid;\">&nbsp;</td><td  style=\"background-color:#ddd;border-left: 1px solid;border-right: 1px solid;border-top: 1px solid;border-bottom: 1px solid;\">&nbsp;</td></tr><tr><td  style=\"border-left: 1px solid;border-right: 1px solid;border-top: 1px solid;border-bottom: 1px solid;\">0</td><td  style=\"background-color:lightGreen;border-left: 1px solid;border-right: 1px solid;border-top: 1px solid;border-bottom: 1px solid;\">(0,&nbsp;0,&nbsp;0)&nbsp;&nbsp;x&nbsp;1</td><td  style=\"border-left: 1px solid;border-right: 1px solid;border-top: 1px solid;border-bottom: 1px solid;\">&nbsp;</td><td  style=\"border-left: 1px solid;border-right: 1px solid;border-top: 1px solid;border-bottom: 1px solid;\">&nbsp;</td><td  style=\"border-left: 1px solid;border-right: 1px solid;border-top: 1px solid;border-bottom: 1px solid;\">&nbsp;</td></tr><tr><td  style=\"border-left: 1px solid;border-right: 1px solid;border-top: 1px solid;border-bottom: 1px solid;\">1</td><td  style=\"background-color:lightGreen;border-left: 1px solid;border-right: 1px solid;border-top: 1px solid;border-bottom: 1px solid;\">(1,&nbsp;0,&nbsp;0)&nbsp;&nbsp;x&nbsp;3</td><td  style=\"border-left: 1px solid;border-right: 1px solid;border-top: 1px solid;border-bottom: 1px solid;\">&nbsp;</td><td  style=\"border-left: 1px solid;border-right: 1px solid;border-top: 1px solid;border-bottom: 1px solid;\">&nbsp;</td><td  style=\"border-left: 1px solid;border-right: 1px solid;border-top: 1px solid;border-bottom: 1px solid;\">&nbsp;</td></tr><tr><td  style=\"border-left: 1px solid;border-right: 1px solid;border-top: 1px solid;border-bottom: 1px solid;\">2</td><td  style=\"background-color:lightGreen;border-left: 1px solid;border-right: 1px solid;border-top: 1px solid;border-bottom: 1px solid;\">(1,&nbsp;1,&nbsp;0)&nbsp;&nbsp;x&nbsp;3</td><td  style=\"background-color:lightGreen;border-left: 1px solid;border-right: 1px solid;border-top: 1px solid;border-bottom: 1px solid;\">(2,&nbsp;0,&nbsp;0)&nbsp;&nbsp;x&nbsp;3</td><td  style=\"border-left: 1px solid;border-right: 1px solid;border-top: 1px solid;border-bottom: 1px solid;\">&nbsp;</td><td  style=\"border-left: 1px solid;border-right: 1px solid;border-top: 1px solid;border-bottom: 1px solid;\">&nbsp;</td></tr><tr><td  style=\"border-left: 1px solid;border-right: 1px solid;border-top: 1px solid;border-bottom: 1px solid;\">3</td><td  style=\"background-color:lightGreen;border-left: 1px solid;border-right: 1px solid;border-top: 1px solid;border-bottom: 1px solid;\">(1,&nbsp;1,&nbsp;1)&nbsp;&nbsp;x&nbsp;1</td><td  style=\"background-color:lightGreen;border-left: 1px solid;border-right: 1px solid;border-top: 1px solid;border-bottom: 1px solid;\">(2,&nbsp;1,&nbsp;0)&nbsp;&nbsp;x&nbsp;6</td><td  style=\"background-color:lightGreen;border-left: 1px solid;border-right: 1px solid;border-top: 1px solid;border-bottom: 1px solid;\">(3,&nbsp;0,&nbsp;0)&nbsp;&nbsp;x&nbsp;3</td><td  style=\"border-left: 1px solid;border-right: 1px solid;border-top: 1px solid;border-bottom: 1px solid;\">&nbsp;</td></tr><tr><td  style=\"border-left: 1px solid;border-right: 1px solid;border-top: 1px solid;border-bottom: 1px solid;\">4</td><td  style=\"background-color:lightGreen;border-left: 1px solid;border-right: 1px solid;border-top: 1px solid;border-bottom: 1px solid;\">(2,&nbsp;1,&nbsp;1)&nbsp;&nbsp;x&nbsp;3</td><td  style=\"background-color:lightGreen;border-left: 1px solid;border-right: 1px solid;border-top: 1px solid;border-bottom: 1px solid;\">(2,&nbsp;2,&nbsp;0)&nbsp;&nbsp;x&nbsp;3</td><td  style=\"background-color:lightGreen;border-left: 1px solid;border-right: 1px solid;border-top: 1px solid;border-bottom: 1px solid;\">(3,&nbsp;1,&nbsp;0)&nbsp;&nbsp;x&nbsp;6</td><td  style=\"background-color:Orange;border-left: 1px solid;border-right: 1px solid;border-top: 1px solid;border-bottom: 1px solid;\">(4,&nbsp;0,&nbsp;0)&nbsp;&nbsp;x&nbsp;3</td></tr></table>"
      ],
      "text/plain": [
       "<ipy_table.ipy_table.IpyTable at 0x7fd3642dd7b8>"
      ]
     },
     "execution_count": 20,
     "metadata": {},
     "output_type": "execute_result"
    }
   ],
   "source": [
    "moment_equality_table(get_stencil(\"D3Q27\"), truncate_order=2)"
   ]
  },
  {
   "cell_type": "code",
   "execution_count": 21,
   "metadata": {},
   "outputs": [
    {
     "name": "stdout",
     "output_type": "stream",
     "text": [
      "Matched moments 26 - non matched moments 9 - total 35\n"
     ]
    },
    {
     "data": {
      "text/html": [
       "<table border=\"1\" cellpadding=\"3\" cellspacing=\"0\"  style=\"border:black; border-collapse:collapse;\"><tr><td  style=\"background-color:#ddd;border-left: 1px solid;border-right: 1px solid;border-top: 1px solid;border-bottom: 1px solid;\">order</td><td  style=\"background-color:#ddd;border-left: 1px solid;border-right: 1px solid;border-top: 1px solid;border-bottom: 1px solid;\">&nbsp;</td><td  style=\"background-color:#ddd;border-left: 1px solid;border-right: 1px solid;border-top: 1px solid;border-bottom: 1px solid;\">&nbsp;</td><td  style=\"background-color:#ddd;border-left: 1px solid;border-right: 1px solid;border-top: 1px solid;border-bottom: 1px solid;\">&nbsp;</td><td  style=\"background-color:#ddd;border-left: 1px solid;border-right: 1px solid;border-top: 1px solid;border-bottom: 1px solid;\">&nbsp;</td></tr><tr><td  style=\"border-left: 1px solid;border-right: 1px solid;border-top: 1px solid;border-bottom: 1px solid;\">0</td><td  style=\"background-color:lightGreen;border-left: 1px solid;border-right: 1px solid;border-top: 1px solid;border-bottom: 1px solid;\">(0,&nbsp;0,&nbsp;0)&nbsp;&nbsp;x&nbsp;1</td><td  style=\"border-left: 1px solid;border-right: 1px solid;border-top: 1px solid;border-bottom: 1px solid;\">&nbsp;</td><td  style=\"border-left: 1px solid;border-right: 1px solid;border-top: 1px solid;border-bottom: 1px solid;\">&nbsp;</td><td  style=\"border-left: 1px solid;border-right: 1px solid;border-top: 1px solid;border-bottom: 1px solid;\">&nbsp;</td></tr><tr><td  style=\"border-left: 1px solid;border-right: 1px solid;border-top: 1px solid;border-bottom: 1px solid;\">1</td><td  style=\"background-color:lightGreen;border-left: 1px solid;border-right: 1px solid;border-top: 1px solid;border-bottom: 1px solid;\">(1,&nbsp;0,&nbsp;0)&nbsp;&nbsp;x&nbsp;3</td><td  style=\"border-left: 1px solid;border-right: 1px solid;border-top: 1px solid;border-bottom: 1px solid;\">&nbsp;</td><td  style=\"border-left: 1px solid;border-right: 1px solid;border-top: 1px solid;border-bottom: 1px solid;\">&nbsp;</td><td  style=\"border-left: 1px solid;border-right: 1px solid;border-top: 1px solid;border-bottom: 1px solid;\">&nbsp;</td></tr><tr><td  style=\"border-left: 1px solid;border-right: 1px solid;border-top: 1px solid;border-bottom: 1px solid;\">2</td><td  style=\"background-color:lightGreen;border-left: 1px solid;border-right: 1px solid;border-top: 1px solid;border-bottom: 1px solid;\">(1,&nbsp;1,&nbsp;0)&nbsp;&nbsp;x&nbsp;3</td><td  style=\"background-color:lightGreen;border-left: 1px solid;border-right: 1px solid;border-top: 1px solid;border-bottom: 1px solid;\">(2,&nbsp;0,&nbsp;0)&nbsp;&nbsp;x&nbsp;3</td><td  style=\"border-left: 1px solid;border-right: 1px solid;border-top: 1px solid;border-bottom: 1px solid;\">&nbsp;</td><td  style=\"border-left: 1px solid;border-right: 1px solid;border-top: 1px solid;border-bottom: 1px solid;\">&nbsp;</td></tr><tr><td  style=\"border-left: 1px solid;border-right: 1px solid;border-top: 1px solid;border-bottom: 1px solid;\">3</td><td  style=\"background-color:lightGreen;border-left: 1px solid;border-right: 1px solid;border-top: 1px solid;border-bottom: 1px solid;\">(1,&nbsp;1,&nbsp;1)&nbsp;&nbsp;x&nbsp;1</td><td  style=\"background-color:lightGreen;border-left: 1px solid;border-right: 1px solid;border-top: 1px solid;border-bottom: 1px solid;\">(2,&nbsp;1,&nbsp;0)&nbsp;&nbsp;x&nbsp;6</td><td  style=\"background-color:lightGreen;border-left: 1px solid;border-right: 1px solid;border-top: 1px solid;border-bottom: 1px solid;\">(3,&nbsp;0,&nbsp;0)&nbsp;&nbsp;x&nbsp;3</td><td  style=\"border-left: 1px solid;border-right: 1px solid;border-top: 1px solid;border-bottom: 1px solid;\">&nbsp;</td></tr><tr><td  style=\"border-left: 1px solid;border-right: 1px solid;border-top: 1px solid;border-bottom: 1px solid;\">4</td><td  style=\"background-color:Orange;border-left: 1px solid;border-right: 1px solid;border-top: 1px solid;border-bottom: 1px solid;\">(2,&nbsp;1,&nbsp;1)&nbsp;&nbsp;x&nbsp;3</td><td  style=\"background-color:Orange;border-left: 1px solid;border-right: 1px solid;border-top: 1px solid;border-bottom: 1px solid;\">(2,&nbsp;2,&nbsp;0)&nbsp;&nbsp;x&nbsp;3</td><td  style=\"background-color:lightGreen;border-left: 1px solid;border-right: 1px solid;border-top: 1px solid;border-bottom: 1px solid;\">(3,&nbsp;1,&nbsp;0)&nbsp;&nbsp;x&nbsp;6</td><td  style=\"background-color:Orange;border-left: 1px solid;border-right: 1px solid;border-top: 1px solid;border-bottom: 1px solid;\">(4,&nbsp;0,&nbsp;0)&nbsp;&nbsp;x&nbsp;3</td></tr></table>"
      ],
      "text/plain": [
       "<ipy_table.ipy_table.IpyTable at 0x7fd3a3ba82e8>"
      ]
     },
     "execution_count": 21,
     "metadata": {},
     "output_type": "execute_result"
    }
   ],
   "source": [
    "moment_equality_table(get_stencil(\"D3Q19\"), truncate_order=2)"
   ]
  }
 ],
 "metadata": {
  "anaconda-cloud": {},
  "kernelspec": {
   "display_name": "Python 3",
   "language": "python",
   "name": "python3"
  },
  "language_info": {
   "codemirror_mode": {
    "name": "ipython",
    "version": 3
   },
   "file_extension": ".py",
   "mimetype": "text/x-python",
   "name": "python",
   "nbconvert_exporter": "python",
   "pygments_lexer": "ipython3",
   "version": "3.6.6"
  }
 },
 "nbformat": 4,
 "nbformat_minor": 1
}
