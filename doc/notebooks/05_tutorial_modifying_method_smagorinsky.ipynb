{
 "cells": [
  {
   "cell_type": "code",
   "execution_count": 4,
   "metadata": {},
   "outputs": [
    {
     "ename": "ModuleNotFoundError",
     "evalue": "No module named 'lbmpy.session'",
     "output_type": "error",
     "traceback": [
      "\u001b[0;31m---------------------------------------------------------------------------\u001b[0m",
      "\u001b[0;31mModuleNotFoundError\u001b[0m                       Traceback (most recent call last)",
      "\u001b[0;32m<ipython-input-4-e8cce828271f>\u001b[0m in \u001b[0;36m<module>\u001b[0;34m\u001b[0m\n\u001b[0;32m----> 1\u001b[0;31m \u001b[0;32mfrom\u001b[0m \u001b[0mlbmpy\u001b[0m\u001b[0;34m.\u001b[0m\u001b[0msession\u001b[0m \u001b[0;32mimport\u001b[0m \u001b[0;34m*\u001b[0m\u001b[0;34m\u001b[0m\u001b[0;34m\u001b[0m\u001b[0m\n\u001b[0m\u001b[1;32m      2\u001b[0m \u001b[0;32mfrom\u001b[0m \u001b[0mlbmpy\u001b[0m\u001b[0;34m.\u001b[0m\u001b[0mrelaxationrates\u001b[0m \u001b[0;32mimport\u001b[0m \u001b[0;34m*\u001b[0m\u001b[0;34m\u001b[0m\u001b[0;34m\u001b[0m\u001b[0m\n",
      "\u001b[0;31mModuleNotFoundError\u001b[0m: No module named 'lbmpy.session'"
     ]
    }
   ],
   "source": [
    "from lbmpy.session import *\n",
    "from lbmpy.relaxationrates import *"
   ]
  },
  {
   "cell_type": "markdown",
   "metadata": {},
   "source": [
    "# Tutorial 05: Modifying a LBM method: Smagorinsky model\n",
    "\n",
    "In this demo, we show how to modify a lattice Boltzmann method. As example we are going to add a simple turbulence model, by introducing a rule that locally computes the relaxation parameter dependent on the local strain rate tensor. The Smagorinsky model is implemented directly in *lbmpy* as well, however here we take the manual approach to demonstrate how a LB method can be changed in *lbmpy*.\n",
    "\n",
    "## 1) Theoretical background\n",
    "\n",
    "Since we have *sympy* available, we want to start out with the basic model equations and derive the concrete equations ourselves. This approach is less error prone, since the calculations are done by the computer algebra system, and oftentimes this approach is also more general and easier to understand. \n",
    "\n",
    "### a) Smagorinsky model \n",
    "\n",
    "The basic idea of the Smagorinsky turbulence model is to safe compute time, by not resolving the smallest eddies of the flow on the grid, but model them by an artifical dissipation term. \n",
    "The energy dissipation of small scale vortices is taken into account by introducing a \"turbulent viscosity\". This additional viscosity depends on local flow properties, namely the local shear rates. The larger the local shear rates the higher the turbulent viscosity and the more artifical dissipation is added. \n",
    "\n",
    "The total viscosity is \n",
    "\n",
    "$$\\nu_{total} = \\nu_0 + \\underbrace{(C_S \\Delta)^2 |S|}_{\\nu_{t}}$$\n",
    "\n",
    "where $\\nu_0$ is the normal viscosity, $C_S$ is the Smagorinsky constant, not to be confused with the speed of sound! Typical values of the Smagorinsky constant are between 0.1 - 0.2. The filter length $\\Delta$ is chosen as 1 in lattice coordinates.\n",
    "\n",
    "The quantity $|S|$ is computed from the local strain rate tensor $S$ that is given by\n",
    "\n",
    "$$S_{ij} = \\frac{1}{2} \\left( \\partial_i u_j + \\partial_j u_i \\right)$$\n",
    "\n",
    "and \n",
    "\n",
    "$$|S| = \\sqrt{2 S_{ij} S_{ij}}$$\n",
    "\n",
    "\n",
    "### b) LBM implementation of Smagorinsky model\n",
    "\n",
    "To add the Smagorinsky model to a LB scheme one has to first compute the strain rate tensor $S_{ij}$ in each cell, and compute the turbulent viscosity $\\nu_t$ from it. Then the local relaxation rate has to be adapted to match the total viscosity $\\nu_{total}$ instead of the standard viscosity $\\nu_0$.\n",
    "\n",
    "A fortunate property of LB methods is, that the strain rate tensor can be computed locally from the non-equilibrium part of the distribution function. This is somewhat surprising, since the strain rate tensor contains first order derivatives. The strain rate tensor can be obtained by\n",
    "\n",
    "$$S_{ij} = - \\frac{3 \\omega_s}{2 \\rho_{(0)}} \\Pi_{ij}^{(neq)}$$\n",
    "\n",
    "where $\\omega_s$ is the relaxation rate that determines the viscosity, $\\rho_{(0)}$ is $\\rho$ in compressible models and $1$ for incompressible schemes.\n",
    "$\\Pi_{ij}^{(neq)}$ is the second order moment tensor of the non-equilibrium part of the distribution functions $f^{(neq)} = f - f^{(eq)}$ and can be computed as \n",
    "\n",
    "$$\\Pi_{ij}^{(neq)} = \\sum_q c_{qi} c_{qj} \\; f_q^{(neq)}$$\n"
   ]
  },
  {
   "cell_type": "markdown",
   "metadata": {},
   "source": [
    "We first have to find a closed form for $S_{ij}$ since in the formula above, it depends on $\\omega$, which should be adapated according to $S_{ij}$. \n",
    "So we compute $\\omega$ and insert it into the formula for $S$:\n",
    " "
   ]
  },
  {
   "cell_type": "code",
   "execution_count": null,
   "metadata": {},
   "outputs": [],
   "source": [
    "τ_0, ρ, ω, ω_total, ω_0 = sp.symbols(\"tau_0 rho omega omega_total omega_0\", positive=True, real=True)\n",
    "ν_0, C_S, S, Π = sp.symbols(\"nu_0, C_S, |S|, Pi\", positive=True, real=True)\n",
    "\n",
    "Seq = sp.Eq(S, 3 * ω / 2 * Π)\n",
    "Seq"
   ]
  },
  {
   "cell_type": "markdown",
   "metadata": {},
   "source": [
    "Note that we left of the minus, since we took the absolute value of both tensor. The absolute value is defined as above, with the factor of two inside the square root. The $\\rho_{(0)}$ has been left out, remembering that $\\Pi^{(neq)}$ has to be divided by $\\rho$ in case of compressible models|.\n",
    "\n",
    "Next, we compute $\\omega$ from the total viscosity as given by the Smagorinsky equation:"
   ]
  },
  {
   "cell_type": "code",
   "execution_count": null,
   "metadata": {},
   "outputs": [],
   "source": [
    "relaxation_rate_from_lattice_viscosity(ν_0 + C_S ** 2 * S)\n"
   ]
  },
  {
   "cell_type": "markdown",
   "metadata": {},
   "source": [
    "and insert it into the equation for $|S|$"
   ]
  },
  {
   "cell_type": "code",
   "execution_count": null,
   "metadata": {},
   "outputs": [],
   "source": [
    "Seq2 = Seq.subs(ω, relaxation_rate_from_lattice_viscosity(ν_0 + C_S **2 * S ))\n",
    "Seq2"
   ]
  },
  {
   "cell_type": "markdown",
   "metadata": {},
   "source": [
    "This equation contains only known quantities, such that we can solve it for $|S|$.\n",
    "Additionally we substitute the lattice viscosity $\\nu_0$ by the original relaxation time $\\tau_0$. The resulting equations get simpler using relaxation times instead of rates."
   ]
  },
  {
   "cell_type": "code",
   "execution_count": null,
   "metadata": {},
   "outputs": [],
   "source": [
    "solveRes = sp.solve(Seq2, S)\n",
    "assert len(solveRes) == 1\n",
    "SVal = solveRes[0]\n",
    "SVal = SVal.subs(ν_0, lattice_viscosity_from_relaxation_rate(1 / τ_0)).expand()\n",
    "SVal"
   ]
  },
  {
   "cell_type": "markdown",
   "metadata": {},
   "source": [
    "Knowning $|S|$ we can compute the total relaxation time using\n",
    "\n",
    "$$\\nu_{total} = \\nu_0 +C_S^2 |S|$$\n"
   ]
  },
  {
   "cell_type": "code",
   "execution_count": null,
   "metadata": {},
   "outputs": [],
   "source": [
    "τ_val = 1 / (relaxation_rate_from_lattice_viscosity(lattice_viscosity_from_relaxation_rate(1/τ_0) + C_S**2 * SVal)).cancel()\n",
    "τ_val"
   ]
  },
  {
   "cell_type": "markdown",
   "metadata": {},
   "source": [
    "To compute $\\Pi^{(neq)}$ we use the following functions:"
   ]
  },
  {
   "cell_type": "code",
   "execution_count": null,
   "metadata": {},
   "outputs": [],
   "source": [
    "def second_order_moment_tensor(function_values, stencil):\n",
    "    assert len(function_values) == len(stencil)\n",
    "    dim = len(stencil[0])\n",
    "    return sp.Matrix(dim, dim, lambda i, j: sum(c[i] * c[j] * f for f, c in zip(function_values, stencil)))\n",
    "\n",
    "\n",
    "def frobenius_norm(matrix, factor=1):\n",
    "    return sp.sqrt(sum(i*i for i in matrix) * factor)"
   ]
  },
  {
   "cell_type": "markdown",
   "metadata": {},
   "source": [
    "In the next cell we construct equations that take an standard relaxation rate $\\omega_0$ and compute a new relaxation rate $\\omega_{total}$ according to the Smagorinksy model, using `τ_val` computed above"
   ]
  },
  {
   "cell_type": "code",
   "execution_count": null,
   "metadata": {},
   "outputs": [],
   "source": [
    "def smagorinsky_equations(ω_0, ω_total, method):\n",
    "    f_neq = sp.Matrix(method.pre_collision_pdf_symbols) - method.get_equilibrium_terms()\n",
    "    return [sp.Eq(τ_0, 1 / ω_0),\n",
    "            sp.Eq(Π, frobenius_norm(second_order_moment_tensor(f_neq, method.stencil), factor=2)),\n",
    "            sp.Eq(ω_total, 1 / τ_val)]\n",
    "\n",
    "\n",
    "smagorinsky_equations(ω_0, ω_total, create_lb_method())"
   ]
  },
  {
   "cell_type": "markdown",
   "metadata": {},
   "source": [
    "## 2) Application: Channel flow\n",
    "\n",
    "Next we modify a *lbmpy* scenario to use the Smagorinsky model. \n",
    "We create a MRT method, where we fix all relaxation rates except the relaxation rate that controls the viscosity."
   ]
  },
  {
   "cell_type": "code",
   "execution_count": 2,
   "metadata": {},
   "outputs": [
    {
     "ename": "NameError",
     "evalue": "name 'create_lb_method' is not defined",
     "output_type": "error",
     "traceback": [
      "\u001b[0;31m---------------------------------------------------------------------------\u001b[0m",
      "\u001b[0;31mNameError\u001b[0m                                 Traceback (most recent call last)",
      "\u001b[0;32m<ipython-input-2-f0f088c69f93>\u001b[0m in \u001b[0;36m<module>\u001b[0;34m\u001b[0m\n\u001b[0;32m----> 1\u001b[0;31m method = create_lb_method(method='mrt', stencil='D2Q9', force=(1e-6, 0),\n\u001b[0m\u001b[1;32m      2\u001b[0m                           relaxation_rates=[0, 0, ω, 1.9, 1.9])\n\u001b[1;32m      3\u001b[0m \u001b[0mmethod\u001b[0m\u001b[0;34m\u001b[0m\u001b[0;34m\u001b[0m\u001b[0m\n",
      "\u001b[0;31mNameError\u001b[0m: name 'create_lb_method' is not defined"
     ]
    }
   ],
   "source": [
    "method = create_lb_method(method='mrt', stencil='D2Q9', force=(1e-6, 0),\n",
    "                          relaxation_rates=[0, 0, ω, 1.9, 1.9])\n",
    "method"
   ]
  },
  {
   "cell_type": "markdown",
   "metadata": {},
   "source": [
    "Only the collision rule has to be changed. Thus we first construct the collision rule, add the Smagorinsky equations and create a normal scenario from the modified collision rule."
   ]
  },
  {
   "cell_type": "code",
   "execution_count": null,
   "metadata": {},
   "outputs": [],
   "source": [
    "collision_rule = create_lb_collision_rule(lb_method=method)\n",
    "collision_rule = collision_rule.new_with_substitutions({ω: ω_total})\n",
    "\n",
    "collision_rule.subexpressions += smagorinsky_equations(ω, ω_total, method)\n",
    "collision_rule.topological_sort(sort_subexpressions=True, sort_main_assignments=False)\n",
    "collision_rule"
   ]
  },
  {
   "cell_type": "markdown",
   "metadata": {},
   "source": [
    "In the next cell the collision rule is simplified by extracting common subexpressions"
   ]
  },
  {
   "cell_type": "code",
   "execution_count": null,
   "metadata": {},
   "outputs": [],
   "source": [
    "from pystencils.simp import sympy_cse\n",
    "#collision_rule = sympy_cse(collision_rule)"
   ]
  },
  {
   "cell_type": "markdown",
   "metadata": {},
   "source": [
    "A channel scenario can be created from a modified collision rule:"
   ]
  },
  {
   "cell_type": "code",
   "execution_count": null,
   "metadata": {},
   "outputs": [],
   "source": [
    "ch = create_channel((300, 100), force=1e-6, collision_rule=collision_rule,\n",
    "                    kernel_params={\"C_S\": 0.12, \"omega\": 1.999})"
   ]
  },
  {
   "cell_type": "code",
   "execution_count": null,
   "metadata": {},
   "outputs": [],
   "source": [
    "#show_code(ch.ast)"
   ]
  },
  {
   "cell_type": "code",
   "execution_count": null,
   "metadata": {},
   "outputs": [],
   "source": [
    "ch.run(5000)"
   ]
  },
  {
   "cell_type": "code",
   "execution_count": null,
   "metadata": {},
   "outputs": [],
   "source": [
    "plt.vector_field(ch.velocity[:, :])\n",
    "np.max(ch.velocity[:, :])"
   ]
  },
  {
   "cell_type": "markdown",
   "metadata": {},
   "source": [
    "## Appendix: Strain rate tensor formula from Chapman Enskog\n",
    "\n",
    "The connection between $S_{ij}$ and $\\Pi_{ij}^{(neq)}$ can be seen using a Chapman Enskog expansion. Since *lbmpy* has a module that automatically does this expansions we can have a look at it:"
   ]
  },
  {
   "cell_type": "code",
   "execution_count": null,
   "metadata": {},
   "outputs": [],
   "source": [
    "from lbmpy.chapman_enskog import ChapmanEnskogAnalysis, CeMoment\n",
    "from lbmpy.chapman_enskog.chapman_enskog import remove_higher_order_u\n",
    "compressible_model = create_lb_method(stencil=\"D2Q9\", compressible=True)\n",
    "incompressible_model = create_lb_method(stencil=\"D2Q9\", compressible=False)\n",
    "\n",
    "ce_compressible = ChapmanEnskogAnalysis(compressible_model)\n",
    "ce_incompressible = ChapmanEnskogAnalysis(incompressible_model)"
   ]
  },
  {
   "cell_type": "markdown",
   "metadata": {},
   "source": [
    "The Chapman Enskog analysis yields expresssions for the moment  \n",
    "\n",
    "$\\Pi = \\Pi^{(eq)} + \\epsilon \\Pi^{(1)} +  \\epsilon^2 \\Pi^{(2)} \\cdots$\n",
    "and the strain rate tensor is related to $\\Pi^{(1)}$. However the best approximation we have for $\\Pi^{(1)}$ is \n",
    "$\\Pi^{(neq)}$. For details, see the paper \"Shear stress in lattice Boltzmann simulations\" by Krüger, Varnik and Raabe from 2009.\n",
    "\n",
    "Lets look at the values of $\\Pi^{(1)}$ obtained from the Chapman enskog expansion:"
   ]
  },
  {
   "cell_type": "code",
   "execution_count": null,
   "metadata": {},
   "outputs": [],
   "source": [
    "Π_1_xy = CeMoment(\"\\\\Pi\", moment_tuple=(1,1), superscript=1)\n",
    "Π_1_xx = CeMoment(\"\\\\Pi\", moment_tuple=(2,0), superscript=1)\n",
    "Π_1_yy = CeMoment(\"\\\\Pi\", moment_tuple=(0,2), superscript=1)\n",
    "components = (Π_1_xx, Π_1_yy, Π_1_xy)\n",
    "\n",
    "Π_1_xy_val = ce_compressible.higher_order_moments[Π_1_xy]\n",
    "Π_1_xy_val"
   ]
  },
  {
   "cell_type": "markdown",
   "metadata": {},
   "source": [
    "This term has lots of higher order error terms in it. We assume that $u$ is small in lattice coordinates, so if we neglect all terms in $u$ that are quadratic or higher we get:"
   ]
  },
  {
   "cell_type": "code",
   "execution_count": null,
   "metadata": {},
   "outputs": [],
   "source": [
    "remove_higher_order_u(Π_1_xy_val.expand())"
   ]
  },
  {
   "cell_type": "markdown",
   "metadata": {},
   "source": [
    "Putting these steps together into a function, we can display them for the different cases quickly:"
   ]
  },
  {
   "cell_type": "code",
   "execution_count": null,
   "metadata": {},
   "outputs": [],
   "source": [
    "def get_Π_1(ce_analysis, component):\n",
    "    val = ce_analysis.higher_order_moments[component]\n",
    "    return remove_higher_order_u(val.expand())"
   ]
  },
  {
   "cell_type": "markdown",
   "metadata": {},
   "source": [
    "Compressible case:"
   ]
  },
  {
   "cell_type": "code",
   "execution_count": null,
   "metadata": {},
   "outputs": [],
   "source": [
    "tuple(get_Π_1(ce_compressible, Pi) for Pi in components) "
   ]
  },
  {
   "cell_type": "markdown",
   "metadata": {},
   "source": [
    "Incompressible case:"
   ]
  },
  {
   "cell_type": "code",
   "execution_count": null,
   "metadata": {},
   "outputs": [],
   "source": [
    "tuple(get_Π_1(ce_incompressible, Pi) for Pi in components) "
   ]
  },
  {
   "cell_type": "markdown",
   "metadata": {},
   "source": [
    "In the incompressible case has some terms $\\partial \\rho$ which are zero, since $\\rho$ is assumed constant.\n",
    "\n",
    "Leaving out the error terms we finally obtain:\n",
    "\n",
    "\n",
    "$$\\Pi_{ij}^{(neq)} \\approx \\Pi_{ij}^{(1)} = -\\frac{2 \\rho_{(0)}}{3 \\omega_s} \\left( \\partial_i u_j + \\partial_j u_i \\right)$$"
   ]
  }
 ],
 "metadata": {
  "kernelspec": {
   "display_name": "Python 3",
   "language": "python",
   "name": "python3"
  },
  "language_info": {
   "codemirror_mode": {
    "name": "ipython",
    "version": 3
   },
   "file_extension": ".py",
   "mimetype": "text/x-python",
   "name": "python",
   "nbconvert_exporter": "python",
   "pygments_lexer": "ipython3",
   "version": "3.7.2"
  }
 },
 "nbformat": 4,
 "nbformat_minor": 2
}
