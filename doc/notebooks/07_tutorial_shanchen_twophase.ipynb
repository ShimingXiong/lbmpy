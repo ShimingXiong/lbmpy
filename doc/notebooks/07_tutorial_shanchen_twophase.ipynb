{
 "cells": [
  {
   "cell_type": "markdown",
   "metadata": {},
   "source": [
    "# Shan-Chen Two-Phase Single-Component Lattice Boltzmann"
   ]
  },
  {
   "cell_type": "code",
   "execution_count": 1,
   "metadata": {},
   "outputs": [],
   "source": [
    "from lbmpy.session import *\n",
    "from lbmpy.updatekernels import create_stream_pull_with_output_kernel\n",
    "from lbmpy.macroscopic_value_kernels import macroscopic_values_getter, macroscopic_values_setter"
   ]
  },
  {
   "cell_type": "markdown",
   "metadata": {},
   "source": [
    "This is based on section 9.3.2 of Krüger et al.'s \"The Lattice Boltzmann Method\", Springer 2017 (http://www.lbmbook.com).\n",
    "Sample code is available at [https://github.com/lbm-principles-practice/code/](https://github.com/lbm-principles-practice/code/blob/master/chapter9/shanchen.cpp)."
   ]
  },
  {
   "cell_type": "markdown",
   "metadata": {},
   "source": [
    "## Parameters"
   ]
  },
  {
   "cell_type": "code",
   "execution_count": 2,
   "metadata": {},
   "outputs": [],
   "source": [
    "N = 64\n",
    "omega_a = 1.\n",
    "g_aa = -4.7\n",
    "rho0 = 1."
   ]
  },
  {
   "cell_type": "markdown",
   "metadata": {},
   "source": [
    "## Data structures"
   ]
  },
  {
   "cell_type": "code",
   "execution_count": 3,
   "metadata": {},
   "outputs": [],
   "source": [
    "dh = ps.create_data_handling((N, N), periodicity=True, default_target='cpu')\n",
    "\n",
    "method_a = create_lb_method(relaxation_rate=omega_a, compressible=True)\n",
    "\n",
    "src_a = dh.add_array('src_a', values_per_cell=len(method_a.stencil))\n",
    "dst_a = dh.add_array_like('dst_a', 'src_a')\n",
    "\n",
    "ρ_a = dh.add_array('rho_a')"
   ]
  },
  {
   "cell_type": "markdown",
   "metadata": {},
   "source": [
    "## Force & combined velocity"
   ]
  },
  {
   "cell_type": "markdown",
   "metadata": {},
   "source": [
    "The force on the fluid is\n",
    "$\\vec{F}_A(\\vec{x})=-\\psi(\\rho_A(\\vec{x}))g_{AA}\\sum\\limits_{i=1}^{19}w_i\\psi(\\rho_A(\\vec{x}+\\vec{c}_i))\\vec{c}_i$\n",
    "with \n",
    "$\\psi(\\rho)=\\rho_0\\left[1-\\exp(-\\rho/\\rho_0)\\right]$."
   ]
  },
  {
   "cell_type": "code",
   "execution_count": 4,
   "metadata": {},
   "outputs": [],
   "source": [
    "def psi(dens):\n",
    "    return rho0 * (1. - sp.exp(-dens / rho0));"
   ]
  },
  {
   "cell_type": "code",
   "execution_count": 5,
   "metadata": {},
   "outputs": [],
   "source": [
    "zero_vec = sp.Matrix([0] * dh.dim) \n",
    "\n",
    "stencil, weights = method_a.stencil, method_a.weights\n",
    "force_a = sum((psi(ρ_a[d]) * w_d * sp.Matrix(d)\n",
    "                for d, w_d in zip(stencil, weights)), \n",
    "               zero_vec) * psi(ρ_a.center) * -1 * g_aa"
   ]
  },
  {
   "cell_type": "markdown",
   "metadata": {},
   "source": [
    "## Kernels"
   ]
  },
  {
   "cell_type": "code",
   "execution_count": 6,
   "metadata": {},
   "outputs": [],
   "source": [
    "stream_a = create_stream_pull_with_output_kernel(method_a, src_a, dst_a, {'density': ρ_a})\n",
    "\n",
    "# TODO use method above\n",
    "collision_a = create_lb_update_rule(relaxation_rate=omega_a, \n",
    "                                    compressible=True,\n",
    "                                    force_model='guo', \n",
    "                                    force=force_a,\n",
    "                                    kernel_type='collide_only',\n",
    "                                    optimization={'symbolic_field': src_a})\n",
    "\n",
    "opts = {'cpu_openmp': False}\n",
    "stream_a_kernel = ps.create_kernel(stream_a, **opts).compile()\n",
    "collision_a_kernel = ps.create_kernel(collision_a, **opts).compile()"
   ]
  },
  {
   "cell_type": "markdown",
   "metadata": {},
   "source": [
    "## Initialization"
   ]
  },
  {
   "cell_type": "code",
   "execution_count": 7,
   "metadata": {},
   "outputs": [],
   "source": [
    "init_a = macroscopic_values_setter(method_a, velocity=(0, 0), \n",
    "                                   pdfs=src_a.center_vector, density=ρ_a.center)\n",
    "init_a_kernel = ps.create_kernel(init_a, ghost_layers=0).compile()"
   ]
  },
  {
   "cell_type": "code",
   "execution_count": 8,
   "metadata": {},
   "outputs": [],
   "source": [
    "def init():\n",
    "    for x in range(N):\n",
    "        for y in range(N):\n",
    "            if (x-N/2)**2 + (y-N/2)**2 <= 15**2:\n",
    "                dh.fill(ρ_a.name, 2.1, slice_obj=[x,y])\n",
    "            else:\n",
    "                dh.fill(ρ_a.name, 0.15, slice_obj=[x,y])\n",
    "\n",
    "    dh.run_kernel(init_a_kernel)"
   ]
  },
  {
   "cell_type": "markdown",
   "metadata": {},
   "source": [
    "## Timeloop"
   ]
  },
  {
   "cell_type": "code",
   "execution_count": 9,
   "metadata": {},
   "outputs": [],
   "source": [
    "sync_pdfs = dh.synchronization_function([src_a.name])\n",
    "sync_ρs = dh.synchronization_function([ρ_a.name])\n",
    "\n",
    "def time_loop(steps):\n",
    "    dh.all_to_gpu()\n",
    "    for i in range(steps):\n",
    "        sync_ρs()\n",
    "        dh.run_kernel(collision_a_kernel)\n",
    "        \n",
    "        sync_pdfs()\n",
    "        dh.run_kernel(stream_a_kernel)\n",
    "        \n",
    "        dh.swap(src_a.name, dst_a.name)\n",
    "    dh.all_to_cpu()"
   ]
  },
  {
   "cell_type": "code",
   "execution_count": 15,
   "metadata": {},
   "outputs": [],
   "source": [
    "def plot_ρs():\n",
    "    plt.title(\"$\\\\rho_A$\")\n",
    "    plt.scalar_field(dh.gather_array(ρ_a.name), vmin=0, vmax=2.5)\n",
    "    plt.colorbar()"
   ]
  },
  {
   "cell_type": "markdown",
   "metadata": {},
   "source": [
    "## Run the simulation\n",
    "### Initial state"
   ]
  },
  {
   "cell_type": "code",
   "execution_count": 16,
   "metadata": {},
   "outputs": [
    {
     "data": {
      "image/png": "[encoded data removed]",
      "text/plain": [
       "<Figure size 1152x432 with 2 Axes>"
      ]
     },
     "metadata": {
      "needs_background": "light"
     },
     "output_type": "display_data"
    }
   ],
   "source": [
    "init()\n",
    "plot_ρs()"
   ]
  },
  {
   "cell_type": "markdown",
   "metadata": {},
   "source": [
    "### Check the first time step against reference data\n",
    "\n",
    "The reference data was obtained with the [sample code](https://github.com/lbm-principles-practice/code/blob/master/chapter9/shanchen.cpp) after making the following changes:\n",
    "```c++\n",
    "const int nsteps = 1000;\n",
    "const int noutput = 1;\n",
    "```\n",
    "\n",
    "Remove the next cell if you changed the parameters at the beginning of this notebook."
   ]
  },
  {
   "cell_type": "code",
   "execution_count": 17,
   "metadata": {},
   "outputs": [],
   "source": [
    "init()\n",
    "time_loop(1)\n",
    "ref_a = np.array([0.15, 0.15, 0.15, 0.15, 0.15, 0.15, 0.15, 0.15, 0.15, 0.15, 0.15, 0.15, 0.15, 0.15, 0.15, 0.136756, 0.220324, 1.2382, 2.26247, 2.26183, 2.1, 2.1, 2.1, 2.1, 2.1, 2.1, 2.1, 2.1, 2.1, 2.1, 2.1, 2.1, 2.1, 2.1, 2.1, 2.1, 2.1, 2.1, 2.1, 2.1, 2.1, 2.1, 2.1, 2.1, 2.1, 2.26183, 2.26247, 1.2382, 0.220324, 0.136756, 0.15, 0.15, 0.15, 0.15, 0.15, 0.15, 0.15, 0.15, 0.15, 0.15, 0.15, 0.15, 0.15, 0.15])\n",
    "assert np.allclose(dh.gather_array(ρ_a.name)[N//2], ref_a)"
   ]
  },
  {
   "cell_type": "markdown",
   "metadata": {},
   "source": [
    "### Run the simulation until converged"
   ]
  },
  {
   "cell_type": "code",
   "execution_count": 18,
   "metadata": {},
   "outputs": [
    {
     "data": {
      "image/png": "[encoded data removed]",
      "text/plain": [
       "<Figure size 1152x432 with 2 Axes>"
      ]
     },
     "metadata": {
      "needs_background": "light"
     },
     "output_type": "display_data"
    }
   ],
   "source": [
    "init()\n",
    "time_loop(1000)\n",
    "plot_ρs()"
   ]
  },
  {
   "cell_type": "code",
   "execution_count": null,
   "metadata": {},
   "outputs": [],
   "source": []
  }
 ],
 "metadata": {
  "kernelspec": {
   "display_name": "Python 3",
   "language": "python",
   "name": "python3"
  },
  "language_info": {
   "codemirror_mode": {
    "name": "ipython",
    "version": 3
   },
   "file_extension": ".py",
   "mimetype": "text/x-python",
   "name": "python",
   "nbconvert_exporter": "python",
   "pygments_lexer": "ipython3",
   "version": "3.7.4"
  }
 },
 "nbformat": 4,
 "nbformat_minor": 2
}
